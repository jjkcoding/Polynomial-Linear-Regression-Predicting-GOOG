{
 "cells": [
  {
   "cell_type": "markdown",
   "id": "dbba5ef1",
   "metadata": {},
   "source": [
    "# Summary\n",
    "\n",
    "This project aims to predict future closing prices of GOOG stock by utilizing a Polynomial Linear Regression Model based on historical closing price data of GOOG and AAPL stocks as support. Through this project, the focus is to gain insights into Polynomial Regression Modeling, forecasting data, and constructing prediction intervals on a time series dataset. By analyzing the past trends of the stock market, this project seeks to forecast the potential outcomes of future GOOG closing prices with a higher degree of accuracy.\n"
   ]
  },
  {
   "cell_type": "markdown",
   "id": "2a542639",
   "metadata": {},
   "source": [
    "First, I import the necessary packages."
   ]
  },
  {
   "cell_type": "code",
   "execution_count": 14,
   "id": "ce52448c",
   "metadata": {},
   "outputs": [],
   "source": [
    "# !pip install ta\n",
    "# !pip install plotly\n",
    "\n",
    "import numpy as np\n",
    "import pandas as pd\n",
    "from sklearn.preprocessing import PolynomialFeatures\n",
    "from sklearn.linear_model import LinearRegression\n",
    "from sklearn.metrics import mean_squared_error\n",
    "from scipy.stats import t\n",
    "import yfinance as yf\n",
    "import datetime as dt\n",
    "import ta\n",
    "import plotly.express as px"
   ]
  },
  {
   "cell_type": "markdown",
   "id": "6d0ca3f6",
   "metadata": {},
   "source": [
    "Next, I set the date, stocks, and model parameters."
   ]
  },
  {
   "cell_type": "code",
   "execution_count": 15,
   "id": "ff880d79",
   "metadata": {},
   "outputs": [],
   "source": [
    "# Setting dates\n",
    "start_date = dt.date(2016, 1, 1)\n",
    "end_date = dt.date(2022, 4, 9) # Starting Prediction Date\n",
    "days_ahead = 21 # Predicted Days\n",
    "start_split = 14 # Training Data Start Date\n",
    "\n",
    "# Selecting Stock and Parameters used for model\n",
    "stock_name = \"GOOG\"\n",
    "alt_stocks = ['AAPL']\n",
    "dat_columns = ['Day', 'Month', 'Year', 'DOW', 'Bus_Day', 'Future_Day', 'Close', 'Price_Diff', 'SMA2','SMA3', 'CCI', 'Volume', 'RSI', 'Upper_Band', 'Lower_Band', 'MACD', 'Signal']\n",
    "alt_columns = ['Date', 'Volume', 'CCI', 'Close', 'Price_Diff']\n",
    "model_runs = 5\n",
    "ma1 = 20\n",
    "ma2 = 50\n",
    "ma3 = 200\n",
    "macd1 = 12\n",
    "macd2 = 26\n",
    "sig1 = 9"
   ]
  },
  {
   "cell_type": "markdown",
   "id": "f17d0fea",
   "metadata": {},
   "source": [
    "Here are a few functions needed to calculate certain parameters."
   ]
  },
  {
   "cell_type": "code",
   "execution_count": 16,
   "id": "c03069a2",
   "metadata": {},
   "outputs": [],
   "source": [
    "def calculate_rsi(stock_data, period=14):\n",
    "    diff = stock_data[\"Close\"].diff()\n",
    "    pos_diff = diff.where(diff > 0, 0)\n",
    "    neg_diff = diff.where(diff < 0, 0)\n",
    "    avg_gain = pos_diff.ewm(span=period, min_periods=period).mean()\n",
    "    avg_loss = neg_diff.ewm(span=period, min_periods=period).mean().abs()\n",
    "    rs = avg_gain / avg_loss\n",
    "    rsi = 100 - (100 / (1 + rs))\n",
    "    return rsi\n",
    "\n",
    "def calculate_bands(stock_data):\n",
    "    middle_band = stock_data.Close.rolling(window=20).mean()\n",
    "    std = stock_data.Close.rolling(window=20).std()\n",
    "    upper_band = middle_band + (std * 2)\n",
    "    lower_band = middle_band - (std * 2)\n",
    "    return upper_band, lower_band"
   ]
  },
  {
   "cell_type": "markdown",
   "id": "cc1764ea",
   "metadata": {},
   "source": [
    "Calculating the necessary parameters used for the model."
   ]
  },
  {
   "cell_type": "code",
   "execution_count": 17,
   "id": "62fb265d",
   "metadata": {},
   "outputs": [],
   "source": [
    "stock = yf.Ticker(stock_name)\n",
    "df = stock.history(start = start_date, end = end_date).reset_index()\n",
    "df = df[['Date', 'Open', 'High', 'Low', 'Close', 'Volume']]\n",
    "df.columns = ['Datetime', 'Open', 'High', 'Low', 'Close', 'Volume']\n",
    "df['Date'] = list(map(lambda x: x.date(), df.Datetime))\n",
    "df['Day'] = list(map(lambda x: x.day, df.Datetime))\n",
    "df['Month'] = list(map(lambda x: x.month, df.Datetime))\n",
    "df['Year'] = list(map(lambda x: x.year, df.Datetime))\n",
    "df['Price_Diff'] = (df.Close - df.Close.shift(1)) / df.Close.shift(1)\n",
    "df['SMA1'] = df['Close'].rolling(ma1).mean()\n",
    "df['SMA2'] = df['Close'].rolling(ma2).mean()\n",
    "df['SMA3'] = df['Close'].rolling(ma3).mean()\n",
    "df['CCI'] = ta.trend.cci(df['High'], df['Low'], df['Close'], window=20, constant=0.015)\n",
    "df['ATR'] = ta.volatility.average_true_range(df['High'], df['Low'], df['Close'], window=20)\n",
    "df['Bus_Day'] = list(map(lambda x: x.days, (df.Date - df.Date.shift(1))))\n",
    "df['DOW'] = list(map(lambda x: x.weekday(), df.Date))\n",
    "future_day = list(map(lambda x: x.days, (df.Date.shift(-1) - df.Date )))\n",
    "future_day[-1] = (end_date - df.Date[len(df)-1]).days\n",
    "df['Future_Day'] = future_day\n",
    "df['RSI'] = calculate_rsi(df)\n",
    "\n",
    "upper_band, lower_band = calculate_bands(df)\n",
    "df['Upper_Band'] = upper_band\n",
    "df['Lower_Band'] = lower_band\n",
    "\n",
    "ema_1 = df.Close.ewm(span=macd1).mean()\n",
    "ema_2 = df.Close.ewm(span=macd2).mean()\n",
    "df['MACD'] = ema_1 - ema_2\n",
    "df['Signal'] = df.MACD.ewm(span=sig1).mean()"
   ]
  },
  {
   "cell_type": "markdown",
   "id": "6d105513",
   "metadata": {},
   "source": [
    "Calculating the necessary parameters for alternative stocks (AAPL) and combining it to main dataframe."
   ]
  },
  {
   "cell_type": "code",
   "execution_count": 18,
   "id": "9b942a98",
   "metadata": {},
   "outputs": [
    {
     "data": {
      "text/html": [
       "<div>\n",
       "<style scoped>\n",
       "    .dataframe tbody tr th:only-of-type {\n",
       "        vertical-align: middle;\n",
       "    }\n",
       "\n",
       "    .dataframe tbody tr th {\n",
       "        vertical-align: top;\n",
       "    }\n",
       "\n",
       "    .dataframe thead th {\n",
       "        text-align: right;\n",
       "    }\n",
       "</style>\n",
       "<table border=\"1\" class=\"dataframe\">\n",
       "  <thead>\n",
       "    <tr style=\"text-align: right;\">\n",
       "      <th></th>\n",
       "      <th>Datetime</th>\n",
       "      <th>Open</th>\n",
       "      <th>High</th>\n",
       "      <th>Low</th>\n",
       "      <th>Close</th>\n",
       "      <th>Volume</th>\n",
       "      <th>Date</th>\n",
       "      <th>Day</th>\n",
       "      <th>Month</th>\n",
       "      <th>Year</th>\n",
       "      <th>...</th>\n",
       "      <th>Future_Day</th>\n",
       "      <th>RSI</th>\n",
       "      <th>Upper_Band</th>\n",
       "      <th>Lower_Band</th>\n",
       "      <th>MACD</th>\n",
       "      <th>Signal</th>\n",
       "      <th>Volume_AAPL</th>\n",
       "      <th>CCI_AAPL</th>\n",
       "      <th>Close_AAPL</th>\n",
       "      <th>Price_Diff_AAPL</th>\n",
       "    </tr>\n",
       "  </thead>\n",
       "  <tbody>\n",
       "    <tr>\n",
       "      <th>0</th>\n",
       "      <td>2016-10-17</td>\n",
       "      <td>38.990002</td>\n",
       "      <td>39.292500</td>\n",
       "      <td>38.875000</td>\n",
       "      <td>38.998001</td>\n",
       "      <td>21860000</td>\n",
       "      <td>2016-10-17</td>\n",
       "      <td>17</td>\n",
       "      <td>10</td>\n",
       "      <td>2016</td>\n",
       "      <td>...</td>\n",
       "      <td>1</td>\n",
       "      <td>51.829101</td>\n",
       "      <td>39.442489</td>\n",
       "      <td>38.467760</td>\n",
       "      <td>0.124545</td>\n",
       "      <td>0.135737</td>\n",
       "      <td>94499600</td>\n",
       "      <td>126.735276</td>\n",
       "      <td>27.320112</td>\n",
       "      <td>-0.018589</td>\n",
       "    </tr>\n",
       "    <tr>\n",
       "      <th>1</th>\n",
       "      <td>2016-10-18</td>\n",
       "      <td>39.392502</td>\n",
       "      <td>40.080502</td>\n",
       "      <td>39.278252</td>\n",
       "      <td>39.763000</td>\n",
       "      <td>41138000</td>\n",
       "      <td>2016-10-18</td>\n",
       "      <td>18</td>\n",
       "      <td>10</td>\n",
       "      <td>2016</td>\n",
       "      <td>...</td>\n",
       "      <td>1</td>\n",
       "      <td>70.352950</td>\n",
       "      <td>39.588172</td>\n",
       "      <td>38.441327</td>\n",
       "      <td>0.178658</td>\n",
       "      <td>0.144321</td>\n",
       "      <td>98214000</td>\n",
       "      <td>118.497584</td>\n",
       "      <td>27.301510</td>\n",
       "      <td>-0.018602</td>\n",
       "    </tr>\n",
       "    <tr>\n",
       "      <th>2</th>\n",
       "      <td>2016-10-19</td>\n",
       "      <td>39.911999</td>\n",
       "      <td>40.230000</td>\n",
       "      <td>39.901501</td>\n",
       "      <td>40.075001</td>\n",
       "      <td>35336000</td>\n",
       "      <td>2016-10-19</td>\n",
       "      <td>19</td>\n",
       "      <td>10</td>\n",
       "      <td>2016</td>\n",
       "      <td>...</td>\n",
       "      <td>1</td>\n",
       "      <td>74.895856</td>\n",
       "      <td>39.812739</td>\n",
       "      <td>38.343161</td>\n",
       "      <td>0.243907</td>\n",
       "      <td>0.164238</td>\n",
       "      <td>80138400</td>\n",
       "      <td>54.742987</td>\n",
       "      <td>27.220169</td>\n",
       "      <td>-0.081341</td>\n",
       "    </tr>\n",
       "    <tr>\n",
       "      <th>3</th>\n",
       "      <td>2016-10-20</td>\n",
       "      <td>40.165001</td>\n",
       "      <td>40.198502</td>\n",
       "      <td>39.801498</td>\n",
       "      <td>39.848499</td>\n",
       "      <td>35150000</td>\n",
       "      <td>2016-10-20</td>\n",
       "      <td>20</td>\n",
       "      <td>10</td>\n",
       "      <td>2016</td>\n",
       "      <td>...</td>\n",
       "      <td>1</td>\n",
       "      <td>66.376087</td>\n",
       "      <td>39.905842</td>\n",
       "      <td>38.298857</td>\n",
       "      <td>0.274180</td>\n",
       "      <td>0.186227</td>\n",
       "      <td>96503200</td>\n",
       "      <td>71.898394</td>\n",
       "      <td>27.206226</td>\n",
       "      <td>-0.013943</td>\n",
       "    </tr>\n",
       "    <tr>\n",
       "      <th>4</th>\n",
       "      <td>2016-10-21</td>\n",
       "      <td>39.750000</td>\n",
       "      <td>39.974998</td>\n",
       "      <td>39.700001</td>\n",
       "      <td>39.968498</td>\n",
       "      <td>25324000</td>\n",
       "      <td>2016-10-21</td>\n",
       "      <td>21</td>\n",
       "      <td>10</td>\n",
       "      <td>2016</td>\n",
       "      <td>...</td>\n",
       "      <td>3</td>\n",
       "      <td>68.562218</td>\n",
       "      <td>40.020684</td>\n",
       "      <td>38.246365</td>\n",
       "      <td>0.304347</td>\n",
       "      <td>0.209851</td>\n",
       "      <td>92770800</td>\n",
       "      <td>54.317430</td>\n",
       "      <td>27.099314</td>\n",
       "      <td>-0.106913</td>\n",
       "    </tr>\n",
       "  </tbody>\n",
       "</table>\n",
       "<p>5 rows × 28 columns</p>\n",
       "</div>"
      ],
      "text/plain": [
       "    Datetime       Open       High        Low      Close    Volume  \\\n",
       "0 2016-10-17  38.990002  39.292500  38.875000  38.998001  21860000   \n",
       "1 2016-10-18  39.392502  40.080502  39.278252  39.763000  41138000   \n",
       "2 2016-10-19  39.911999  40.230000  39.901501  40.075001  35336000   \n",
       "3 2016-10-20  40.165001  40.198502  39.801498  39.848499  35150000   \n",
       "4 2016-10-21  39.750000  39.974998  39.700001  39.968498  25324000   \n",
       "\n",
       "         Date  Day  Month  Year  ...  Future_Day        RSI  Upper_Band  \\\n",
       "0  2016-10-17   17     10  2016  ...           1  51.829101   39.442489   \n",
       "1  2016-10-18   18     10  2016  ...           1  70.352950   39.588172   \n",
       "2  2016-10-19   19     10  2016  ...           1  74.895856   39.812739   \n",
       "3  2016-10-20   20     10  2016  ...           1  66.376087   39.905842   \n",
       "4  2016-10-21   21     10  2016  ...           3  68.562218   40.020684   \n",
       "\n",
       "   Lower_Band      MACD    Signal  Volume_AAPL    CCI_AAPL  Close_AAPL  \\\n",
       "0   38.467760  0.124545  0.135737     94499600  126.735276   27.320112   \n",
       "1   38.441327  0.178658  0.144321     98214000  118.497584   27.301510   \n",
       "2   38.343161  0.243907  0.164238     80138400   54.742987   27.220169   \n",
       "3   38.298857  0.274180  0.186227     96503200   71.898394   27.206226   \n",
       "4   38.246365  0.304347  0.209851     92770800   54.317430   27.099314   \n",
       "\n",
       "   Price_Diff_AAPL  \n",
       "0        -0.018589  \n",
       "1        -0.018602  \n",
       "2        -0.081341  \n",
       "3        -0.013943  \n",
       "4        -0.106913  \n",
       "\n",
       "[5 rows x 28 columns]"
      ]
     },
     "execution_count": 18,
     "metadata": {},
     "output_type": "execute_result"
    }
   ],
   "source": [
    "for s_name in alt_stocks:\n",
    "    cur_stock_name = s_name\n",
    "    cur_stock = yf.Ticker(cur_stock_name)\n",
    "    cur_df = cur_stock.history(start = start_date, end = end_date).reset_index()\n",
    "    cur_df.Date = list(map(lambda x: x.date(), cur_df.Date))\n",
    "    cur_df['CCI'] = ta.trend.cci(cur_df['High'], cur_df['Low'], cur_df['Close'], window=20, constant=0.015)\n",
    "    cur_df['Price_Diff'] = cur_df.Close - cur_df.Close.shift(1)\n",
    "    cur_df['SMA2'] = cur_df['Close'].rolling(ma2).mean()\n",
    "    cur_df['SMA3'] = cur_df['Close'].rolling(ma3).mean()\n",
    "    cur_df['RSI'] = calculate_rsi(cur_df)\n",
    "    cur_upper, cur_lower = calculate_bands(cur_df)\n",
    "    cur_df['Upper_Band'] = cur_upper\n",
    "    cur_df['Lower_Band'] = cur_lower\n",
    "    cur_ema_1 = cur_df.Close.ewm(span=macd1).mean()\n",
    "    cur_ema_2 = cur_df.Close.ewm(span=macd2).mean()\n",
    "    cur_df['MACD'] = ema_1 - ema_2\n",
    "    cur_df['Signal'] = cur_df.MACD.ewm(span=sig1).mean()\n",
    "\n",
    "    cur_df = cur_df[alt_columns]\n",
    "    cur_rename_col = list(map(lambda x: x + \"_\"+cur_stock_name, cur_df.columns[1:]))\n",
    "    cur_df.columns = ['Date'] + cur_rename_col\n",
    "    df = pd.merge(df, cur_df, on='Date')\n",
    "    dat_columns += cur_rename_col\n",
    "\n",
    "df.dropna(inplace=True)\n",
    "df = df.reset_index(drop = True)\n",
    "df.head(5)"
   ]
  },
  {
   "cell_type": "markdown",
   "id": "96cd3130",
   "metadata": {},
   "source": [
    "Selecting last date for training data."
   ]
  },
  {
   "cell_type": "code",
   "execution_count": 19,
   "id": "7471c1b4",
   "metadata": {},
   "outputs": [
    {
     "name": "stdout",
     "output_type": "stream",
     "text": [
      "End Of Training Data: 2022-03-22\n"
     ]
    }
   ],
   "source": [
    "init_ind = len(df) - start_split\n",
    "init_date = df.Date[init_ind]\n",
    "print(\"End Of Training Data: \" + str(init_date))"
   ]
  },
  {
   "cell_type": "markdown",
   "id": "ac0eba8e",
   "metadata": {},
   "source": [
    "Setting up X and y values for Model"
   ]
  },
  {
   "cell_type": "code",
   "execution_count": 20,
   "id": "7e769ec5",
   "metadata": {},
   "outputs": [],
   "source": [
    "X = df[dat_columns][:init_ind-1-days_ahead].values\n",
    "y = df[\"Close\"][1:init_ind].values\n",
    "new_y = []\n",
    "for i in range(len(y)-days_ahead):\n",
    "    new_y.append(y[i:i+days_ahead])\n",
    "y = np.array(new_y)"
   ]
  },
  {
   "cell_type": "markdown",
   "id": "6660d35e",
   "metadata": {},
   "source": [
    "Training data with randomized dataset multiple times to reduce order bias."
   ]
  },
  {
   "cell_type": "code",
   "execution_count": 21,
   "id": "3e5c867a",
   "metadata": {},
   "outputs": [],
   "source": [
    "for i in range(model_runs):\n",
    "    rand_ind = np.random.choice(np.arange(0, len(X)), len(X), replace = False)\n",
    "    X_train = X[rand_ind]\n",
    "    y_train = y[rand_ind]\n",
    "\n",
    "    poly_features = PolynomialFeatures(degree=2)\n",
    "    X_train_poly = poly_features.fit_transform(X_train)\n",
    "\n",
    "    # MODEL\n",
    "    model = LinearRegression()\n",
    "    model.fit(X_train_poly, y_train)"
   ]
  },
  {
   "cell_type": "markdown",
   "id": "a8c1d79c",
   "metadata": {},
   "source": [
    "Making prediction based on latest data."
   ]
  },
  {
   "cell_type": "code",
   "execution_count": 22,
   "id": "2824f141",
   "metadata": {},
   "outputs": [
    {
     "name": "stdout",
     "output_type": "stream",
     "text": [
      "[130.51145419 125.40657807 120.74462711 116.05826337 112.35083993\n",
      " 112.15409228 109.46482368 111.3328011  111.55833218 112.39130332\n",
      " 109.22089086 104.88025062 103.435766   103.6983789  104.11148841\n",
      " 101.17434013 101.07988714  99.68243202 100.47286067 100.82545402\n",
      " 101.51764834]\n"
     ]
    }
   ],
   "source": [
    "latest_inputs = poly_features.transform(df.iloc[len(df)-1][dat_columns].values.reshape(1, -1))\n",
    "latest_pred = model.predict(latest_inputs)[0]\n",
    "print(latest_pred)"
   ]
  },
  {
   "cell_type": "markdown",
   "id": "554bf48b",
   "metadata": {},
   "source": [
    "Preparing data for analysis and visualization."
   ]
  },
  {
   "cell_type": "code",
   "execution_count": 23,
   "id": "31672204",
   "metadata": {},
   "outputs": [],
   "source": [
    "all_dates = df.Date.values\n",
    "all_close = df.Close.values\n",
    "latest_date = all_dates[-1]\n",
    "\n",
    "for i in range(days_ahead):\n",
    "    all_dates = np.append(all_dates, (latest_date + dt.timedelta(days = i+1)))\n",
    "    all_close = np.append(all_close, latest_pred[i])\n",
    "\n",
    "pred_indicator = np.append(np.repeat(\"Actual\", len(df)), np.repeat(\"Predicted\", days_ahead))\n",
    "final_graph_df = pd.DataFrame({'Date':all_dates, 'Close_Price':all_close, 'Label':pred_indicator})"
   ]
  },
  {
   "cell_type": "markdown",
   "id": "c2f49d87",
   "metadata": {},
   "source": [
    "Comparing actual vs predicted data and checking the absolute difference."
   ]
  },
  {
   "cell_type": "code",
   "execution_count": 24,
   "id": "2e896830",
   "metadata": {},
   "outputs": [
    {
     "name": "stdout",
     "output_type": "stream",
     "text": [
      "Actual - Expected:\n",
      "Latest Price: 134.010498046875\n",
      "          Date      Actual    Expected       Diff\n",
      "0   2022-04-11  129.796494  130.511454   0.714961\n",
      "1   2022-04-12  128.374496  125.406578   2.967918\n",
      "2   2022-04-13  130.285995  120.744627   9.541368\n",
      "3   2022-04-14  127.252998  116.058263  11.194735\n",
      "4   2022-04-18  127.960999  112.350840  15.610159\n",
      "5   2022-04-19  130.531006  112.154092  18.376914\n",
      "6   2022-04-20  128.245499  109.464824  18.780675\n",
      "7   2022-04-21  124.937500  111.332801  13.604699\n",
      "8   2022-04-22  119.613998  111.558332   8.055666\n",
      "9   2022-04-25  123.250000  112.391303  10.858697\n",
      "10  2022-04-26  119.505997  109.220891  10.285106\n",
      "11  2022-04-27  115.020500  104.880251  10.140250\n",
      "12  2022-04-28  119.411499  103.435766  15.975733\n",
      "13  2022-04-29  114.966499  103.698379  11.268120\n",
      "14  2022-05-02  117.156998  104.111488  13.045509\n",
      "15  2022-05-03  118.129501  101.174340  16.955161\n",
      "16  2022-05-04  122.574997  101.079887  21.495110\n",
      "17  2022-05-05  116.746498   99.682432  17.064066\n",
      "18  2022-05-06  115.660004  100.472861  15.187143\n",
      "19  2022-05-09  113.084000  100.825454  12.258546\n",
      "20  2022-05-10  114.584503  101.517648  13.066855\n",
      "Total Difference: 266.44739006565266\n"
     ]
    }
   ],
   "source": [
    "print(\"Actual - Expected:\")\n",
    "print(\"Latest Price: \" + str(df.Close.values[-1]))\n",
    "\n",
    "df_max = stock.history(start = end_date).reset_index()\n",
    "\n",
    "df_max['Date'] = list(map(lambda x: x.date(), df_max.Date))\n",
    "df_max = df_max[['Date','Close']]\n",
    "last_actual_vals = df_max[:days_ahead].Close.values\n",
    "\n",
    "all_final_diff = []\n",
    "all_dates = all_dates[:len(all_dates)-days_ahead]\n",
    "for i in range(days_ahead):\n",
    "    all_final_diff.append(abs(last_actual_vals[i] - latest_pred[i]))\n",
    "    all_dates = np.append(all_dates, df_max.Date.values[i])\n",
    "\n",
    "act_exp_df = pd.DataFrame({'Date':df_max[:days_ahead].Date, 'Actual':last_actual_vals, 'Expected':latest_pred, 'Diff':all_final_diff })\n",
    "print(act_exp_df)\n",
    "print(\"Total Difference: \" + str(sum(all_final_diff)))\n",
    "\n",
    "final_graph_df = pd.DataFrame({'Date':all_dates, 'Close_Price':all_close, 'Label':pred_indicator})\n",
    "final_graph_df = pd.concat([final_graph_df, pd.DataFrame({'Date':act_exp_df.Date, 'Close_Price':act_exp_df.Actual, 'Label':np.repeat(\"Actual\", days_ahead)})])\n",
    "\n",
    "final_graph_df['Year'] = list(map(lambda x: x.year, final_graph_df.Date))\n",
    "final_graph_df['DOY_Label'] = list(map(lambda x: int(x.strftime('%j')), final_graph_df.Date))\n",
    "\n",
    "final_pred_df = final_graph_df[final_graph_df.Label == \"Predicted\"].reset_index(drop = True)\n",
    "final_graph_df = final_graph_df[final_graph_df.Label == \"Actual\"].reset_index(drop = True)"
   ]
  },
  {
   "cell_type": "markdown",
   "id": "9c6db1f3",
   "metadata": {},
   "source": [
    "The initial predicted values of the regression model show a relatively high degree of proximity to the actual data values. However, as the model proceeds to predict more data points, its accuracy decreases."
   ]
  },
  {
   "cell_type": "markdown",
   "id": "952a726a",
   "metadata": {},
   "source": [
    "Creating prediction interval of 68% and 90% confidence for visualization."
   ]
  },
  {
   "cell_type": "code",
   "execution_count": 25,
   "id": "5aeba586",
   "metadata": {},
   "outputs": [
    {
     "data": {
      "text/html": [
       "<div>\n",
       "<style scoped>\n",
       "    .dataframe tbody tr th:only-of-type {\n",
       "        vertical-align: middle;\n",
       "    }\n",
       "\n",
       "    .dataframe tbody tr th {\n",
       "        vertical-align: top;\n",
       "    }\n",
       "\n",
       "    .dataframe thead th {\n",
       "        text-align: right;\n",
       "    }\n",
       "</style>\n",
       "<table border=\"1\" class=\"dataframe\">\n",
       "  <thead>\n",
       "    <tr style=\"text-align: right;\">\n",
       "      <th></th>\n",
       "      <th>Date</th>\n",
       "      <th>DOY_Label</th>\n",
       "      <th>Lower1</th>\n",
       "      <th>Upper1</th>\n",
       "      <th>Lower2</th>\n",
       "      <th>Upper2</th>\n",
       "    </tr>\n",
       "  </thead>\n",
       "  <tbody>\n",
       "    <tr>\n",
       "      <th>0</th>\n",
       "      <td>2022-04-11</td>\n",
       "      <td>101</td>\n",
       "      <td>116.916943</td>\n",
       "      <td>144.105966</td>\n",
       "      <td>108.148483</td>\n",
       "      <td>152.874426</td>\n",
       "    </tr>\n",
       "    <tr>\n",
       "      <th>1</th>\n",
       "      <td>2022-04-12</td>\n",
       "      <td>102</td>\n",
       "      <td>111.812066</td>\n",
       "      <td>139.001090</td>\n",
       "      <td>103.043607</td>\n",
       "      <td>147.769550</td>\n",
       "    </tr>\n",
       "    <tr>\n",
       "      <th>2</th>\n",
       "      <td>2022-04-13</td>\n",
       "      <td>103</td>\n",
       "      <td>107.150116</td>\n",
       "      <td>134.339139</td>\n",
       "      <td>98.381656</td>\n",
       "      <td>143.107599</td>\n",
       "    </tr>\n",
       "    <tr>\n",
       "      <th>3</th>\n",
       "      <td>2022-04-14</td>\n",
       "      <td>104</td>\n",
       "      <td>102.463752</td>\n",
       "      <td>129.652775</td>\n",
       "      <td>93.695292</td>\n",
       "      <td>138.421235</td>\n",
       "    </tr>\n",
       "    <tr>\n",
       "      <th>4</th>\n",
       "      <td>2022-04-18</td>\n",
       "      <td>108</td>\n",
       "      <td>98.756328</td>\n",
       "      <td>125.945352</td>\n",
       "      <td>89.987868</td>\n",
       "      <td>134.713811</td>\n",
       "    </tr>\n",
       "  </tbody>\n",
       "</table>\n",
       "</div>"
      ],
      "text/plain": [
       "         Date  DOY_Label      Lower1      Upper1      Lower2      Upper2\n",
       "0  2022-04-11        101  116.916943  144.105966  108.148483  152.874426\n",
       "1  2022-04-12        102  111.812066  139.001090  103.043607  147.769550\n",
       "2  2022-04-13        103  107.150116  134.339139   98.381656  143.107599\n",
       "3  2022-04-14        104  102.463752  129.652775   93.695292  138.421235\n",
       "4  2022-04-18        108   98.756328  125.945352   89.987868  134.713811"
      ]
     },
     "execution_count": 25,
     "metadata": {},
     "output_type": "execute_result"
    }
   ],
   "source": [
    "# PI = ŷ ± z*σ(ε_t)\n",
    "\n",
    "residual_std = np.sqrt(mean_squared_error(last_actual_vals, latest_pred))\n",
    "\n",
    "z_score1 = 1.00  # For 68% confidence interval\n",
    "z_score2 = 1.645  # For 90% confidence interval\n",
    "\n",
    "all_lower1 = []\n",
    "all_upper1 = []\n",
    "all_lower2 = []\n",
    "all_upper2 = []\n",
    "for i in range(days_ahead):\n",
    "    all_lower1.append(latest_pred[i] - z_score1 * residual_std)\n",
    "    all_upper1.append(latest_pred[i] + z_score1 * residual_std)\n",
    "    \n",
    "    all_lower2.append(latest_pred[i] - z_score2 * residual_std)\n",
    "    all_upper2.append(latest_pred[i] + z_score2 * residual_std)\n",
    "\n",
    "ci_df = pd.DataFrame({'Date': final_pred_df.Date, 'DOY_Label':final_pred_df.DOY_Label, 'Lower1':all_lower1, 'Upper1':all_upper1, 'Lower2':all_lower2, 'Upper2':all_upper2})\n",
    "ci_df.head()"
   ]
  },
  {
   "cell_type": "markdown",
   "id": "6edf5c5b",
   "metadata": {},
   "source": [
    "Graphing GOOG closing prices with forecasted predictions and prediction interval."
   ]
  },
  {
   "cell_type": "code",
   "execution_count": 26,
   "id": "ba37e1e9",
   "metadata": {},
   "outputs": [
    {
     "data": {
      "application/vnd.plotly.v1+json": {
       "config": {
        "plotlyServerURL": "https://plot.ly"
       },
       "data": [
        {
         "connectgaps": true,
         "customdata": [
          [
           "2016-10-17"
          ],
          [
           "2016-10-18"
          ],
          [
           "2016-10-19"
          ],
          [
           "2016-10-20"
          ],
          [
           "2016-10-21"
          ],
          [
           "2016-10-24"
          ],
          [
           "2016-10-25"
          ],
          [
           "2016-10-26"
          ],
          [
           "2016-10-27"
          ],
          [
           "2016-10-28"
          ],
          [
           "2016-10-31"
          ],
          [
           "2016-11-01"
          ],
          [
           "2016-11-02"
          ],
          [
           "2016-11-03"
          ],
          [
           "2016-11-04"
          ],
          [
           "2016-11-07"
          ],
          [
           "2016-11-08"
          ],
          [
           "2016-11-09"
          ],
          [
           "2016-11-10"
          ],
          [
           "2016-11-11"
          ],
          [
           "2016-11-14"
          ],
          [
           "2016-11-15"
          ],
          [
           "2016-11-16"
          ],
          [
           "2016-11-17"
          ],
          [
           "2016-11-18"
          ],
          [
           "2016-11-21"
          ],
          [
           "2016-11-22"
          ],
          [
           "2016-11-23"
          ],
          [
           "2016-11-25"
          ],
          [
           "2016-11-28"
          ],
          [
           "2016-11-29"
          ],
          [
           "2016-11-30"
          ],
          [
           "2016-12-01"
          ],
          [
           "2016-12-02"
          ],
          [
           "2016-12-05"
          ],
          [
           "2016-12-06"
          ],
          [
           "2016-12-07"
          ],
          [
           "2016-12-08"
          ],
          [
           "2016-12-09"
          ],
          [
           "2016-12-12"
          ],
          [
           "2016-12-13"
          ],
          [
           "2016-12-14"
          ],
          [
           "2016-12-15"
          ],
          [
           "2016-12-16"
          ],
          [
           "2016-12-19"
          ],
          [
           "2016-12-20"
          ],
          [
           "2016-12-21"
          ],
          [
           "2016-12-22"
          ],
          [
           "2016-12-23"
          ],
          [
           "2016-12-27"
          ],
          [
           "2016-12-28"
          ],
          [
           "2016-12-29"
          ],
          [
           "2016-12-30"
          ]
         ],
         "hovertemplate": "Year=2016<br>variable=Close_Price<br>value=%{y}<br>Date=%{customdata[0]|%B %d, %Y}<extra></extra>",
         "legendgroup": "2016",
         "line": {
          "color": "#636efa",
          "dash": "solid"
         },
         "marker": {
          "symbol": "circle"
         },
         "mode": "markers+lines",
         "name": "2016",
         "showlegend": true,
         "type": "scattergl",
         "x": [
          291,
          292,
          293,
          294,
          295,
          298,
          299,
          300,
          301,
          302,
          305,
          306,
          307,
          308,
          309,
          312,
          313,
          314,
          315,
          316,
          319,
          320,
          321,
          322,
          323,
          326,
          327,
          328,
          330,
          333,
          334,
          335,
          336,
          337,
          340,
          341,
          342,
          343,
          344,
          347,
          348,
          349,
          350,
          351,
          354,
          355,
          356,
          357,
          358,
          362,
          363,
          364,
          365
         ],
         "xaxis": "x",
         "y": [
          38.99800109863281,
          39.76300048828125,
          40.07500076293945,
          39.8484992980957,
          39.96849822998047,
          40.65549850463867,
          40.38349914550781,
          39.95349884033203,
          39.76750183105469,
          39.76850128173828,
          39.22700119018555,
          39.18050003051758,
          38.435001373291016,
          38.10649871826172,
          38.10100173950195,
          39.125999450683594,
          39.5255012512207,
          39.265499114990234,
          38.12799835205078,
          37.70100021362305,
          36.80400085449219,
          37.92449951171875,
          38.2239990234375,
          38.561500549316406,
          38.027000427246094,
          38.459999084472656,
          38.41350173950195,
          38.04949951171875,
          38.08399963378906,
          38.4119987487793,
          38.54199981689453,
          37.902000427246094,
          37.395999908447266,
          37.525001525878906,
          38.125999450683594,
          37.955501556396484,
          38.55950164794922,
          38.82099914550781,
          39.464500427246094,
          39.4635009765625,
          39.80500030517578,
          39.85350036621094,
          39.89250183105469,
          39.540000915527344,
          39.709999084472656,
          39.82099914550781,
          39.72800064086914,
          39.5629997253418,
          39.49549865722656,
          39.57749938964844,
          39.252498626708984,
          39.13949966430664,
          38.590999603271484
         ],
         "yaxis": "y"
        },
        {
         "connectgaps": true,
         "customdata": [
          [
           "2017-01-03"
          ],
          [
           "2017-01-04"
          ],
          [
           "2017-01-05"
          ],
          [
           "2017-01-06"
          ],
          [
           "2017-01-09"
          ],
          [
           "2017-01-10"
          ],
          [
           "2017-01-11"
          ],
          [
           "2017-01-12"
          ],
          [
           "2017-01-13"
          ],
          [
           "2017-01-17"
          ],
          [
           "2017-01-18"
          ],
          [
           "2017-01-19"
          ],
          [
           "2017-01-20"
          ],
          [
           "2017-01-23"
          ],
          [
           "2017-01-24"
          ],
          [
           "2017-01-25"
          ],
          [
           "2017-01-26"
          ],
          [
           "2017-01-27"
          ],
          [
           "2017-01-30"
          ],
          [
           "2017-01-31"
          ],
          [
           "2017-02-01"
          ],
          [
           "2017-02-02"
          ],
          [
           "2017-02-03"
          ],
          [
           "2017-02-06"
          ],
          [
           "2017-02-07"
          ],
          [
           "2017-02-08"
          ],
          [
           "2017-02-09"
          ],
          [
           "2017-02-10"
          ],
          [
           "2017-02-13"
          ],
          [
           "2017-02-14"
          ],
          [
           "2017-02-15"
          ],
          [
           "2017-02-16"
          ],
          [
           "2017-02-17"
          ],
          [
           "2017-02-21"
          ],
          [
           "2017-02-22"
          ],
          [
           "2017-02-23"
          ],
          [
           "2017-02-24"
          ],
          [
           "2017-02-27"
          ],
          [
           "2017-02-28"
          ],
          [
           "2017-03-01"
          ],
          [
           "2017-03-02"
          ],
          [
           "2017-03-03"
          ],
          [
           "2017-03-06"
          ],
          [
           "2017-03-07"
          ],
          [
           "2017-03-08"
          ],
          [
           "2017-03-09"
          ],
          [
           "2017-03-10"
          ],
          [
           "2017-03-13"
          ],
          [
           "2017-03-14"
          ],
          [
           "2017-03-15"
          ],
          [
           "2017-03-16"
          ],
          [
           "2017-03-17"
          ],
          [
           "2017-03-20"
          ],
          [
           "2017-03-21"
          ],
          [
           "2017-03-22"
          ],
          [
           "2017-03-23"
          ],
          [
           "2017-03-24"
          ],
          [
           "2017-03-27"
          ],
          [
           "2017-03-28"
          ],
          [
           "2017-03-29"
          ],
          [
           "2017-03-30"
          ],
          [
           "2017-03-31"
          ],
          [
           "2017-04-03"
          ],
          [
           "2017-04-04"
          ],
          [
           "2017-04-05"
          ],
          [
           "2017-04-06"
          ],
          [
           "2017-04-07"
          ],
          [
           "2017-04-10"
          ],
          [
           "2017-04-11"
          ],
          [
           "2017-04-12"
          ],
          [
           "2017-04-13"
          ],
          [
           "2017-04-17"
          ],
          [
           "2017-04-18"
          ],
          [
           "2017-04-19"
          ],
          [
           "2017-04-20"
          ],
          [
           "2017-04-21"
          ],
          [
           "2017-04-24"
          ],
          [
           "2017-04-25"
          ],
          [
           "2017-04-26"
          ],
          [
           "2017-04-27"
          ],
          [
           "2017-04-28"
          ],
          [
           "2017-05-01"
          ],
          [
           "2017-05-02"
          ],
          [
           "2017-05-03"
          ],
          [
           "2017-05-04"
          ],
          [
           "2017-05-05"
          ],
          [
           "2017-05-08"
          ],
          [
           "2017-05-09"
          ],
          [
           "2017-05-10"
          ],
          [
           "2017-05-11"
          ],
          [
           "2017-05-12"
          ],
          [
           "2017-05-15"
          ],
          [
           "2017-05-16"
          ],
          [
           "2017-05-17"
          ],
          [
           "2017-05-18"
          ],
          [
           "2017-05-19"
          ],
          [
           "2017-05-22"
          ],
          [
           "2017-05-23"
          ],
          [
           "2017-05-24"
          ],
          [
           "2017-05-25"
          ],
          [
           "2017-05-26"
          ],
          [
           "2017-05-30"
          ],
          [
           "2017-05-31"
          ],
          [
           "2017-06-01"
          ],
          [
           "2017-06-02"
          ],
          [
           "2017-06-05"
          ],
          [
           "2017-06-06"
          ],
          [
           "2017-06-07"
          ],
          [
           "2017-06-08"
          ],
          [
           "2017-06-09"
          ],
          [
           "2017-06-12"
          ],
          [
           "2017-06-13"
          ],
          [
           "2017-06-14"
          ],
          [
           "2017-06-15"
          ],
          [
           "2017-06-16"
          ],
          [
           "2017-06-19"
          ],
          [
           "2017-06-20"
          ],
          [
           "2017-06-21"
          ],
          [
           "2017-06-22"
          ],
          [
           "2017-06-23"
          ],
          [
           "2017-06-26"
          ],
          [
           "2017-06-27"
          ],
          [
           "2017-06-28"
          ],
          [
           "2017-06-29"
          ],
          [
           "2017-06-30"
          ],
          [
           "2017-07-03"
          ],
          [
           "2017-07-05"
          ],
          [
           "2017-07-06"
          ],
          [
           "2017-07-07"
          ],
          [
           "2017-07-10"
          ],
          [
           "2017-07-11"
          ],
          [
           "2017-07-12"
          ],
          [
           "2017-07-13"
          ],
          [
           "2017-07-14"
          ],
          [
           "2017-07-17"
          ],
          [
           "2017-07-18"
          ],
          [
           "2017-07-19"
          ],
          [
           "2017-07-20"
          ],
          [
           "2017-07-21"
          ],
          [
           "2017-07-24"
          ],
          [
           "2017-07-25"
          ],
          [
           "2017-07-26"
          ],
          [
           "2017-07-27"
          ],
          [
           "2017-07-28"
          ],
          [
           "2017-07-31"
          ],
          [
           "2017-08-01"
          ],
          [
           "2017-08-02"
          ],
          [
           "2017-08-03"
          ],
          [
           "2017-08-04"
          ],
          [
           "2017-08-07"
          ],
          [
           "2017-08-08"
          ],
          [
           "2017-08-09"
          ],
          [
           "2017-08-10"
          ],
          [
           "2017-08-11"
          ],
          [
           "2017-08-14"
          ],
          [
           "2017-08-15"
          ],
          [
           "2017-08-16"
          ],
          [
           "2017-08-17"
          ],
          [
           "2017-08-18"
          ],
          [
           "2017-08-21"
          ],
          [
           "2017-08-22"
          ],
          [
           "2017-08-23"
          ],
          [
           "2017-08-24"
          ],
          [
           "2017-08-25"
          ],
          [
           "2017-08-28"
          ],
          [
           "2017-08-29"
          ],
          [
           "2017-08-30"
          ],
          [
           "2017-08-31"
          ],
          [
           "2017-09-01"
          ],
          [
           "2017-09-05"
          ],
          [
           "2017-09-06"
          ],
          [
           "2017-09-07"
          ],
          [
           "2017-09-08"
          ],
          [
           "2017-09-11"
          ],
          [
           "2017-09-12"
          ],
          [
           "2017-09-13"
          ],
          [
           "2017-09-14"
          ],
          [
           "2017-09-15"
          ],
          [
           "2017-09-18"
          ],
          [
           "2017-09-19"
          ],
          [
           "2017-09-20"
          ],
          [
           "2017-09-21"
          ],
          [
           "2017-09-22"
          ],
          [
           "2017-09-25"
          ],
          [
           "2017-09-26"
          ],
          [
           "2017-09-27"
          ],
          [
           "2017-09-28"
          ],
          [
           "2017-09-29"
          ],
          [
           "2017-10-02"
          ],
          [
           "2017-10-03"
          ],
          [
           "2017-10-04"
          ],
          [
           "2017-10-05"
          ],
          [
           "2017-10-06"
          ],
          [
           "2017-10-09"
          ],
          [
           "2017-10-10"
          ],
          [
           "2017-10-11"
          ],
          [
           "2017-10-12"
          ],
          [
           "2017-10-13"
          ],
          [
           "2017-10-16"
          ],
          [
           "2017-10-17"
          ],
          [
           "2017-10-18"
          ],
          [
           "2017-10-19"
          ],
          [
           "2017-10-20"
          ],
          [
           "2017-10-23"
          ],
          [
           "2017-10-24"
          ],
          [
           "2017-10-25"
          ],
          [
           "2017-10-26"
          ],
          [
           "2017-10-27"
          ],
          [
           "2017-10-30"
          ],
          [
           "2017-10-31"
          ],
          [
           "2017-11-01"
          ],
          [
           "2017-11-02"
          ],
          [
           "2017-11-03"
          ],
          [
           "2017-11-06"
          ],
          [
           "2017-11-07"
          ],
          [
           "2017-11-08"
          ],
          [
           "2017-11-09"
          ],
          [
           "2017-11-10"
          ],
          [
           "2017-11-13"
          ],
          [
           "2017-11-14"
          ],
          [
           "2017-11-15"
          ],
          [
           "2017-11-16"
          ],
          [
           "2017-11-17"
          ],
          [
           "2017-11-20"
          ],
          [
           "2017-11-21"
          ],
          [
           "2017-11-22"
          ],
          [
           "2017-11-24"
          ],
          [
           "2017-11-27"
          ],
          [
           "2017-11-28"
          ],
          [
           "2017-11-29"
          ],
          [
           "2017-11-30"
          ],
          [
           "2017-12-01"
          ],
          [
           "2017-12-04"
          ],
          [
           "2017-12-05"
          ],
          [
           "2017-12-06"
          ],
          [
           "2017-12-07"
          ],
          [
           "2017-12-08"
          ],
          [
           "2017-12-11"
          ],
          [
           "2017-12-12"
          ],
          [
           "2017-12-13"
          ],
          [
           "2017-12-14"
          ],
          [
           "2017-12-15"
          ],
          [
           "2017-12-18"
          ],
          [
           "2017-12-19"
          ],
          [
           "2017-12-20"
          ],
          [
           "2017-12-21"
          ],
          [
           "2017-12-22"
          ],
          [
           "2017-12-26"
          ],
          [
           "2017-12-27"
          ],
          [
           "2017-12-28"
          ],
          [
           "2017-12-29"
          ]
         ],
         "hovertemplate": "Year=2017<br>variable=Close_Price<br>value=%{y}<br>Date=%{customdata[0]|%B %d, %Y}<extra></extra>",
         "legendgroup": "2017",
         "line": {
          "color": "#EF553B",
          "dash": "solid"
         },
         "marker": {
          "symbol": "circle"
         },
         "mode": "markers+lines",
         "name": "2017",
         "showlegend": true,
         "type": "scattergl",
         "x": [
          3,
          4,
          5,
          6,
          9,
          10,
          11,
          12,
          13,
          17,
          18,
          19,
          20,
          23,
          24,
          25,
          26,
          27,
          30,
          31,
          32,
          33,
          34,
          37,
          38,
          39,
          40,
          41,
          44,
          45,
          46,
          47,
          48,
          52,
          53,
          54,
          55,
          58,
          59,
          60,
          61,
          62,
          65,
          66,
          67,
          68,
          69,
          72,
          73,
          74,
          75,
          76,
          79,
          80,
          81,
          82,
          83,
          86,
          87,
          88,
          89,
          90,
          93,
          94,
          95,
          96,
          97,
          100,
          101,
          102,
          103,
          107,
          108,
          109,
          110,
          111,
          114,
          115,
          116,
          117,
          118,
          121,
          122,
          123,
          124,
          125,
          128,
          129,
          130,
          131,
          132,
          135,
          136,
          137,
          138,
          139,
          142,
          143,
          144,
          145,
          146,
          150,
          151,
          152,
          153,
          156,
          157,
          158,
          159,
          160,
          163,
          164,
          165,
          166,
          167,
          170,
          171,
          172,
          173,
          174,
          177,
          178,
          179,
          180,
          181,
          184,
          186,
          187,
          188,
          191,
          192,
          193,
          194,
          195,
          198,
          199,
          200,
          201,
          202,
          205,
          206,
          207,
          208,
          209,
          212,
          213,
          214,
          215,
          216,
          219,
          220,
          221,
          222,
          223,
          226,
          227,
          228,
          229,
          230,
          233,
          234,
          235,
          236,
          237,
          240,
          241,
          242,
          243,
          244,
          248,
          249,
          250,
          251,
          254,
          255,
          256,
          257,
          258,
          261,
          262,
          263,
          264,
          265,
          268,
          269,
          270,
          271,
          272,
          275,
          276,
          277,
          278,
          279,
          282,
          283,
          284,
          285,
          286,
          289,
          290,
          291,
          292,
          293,
          296,
          297,
          298,
          299,
          300,
          303,
          304,
          305,
          306,
          307,
          310,
          311,
          312,
          313,
          314,
          317,
          318,
          319,
          320,
          321,
          324,
          325,
          326,
          328,
          331,
          332,
          333,
          334,
          335,
          338,
          339,
          340,
          341,
          342,
          345,
          346,
          347,
          348,
          349,
          352,
          353,
          354,
          355,
          356,
          360,
          361,
          362,
          363
         ],
         "xaxis": "x",
         "y": [
          39.30699920654297,
          39.345001220703125,
          39.70100021362305,
          40.307498931884766,
          40.33250045776367,
          40.239498138427734,
          40.39550018310547,
          40.31800079345703,
          40.39400100708008,
          40.230499267578125,
          40.30350112915039,
          40.10874938964844,
          40.250999450683594,
          40.96549987792969,
          41.19350051879883,
          41.78350067138672,
          41.60749816894531,
          41.16550064086914,
          40.11600112915039,
          39.839500427246094,
          39.784751892089844,
          39.92649841308594,
          40.074501037597656,
          40.06700134277344,
          40.3484992980957,
          40.41899871826172,
          40.47800064086914,
          40.68349838256836,
          40.96200180053711,
          41.022499084472656,
          40.94900131225586,
          41.20800018310547,
          41.403499603271484,
          41.58300018310547,
          41.53799819946289,
          41.56650161743164,
          41.43199920654297,
          41.4640007019043,
          41.160499572753906,
          41.762001037597656,
          41.53150177001953,
          41.45399856567383,
          41.388999938964844,
          41.59550094604492,
          41.76850128173828,
          41.933998107910156,
          42.162498474121094,
          42.277000427246094,
          42.28099822998047,
          42.36000061035156,
          42.43899917602539,
          42.60599899291992,
          42.41999816894531,
          41.52299880981445,
          41.47949981689453,
          40.87900161743164,
          40.721500396728516,
          40.97549819946289,
          41.04600143432617,
          41.570499420166016,
          41.57500076293945,
          41.47800064086914,
          41.9275016784668,
          41.72850036621094,
          41.570499420166016,
          41.39400100708008,
          41.23350143432617,
          41.23649978637695,
          41.16749954223633,
          41.215999603271484,
          41.178001403808594,
          41.85850143432617,
          41.840999603271484,
          41.910499572753906,
          42.08250045776367,
          42.15950012207031,
          43.13800048828125,
          43.6150016784668,
          43.58649826049805,
          43.712501525878906,
          45.29800033569336,
          45.628501892089844,
          45.821998596191406,
          46.35200119018555,
          46.58300018310547,
          46.35649871826172,
          46.71500015258789,
          46.60850143432617,
          46.43899917602539,
          46.529998779296875,
          46.611000061035156,
          46.854000091552734,
          47.150001525878906,
          45.98099899291992,
          46.512001037597656,
          46.70050048828125,
          47.09299850463867,
          47.441001892089844,
          47.74800109863281,
          48.47700119018555,
          48.57350158691406,
          48.79399871826172,
          48.24300003051758,
          48.34749984741211,
          48.779998779296875,
          49.183998107910156,
          48.82849884033203,
          49.047000885009766,
          49.170501708984375,
          47.49150085449219,
          47.14500045776367,
          47.66999816894531,
          47.53799819946289,
          47.115501403808594,
          46.98899841308594,
          47.868499755859375,
          47.53150177001953,
          47.97249984741211,
          47.85449981689453,
          48.27949905395508,
          47.61349868774414,
          46.36650085449219,
          47.02450180053711,
          45.88949966430664,
          45.436500549316406,
          44.935001373291016,
          45.58549880981445,
          45.33449935913086,
          45.929500579833984,
          46.439998626708984,
          46.50450134277344,
          47.19150161743164,
          47.358001708984375,
          47.79949951171875,
          47.67100143432617,
          48.27000045776367,
          48.544498443603516,
          48.407501220703125,
          48.645999908447266,
          49.016998291015625,
          47.53499984741211,
          47.38999938964844,
          46.704498291015625,
          47.076499938964844,
          46.525001525878906,
          46.541500091552734,
          46.519500732421875,
          46.182498931884766,
          46.39799880981445,
          46.46799850463867,
          46.339500427246094,
          46.14500045776367,
          45.36199951171875,
          45.71950149536133,
          46.13349914550781,
          46.111000061035156,
          46.347999572753906,
          45.54899978637695,
          45.53350067138672,
          45.33300018310547,
          46.234500885009766,
          46.349998474121094,
          46.06399917602539,
          45.794498443603516,
          45.69049835205078,
          46.06449890136719,
          46.47850036621094,
          46.96649932861328,
          46.867000579833984,
          46.42250061035156,
          46.390499114990234,
          46.79750061035156,
          46.32500076293945,
          46.45399856567383,
          46.60350036621094,
          46.75450134277344,
          46.25550079345703,
          46.01449966430664,
          45.75,
          46.09049987792969,
          46.57899856567383,
          46.622501373291016,
          46.42649841308594,
          46.048500061035156,
          46.24300003051758,
          47.2244987487793,
          47.474998474121094,
          47.955501556396484,
          47.66350173950195,
          47.88949966430664,
          47.58399963378906,
          48.49800109863281,
          48.94449996948242,
          48.849998474121094,
          48.630001068115234,
          49.462501525878906,
          49.39149856567383,
          49.48400115966797,
          49.599998474121094,
          49.60900115966797,
          49.640499114990234,
          49.22249984741211,
          49.40999984741211,
          48.42250061035156,
          48.527000427246094,
          48.666500091552734,
          48.62799835205078,
          50.9635009765625,
          50.855499267578125,
          50.832000732421875,
          51.275001525878906,
          51.27899932861328,
          51.624000549316406,
          51.29499816894531,
          51.666500091552734,
          51.99250030517578,
          51.5629997253418,
          51.403499603271484,
          51.287498474121094,
          51.29999923706055,
          51.045501708984375,
          51.625,
          50.954498291015625,
          50.91899871826172,
          51.7244987487793,
          51.79800033569336,
          52.03049850463867,
          52.71049880981445,
          52.37049865722656,
          51.08300018310547,
          51.070499420166016,
          50.50849914550781,
          49.933998107910156,
          50.25749969482422,
          50.91899871826172,
          51.54650115966797,
          51.852500915527344,
          52.05500030517578,
          52.02399826049805,
          52.03049850463867,
          52.45750045776367,
          53.20949935913086,
          53.856998443603516,
          53.534000396728516,
          53.247501373291016,
          53.18149948120117,
          53.00600051879883,
          52.83700180053711,
          52.46849822998047,
          52.40700149536133,
          52.31999969482422
         ],
         "yaxis": "y"
        },
        {
         "connectgaps": true,
         "customdata": [
          [
           "2018-01-02"
          ],
          [
           "2018-01-03"
          ],
          [
           "2018-01-04"
          ],
          [
           "2018-01-05"
          ],
          [
           "2018-01-08"
          ],
          [
           "2018-01-09"
          ],
          [
           "2018-01-10"
          ],
          [
           "2018-01-11"
          ],
          [
           "2018-01-12"
          ],
          [
           "2018-01-16"
          ],
          [
           "2018-01-17"
          ],
          [
           "2018-01-18"
          ],
          [
           "2018-01-19"
          ],
          [
           "2018-01-22"
          ],
          [
           "2018-01-23"
          ],
          [
           "2018-01-24"
          ],
          [
           "2018-01-25"
          ],
          [
           "2018-01-26"
          ],
          [
           "2018-01-29"
          ],
          [
           "2018-01-30"
          ],
          [
           "2018-01-31"
          ],
          [
           "2018-02-01"
          ],
          [
           "2018-02-02"
          ],
          [
           "2018-02-05"
          ],
          [
           "2018-02-06"
          ],
          [
           "2018-02-07"
          ],
          [
           "2018-02-08"
          ],
          [
           "2018-02-09"
          ],
          [
           "2018-02-12"
          ],
          [
           "2018-02-13"
          ],
          [
           "2018-02-14"
          ],
          [
           "2018-02-15"
          ],
          [
           "2018-02-16"
          ],
          [
           "2018-02-20"
          ],
          [
           "2018-02-21"
          ],
          [
           "2018-02-22"
          ],
          [
           "2018-02-23"
          ],
          [
           "2018-02-26"
          ],
          [
           "2018-02-27"
          ],
          [
           "2018-02-28"
          ],
          [
           "2018-03-01"
          ],
          [
           "2018-03-02"
          ],
          [
           "2018-03-05"
          ],
          [
           "2018-03-06"
          ],
          [
           "2018-03-07"
          ],
          [
           "2018-03-08"
          ],
          [
           "2018-03-09"
          ],
          [
           "2018-03-12"
          ],
          [
           "2018-03-13"
          ],
          [
           "2018-03-14"
          ],
          [
           "2018-03-15"
          ],
          [
           "2018-03-16"
          ],
          [
           "2018-03-19"
          ],
          [
           "2018-03-20"
          ],
          [
           "2018-03-21"
          ],
          [
           "2018-03-22"
          ],
          [
           "2018-03-23"
          ],
          [
           "2018-03-26"
          ],
          [
           "2018-03-27"
          ],
          [
           "2018-03-28"
          ],
          [
           "2018-03-29"
          ],
          [
           "2018-04-02"
          ],
          [
           "2018-04-03"
          ],
          [
           "2018-04-04"
          ],
          [
           "2018-04-05"
          ],
          [
           "2018-04-06"
          ],
          [
           "2018-04-09"
          ],
          [
           "2018-04-10"
          ],
          [
           "2018-04-11"
          ],
          [
           "2018-04-12"
          ],
          [
           "2018-04-13"
          ],
          [
           "2018-04-16"
          ],
          [
           "2018-04-17"
          ],
          [
           "2018-04-18"
          ],
          [
           "2018-04-19"
          ],
          [
           "2018-04-20"
          ],
          [
           "2018-04-23"
          ],
          [
           "2018-04-24"
          ],
          [
           "2018-04-25"
          ],
          [
           "2018-04-26"
          ],
          [
           "2018-04-27"
          ],
          [
           "2018-04-30"
          ],
          [
           "2018-05-01"
          ],
          [
           "2018-05-02"
          ],
          [
           "2018-05-03"
          ],
          [
           "2018-05-04"
          ],
          [
           "2018-05-07"
          ],
          [
           "2018-05-08"
          ],
          [
           "2018-05-09"
          ],
          [
           "2018-05-10"
          ],
          [
           "2018-05-11"
          ],
          [
           "2018-05-14"
          ],
          [
           "2018-05-15"
          ],
          [
           "2018-05-16"
          ],
          [
           "2018-05-17"
          ],
          [
           "2018-05-18"
          ],
          [
           "2018-05-21"
          ],
          [
           "2018-05-22"
          ],
          [
           "2018-05-23"
          ],
          [
           "2018-05-24"
          ],
          [
           "2018-05-25"
          ],
          [
           "2018-05-29"
          ],
          [
           "2018-05-30"
          ],
          [
           "2018-05-31"
          ],
          [
           "2018-06-01"
          ],
          [
           "2018-06-04"
          ],
          [
           "2018-06-05"
          ],
          [
           "2018-06-06"
          ],
          [
           "2018-06-07"
          ],
          [
           "2018-06-08"
          ],
          [
           "2018-06-11"
          ],
          [
           "2018-06-12"
          ],
          [
           "2018-06-13"
          ],
          [
           "2018-06-14"
          ],
          [
           "2018-06-15"
          ],
          [
           "2018-06-18"
          ],
          [
           "2018-06-19"
          ],
          [
           "2018-06-20"
          ],
          [
           "2018-06-21"
          ],
          [
           "2018-06-22"
          ],
          [
           "2018-06-25"
          ],
          [
           "2018-06-26"
          ],
          [
           "2018-06-27"
          ],
          [
           "2018-06-28"
          ],
          [
           "2018-06-29"
          ],
          [
           "2018-07-02"
          ],
          [
           "2018-07-03"
          ],
          [
           "2018-07-05"
          ],
          [
           "2018-07-06"
          ],
          [
           "2018-07-09"
          ],
          [
           "2018-07-10"
          ],
          [
           "2018-07-11"
          ],
          [
           "2018-07-12"
          ],
          [
           "2018-07-13"
          ],
          [
           "2018-07-16"
          ],
          [
           "2018-07-17"
          ],
          [
           "2018-07-18"
          ],
          [
           "2018-07-19"
          ],
          [
           "2018-07-20"
          ],
          [
           "2018-07-23"
          ],
          [
           "2018-07-24"
          ],
          [
           "2018-07-25"
          ],
          [
           "2018-07-26"
          ],
          [
           "2018-07-27"
          ],
          [
           "2018-07-30"
          ],
          [
           "2018-07-31"
          ],
          [
           "2018-08-01"
          ],
          [
           "2018-08-02"
          ],
          [
           "2018-08-03"
          ],
          [
           "2018-08-06"
          ],
          [
           "2018-08-07"
          ],
          [
           "2018-08-08"
          ],
          [
           "2018-08-09"
          ],
          [
           "2018-08-10"
          ],
          [
           "2018-08-13"
          ],
          [
           "2018-08-14"
          ],
          [
           "2018-08-15"
          ],
          [
           "2018-08-16"
          ],
          [
           "2018-08-17"
          ],
          [
           "2018-08-20"
          ],
          [
           "2018-08-21"
          ],
          [
           "2018-08-22"
          ],
          [
           "2018-08-23"
          ],
          [
           "2018-08-24"
          ],
          [
           "2018-08-27"
          ],
          [
           "2018-08-28"
          ],
          [
           "2018-08-29"
          ],
          [
           "2018-08-30"
          ],
          [
           "2018-08-31"
          ],
          [
           "2018-09-04"
          ],
          [
           "2018-09-05"
          ],
          [
           "2018-09-06"
          ],
          [
           "2018-09-07"
          ],
          [
           "2018-09-10"
          ],
          [
           "2018-09-11"
          ],
          [
           "2018-09-12"
          ],
          [
           "2018-09-13"
          ],
          [
           "2018-09-14"
          ],
          [
           "2018-09-17"
          ],
          [
           "2018-09-18"
          ],
          [
           "2018-09-19"
          ],
          [
           "2018-09-20"
          ],
          [
           "2018-09-21"
          ],
          [
           "2018-09-24"
          ],
          [
           "2018-09-25"
          ],
          [
           "2018-09-26"
          ],
          [
           "2018-09-27"
          ],
          [
           "2018-09-28"
          ],
          [
           "2018-10-01"
          ],
          [
           "2018-10-02"
          ],
          [
           "2018-10-03"
          ],
          [
           "2018-10-04"
          ],
          [
           "2018-10-05"
          ],
          [
           "2018-10-08"
          ],
          [
           "2018-10-09"
          ],
          [
           "2018-10-10"
          ],
          [
           "2018-10-11"
          ],
          [
           "2018-10-12"
          ],
          [
           "2018-10-15"
          ],
          [
           "2018-10-16"
          ],
          [
           "2018-10-17"
          ],
          [
           "2018-10-18"
          ],
          [
           "2018-10-19"
          ],
          [
           "2018-10-22"
          ],
          [
           "2018-10-23"
          ],
          [
           "2018-10-24"
          ],
          [
           "2018-10-25"
          ],
          [
           "2018-10-26"
          ],
          [
           "2018-10-29"
          ],
          [
           "2018-10-30"
          ],
          [
           "2018-10-31"
          ],
          [
           "2018-11-01"
          ],
          [
           "2018-11-02"
          ],
          [
           "2018-11-05"
          ],
          [
           "2018-11-06"
          ],
          [
           "2018-11-07"
          ],
          [
           "2018-11-08"
          ],
          [
           "2018-11-09"
          ],
          [
           "2018-11-12"
          ],
          [
           "2018-11-13"
          ],
          [
           "2018-11-14"
          ],
          [
           "2018-11-15"
          ],
          [
           "2018-11-16"
          ],
          [
           "2018-11-19"
          ],
          [
           "2018-11-20"
          ],
          [
           "2018-11-21"
          ],
          [
           "2018-11-23"
          ],
          [
           "2018-11-26"
          ],
          [
           "2018-11-27"
          ],
          [
           "2018-11-28"
          ],
          [
           "2018-11-29"
          ],
          [
           "2018-11-30"
          ],
          [
           "2018-12-03"
          ],
          [
           "2018-12-04"
          ],
          [
           "2018-12-06"
          ],
          [
           "2018-12-07"
          ],
          [
           "2018-12-10"
          ],
          [
           "2018-12-11"
          ],
          [
           "2018-12-12"
          ],
          [
           "2018-12-13"
          ],
          [
           "2018-12-14"
          ],
          [
           "2018-12-17"
          ],
          [
           "2018-12-18"
          ],
          [
           "2018-12-19"
          ],
          [
           "2018-12-20"
          ],
          [
           "2018-12-21"
          ],
          [
           "2018-12-24"
          ],
          [
           "2018-12-26"
          ],
          [
           "2018-12-27"
          ],
          [
           "2018-12-28"
          ],
          [
           "2018-12-31"
          ]
         ],
         "hovertemplate": "Year=2018<br>variable=Close_Price<br>value=%{y}<br>Date=%{customdata[0]|%B %d, %Y}<extra></extra>",
         "legendgroup": "2018",
         "line": {
          "color": "#00cc96",
          "dash": "solid"
         },
         "marker": {
          "symbol": "circle"
         },
         "mode": "markers+lines",
         "name": "2018",
         "showlegend": true,
         "type": "scattergl",
         "x": [
          2,
          3,
          4,
          5,
          8,
          9,
          10,
          11,
          12,
          16,
          17,
          18,
          19,
          22,
          23,
          24,
          25,
          26,
          29,
          30,
          31,
          32,
          33,
          36,
          37,
          38,
          39,
          40,
          43,
          44,
          45,
          46,
          47,
          51,
          52,
          53,
          54,
          57,
          58,
          59,
          60,
          61,
          64,
          65,
          66,
          67,
          68,
          71,
          72,
          73,
          74,
          75,
          78,
          79,
          80,
          81,
          82,
          85,
          86,
          87,
          88,
          92,
          93,
          94,
          95,
          96,
          99,
          100,
          101,
          102,
          103,
          106,
          107,
          108,
          109,
          110,
          113,
          114,
          115,
          116,
          117,
          120,
          121,
          122,
          123,
          124,
          127,
          128,
          129,
          130,
          131,
          134,
          135,
          136,
          137,
          138,
          141,
          142,
          143,
          144,
          145,
          149,
          150,
          151,
          152,
          155,
          156,
          157,
          158,
          159,
          162,
          163,
          164,
          165,
          166,
          169,
          170,
          171,
          172,
          173,
          176,
          177,
          178,
          179,
          180,
          183,
          184,
          186,
          187,
          190,
          191,
          192,
          193,
          194,
          197,
          198,
          199,
          200,
          201,
          204,
          205,
          206,
          207,
          208,
          211,
          212,
          213,
          214,
          215,
          218,
          219,
          220,
          221,
          222,
          225,
          226,
          227,
          228,
          229,
          232,
          233,
          234,
          235,
          236,
          239,
          240,
          241,
          242,
          243,
          247,
          248,
          249,
          250,
          253,
          254,
          255,
          256,
          257,
          260,
          261,
          262,
          263,
          264,
          267,
          268,
          269,
          270,
          271,
          274,
          275,
          276,
          277,
          278,
          281,
          282,
          283,
          284,
          285,
          288,
          289,
          290,
          291,
          292,
          295,
          296,
          297,
          298,
          299,
          302,
          303,
          304,
          305,
          306,
          309,
          310,
          311,
          312,
          313,
          316,
          317,
          318,
          319,
          320,
          323,
          324,
          325,
          327,
          330,
          331,
          332,
          333,
          334,
          337,
          338,
          340,
          341,
          344,
          345,
          346,
          347,
          348,
          351,
          352,
          353,
          354,
          355,
          358,
          360,
          361,
          362,
          365
         ],
         "xaxis": "x",
         "y": [
          53.25,
          54.124000549316406,
          54.31999969482422,
          55.11149978637695,
          55.34700012207031,
          55.3129997253418,
          55.13050079345703,
          55.2760009765625,
          56.112998962402344,
          56.0880012512207,
          56.5989990234375,
          56.489498138427734,
          56.8754997253418,
          57.79050064086914,
          58.49850082397461,
          58.21200180053711,
          58.51850128173828,
          58.79199981689453,
          58.77899932861328,
          58.18450164794922,
          58.49700164794922,
          58.3849983215332,
          55.595001220703125,
          52.790000915527344,
          54.029998779296875,
          52.42900085449219,
          50.07600021362305,
          51.888999938964844,
          52.59700012207031,
          52.60499954223633,
          53.48500061035156,
          54.47600173950195,
          54.7400016784668,
          55.12300109863281,
          55.56700134277344,
          55.33150100708008,
          56.339500427246094,
          57.1875,
          55.91450119018555,
          55.23649978637695,
          53.47600173950195,
          53.94599914550781,
          54.54650115966797,
          54.75299835205078,
          55.481998443603516,
          56.29999923706055,
          58.00199890136719,
          58.224998474121094,
          56.90850067138672,
          57.4744987487793,
          57.479000091552734,
          56.7864990234375,
          54.99100112915039,
          54.885501861572266,
          54.54399871826172,
          52.45399856567383,
          51.07849884033203,
          52.660499572753906,
          50.255001068115234,
          50.22800064086914,
          51.589500427246094,
          50.32350158691406,
          50.670501708984375,
          51.25699996948242,
          51.390499114990234,
          50.35200119018555,
          50.772499084472656,
          51.582000732421875,
          50.99850082397461,
          51.6254997253418,
          51.4635009765625,
          51.89899826049805,
          53.70800018310547,
          53.604000091552734,
          54.3849983215332,
          53.64799880981445,
          53.372501373291016,
          50.999000549316406,
          51.058998107910156,
          52.00199890136719,
          51.502498626708984,
          50.86650085449219,
          51.865501403808594,
          51.21900177001953,
          51.18600082397461,
          52.410499572753906,
          52.739498138427734,
          52.695499420166016,
          54.13800048828125,
          54.878501892089844,
          54.91299819946289,
          55.0099983215332,
          53.96149826049805,
          54.0885009765625,
          53.929500579833984,
          53.31800079345703,
          53.979000091552734,
          53.48649978637695,
          53.984500885009766,
          53.96200180053711,
          53.78300094604492,
          53.01599884033203,
          53.38999938964844,
          54.2495002746582,
          55.974998474121094,
          56.964500427246094,
          56.983001708984375,
          56.84400177001953,
          56.19300079345703,
          56.04349899291992,
          56.4995002746582,
          56.965999603271484,
          56.739498138427734,
          57.60599899291992,
          57.612998962402344,
          58.67300033569336,
          58.40299987792969,
          58.492000579833984,
          57.882999420166016,
          57.77399826049805,
          56.240501403808594,
          55.92300033569336,
          55.19900131225586,
          55.71099853515625,
          55.782501220703125,
          56.37300109863281,
          55.144500732421875,
          56.2135009765625,
          57.00849914550781,
          57.70249938964844,
          57.641998291015625,
          57.69499969482422,
          59.17399978637695,
          59.441001892089844,
          59.19300079345703,
          59.939998626708984,
          59.79399871826172,
          59.347999572753906,
          59.24549865722656,
          60.275001525878906,
          62.40399932861328,
          63.185001373291016,
          63.416500091552734,
          61.92499923706055,
          60.98699951171875,
          60.862998962402344,
          61.0004997253418,
          61.307498931884766,
          61.18550109863281,
          61.23849868774414,
          62.111000061035156,
          62.28049850463867,
          62.45500183105469,
          61.88050079345703,
          61.7504997253418,
          62.10499954223633,
          60.71900177001953,
          60.324501037597656,
          60.04800033569336,
          60.38850021362305,
          60.08100128173828,
          60.36650085449219,
          60.26900100708008,
          61.032501220703125,
          62.090999603271484,
          61.557498931884766,
          62.46500015258789,
          61.95600128173828,
          60.90950012207031,
          59.849998474121094,
          59.32400131225586,
          58.571998596191406,
          58.24150085449219,
          58.231998443603516,
          58.86800003051758,
          58.14099884033203,
          58.76649856567383,
          58.62649917602539,
          57.8025016784668,
          58.06100082397461,
          58.554500579833984,
          59.34349822998047,
          58.304500579833984,
          58.66849899291992,
          59.23249816894531,
          59.02450180053711,
          59.731998443603516,
          59.673500061035156,
          59.765499114990234,
          60.00550079345703,
          60.147499084472656,
          58.40950012207031,
          57.86750030517578,
          57.44850158691406,
          56.941001892089844,
          54.06100082397461,
          53.965999603271484,
          55.50400161743164,
          54.61249923706055,
          56.06399917602539,
          55.78450012207031,
          54.39849853515625,
          54.823001861572266,
          55.05799865722656,
          55.18450164794922,
          52.535499572753906,
          54.778499603271484,
          53.57350158691406,
          51.00400161743164,
          51.81050109863281,
          53.8385009765625,
          53.5,
          52.88949966430664,
          52.00450134277344,
          52.79050064086914,
          54.669498443603516,
          54.119998931884766,
          53.307498931884766,
          51.93149948120117,
          51.8025016784668,
          52.18299865722656,
          53.23550033569336,
          53.074501037597656,
          51,
          51.28799819946289,
          51.88050079345703,
          51.194000244140625,
          52.430999755859375,
          52.22050094604492,
          54.311500549316406,
          54.415000915527344,
          54.721500396728516,
          55.32149887084961,
          52.54100036621094,
          53.436500549316406,
          51.82899856567383,
          51.977500915527344,
          52.587501525878906,
          53.183998107910156,
          53.095001220703125,
          52.10499954223633,
          50.826499938964844,
          51.43550109863281,
          51.1505012512207,
          50.47050094604492,
          48.97700119018555,
          48.81100082397461,
          51.972999572753906,
          52.194000244140625,
          51.854000091552734,
          51.78049850463867
         ],
         "yaxis": "y"
        },
        {
         "connectgaps": true,
         "customdata": [
          [
           "2019-01-02"
          ],
          [
           "2019-01-03"
          ],
          [
           "2019-01-04"
          ],
          [
           "2019-01-07"
          ],
          [
           "2019-01-08"
          ],
          [
           "2019-01-09"
          ],
          [
           "2019-01-10"
          ],
          [
           "2019-01-11"
          ],
          [
           "2019-01-14"
          ],
          [
           "2019-01-15"
          ],
          [
           "2019-01-16"
          ],
          [
           "2019-01-17"
          ],
          [
           "2019-01-18"
          ],
          [
           "2019-01-22"
          ],
          [
           "2019-01-23"
          ],
          [
           "2019-01-24"
          ],
          [
           "2019-01-25"
          ],
          [
           "2019-01-28"
          ],
          [
           "2019-01-29"
          ],
          [
           "2019-01-30"
          ],
          [
           "2019-01-31"
          ],
          [
           "2019-02-01"
          ],
          [
           "2019-02-04"
          ],
          [
           "2019-02-05"
          ],
          [
           "2019-02-06"
          ],
          [
           "2019-02-07"
          ],
          [
           "2019-02-08"
          ],
          [
           "2019-02-11"
          ],
          [
           "2019-02-12"
          ],
          [
           "2019-02-13"
          ],
          [
           "2019-02-14"
          ],
          [
           "2019-02-15"
          ],
          [
           "2019-02-19"
          ],
          [
           "2019-02-20"
          ],
          [
           "2019-02-21"
          ],
          [
           "2019-02-22"
          ],
          [
           "2019-02-25"
          ],
          [
           "2019-02-26"
          ],
          [
           "2019-02-27"
          ],
          [
           "2019-02-28"
          ],
          [
           "2019-03-01"
          ],
          [
           "2019-03-04"
          ],
          [
           "2019-03-05"
          ],
          [
           "2019-03-06"
          ],
          [
           "2019-03-07"
          ],
          [
           "2019-03-08"
          ],
          [
           "2019-03-11"
          ],
          [
           "2019-03-12"
          ],
          [
           "2019-03-13"
          ],
          [
           "2019-03-14"
          ],
          [
           "2019-03-15"
          ],
          [
           "2019-03-18"
          ],
          [
           "2019-03-19"
          ],
          [
           "2019-03-20"
          ],
          [
           "2019-03-21"
          ],
          [
           "2019-03-22"
          ],
          [
           "2019-03-25"
          ],
          [
           "2019-03-26"
          ],
          [
           "2019-03-27"
          ],
          [
           "2019-03-28"
          ],
          [
           "2019-03-29"
          ],
          [
           "2019-04-01"
          ],
          [
           "2019-04-02"
          ],
          [
           "2019-04-03"
          ],
          [
           "2019-04-04"
          ],
          [
           "2019-04-05"
          ],
          [
           "2019-04-08"
          ],
          [
           "2019-04-09"
          ],
          [
           "2019-04-10"
          ],
          [
           "2019-04-11"
          ],
          [
           "2019-04-12"
          ],
          [
           "2019-04-15"
          ],
          [
           "2019-04-16"
          ],
          [
           "2019-04-17"
          ],
          [
           "2019-04-18"
          ],
          [
           "2019-04-22"
          ],
          [
           "2019-04-23"
          ],
          [
           "2019-04-24"
          ],
          [
           "2019-04-25"
          ],
          [
           "2019-04-26"
          ],
          [
           "2019-04-29"
          ],
          [
           "2019-04-30"
          ],
          [
           "2019-05-01"
          ],
          [
           "2019-05-02"
          ],
          [
           "2019-05-03"
          ],
          [
           "2019-05-06"
          ],
          [
           "2019-05-07"
          ],
          [
           "2019-05-08"
          ],
          [
           "2019-05-09"
          ],
          [
           "2019-05-10"
          ],
          [
           "2019-05-13"
          ],
          [
           "2019-05-14"
          ],
          [
           "2019-05-15"
          ],
          [
           "2019-05-16"
          ],
          [
           "2019-05-17"
          ],
          [
           "2019-05-20"
          ],
          [
           "2019-05-21"
          ],
          [
           "2019-05-22"
          ],
          [
           "2019-05-23"
          ],
          [
           "2019-05-24"
          ],
          [
           "2019-05-28"
          ],
          [
           "2019-05-29"
          ],
          [
           "2019-05-30"
          ],
          [
           "2019-05-31"
          ],
          [
           "2019-06-03"
          ],
          [
           "2019-06-04"
          ],
          [
           "2019-06-05"
          ],
          [
           "2019-06-06"
          ],
          [
           "2019-06-07"
          ],
          [
           "2019-06-10"
          ],
          [
           "2019-06-11"
          ],
          [
           "2019-06-12"
          ],
          [
           "2019-06-13"
          ],
          [
           "2019-06-14"
          ],
          [
           "2019-06-17"
          ],
          [
           "2019-06-18"
          ],
          [
           "2019-06-19"
          ],
          [
           "2019-06-20"
          ],
          [
           "2019-06-21"
          ],
          [
           "2019-06-24"
          ],
          [
           "2019-06-25"
          ],
          [
           "2019-06-26"
          ],
          [
           "2019-06-27"
          ],
          [
           "2019-06-28"
          ],
          [
           "2019-07-01"
          ],
          [
           "2019-07-02"
          ],
          [
           "2019-07-03"
          ],
          [
           "2019-07-05"
          ],
          [
           "2019-07-08"
          ],
          [
           "2019-07-09"
          ],
          [
           "2019-07-10"
          ],
          [
           "2019-07-11"
          ],
          [
           "2019-07-12"
          ],
          [
           "2019-07-15"
          ],
          [
           "2019-07-16"
          ],
          [
           "2019-07-17"
          ],
          [
           "2019-07-18"
          ],
          [
           "2019-07-19"
          ],
          [
           "2019-07-22"
          ],
          [
           "2019-07-23"
          ],
          [
           "2019-07-24"
          ],
          [
           "2019-07-25"
          ],
          [
           "2019-07-26"
          ],
          [
           "2019-07-29"
          ],
          [
           "2019-07-30"
          ],
          [
           "2019-07-31"
          ],
          [
           "2019-08-01"
          ],
          [
           "2019-08-02"
          ],
          [
           "2019-08-05"
          ],
          [
           "2019-08-06"
          ],
          [
           "2019-08-07"
          ],
          [
           "2019-08-08"
          ],
          [
           "2019-08-09"
          ],
          [
           "2019-08-12"
          ],
          [
           "2019-08-13"
          ],
          [
           "2019-08-14"
          ],
          [
           "2019-08-15"
          ],
          [
           "2019-08-16"
          ],
          [
           "2019-08-19"
          ],
          [
           "2019-08-20"
          ],
          [
           "2019-08-21"
          ],
          [
           "2019-08-22"
          ],
          [
           "2019-08-23"
          ],
          [
           "2019-08-26"
          ],
          [
           "2019-08-27"
          ],
          [
           "2019-08-28"
          ],
          [
           "2019-08-29"
          ],
          [
           "2019-08-30"
          ],
          [
           "2019-09-03"
          ],
          [
           "2019-09-04"
          ],
          [
           "2019-09-05"
          ],
          [
           "2019-09-06"
          ],
          [
           "2019-09-09"
          ],
          [
           "2019-09-10"
          ],
          [
           "2019-09-11"
          ],
          [
           "2019-09-12"
          ],
          [
           "2019-09-13"
          ],
          [
           "2019-09-16"
          ],
          [
           "2019-09-17"
          ],
          [
           "2019-09-18"
          ],
          [
           "2019-09-19"
          ],
          [
           "2019-09-20"
          ],
          [
           "2019-09-23"
          ],
          [
           "2019-09-24"
          ],
          [
           "2019-09-25"
          ],
          [
           "2019-09-26"
          ],
          [
           "2019-09-27"
          ],
          [
           "2019-09-30"
          ],
          [
           "2019-10-01"
          ],
          [
           "2019-10-02"
          ],
          [
           "2019-10-03"
          ],
          [
           "2019-10-04"
          ],
          [
           "2019-10-07"
          ],
          [
           "2019-10-08"
          ],
          [
           "2019-10-09"
          ],
          [
           "2019-10-10"
          ],
          [
           "2019-10-11"
          ],
          [
           "2019-10-14"
          ],
          [
           "2019-10-15"
          ],
          [
           "2019-10-16"
          ],
          [
           "2019-10-17"
          ],
          [
           "2019-10-18"
          ],
          [
           "2019-10-21"
          ],
          [
           "2019-10-22"
          ],
          [
           "2019-10-23"
          ],
          [
           "2019-10-24"
          ],
          [
           "2019-10-25"
          ],
          [
           "2019-10-28"
          ],
          [
           "2019-10-29"
          ],
          [
           "2019-10-30"
          ],
          [
           "2019-10-31"
          ],
          [
           "2019-11-01"
          ],
          [
           "2019-11-04"
          ],
          [
           "2019-11-05"
          ],
          [
           "2019-11-06"
          ],
          [
           "2019-11-07"
          ],
          [
           "2019-11-08"
          ],
          [
           "2019-11-11"
          ],
          [
           "2019-11-12"
          ],
          [
           "2019-11-13"
          ],
          [
           "2019-11-14"
          ],
          [
           "2019-11-15"
          ],
          [
           "2019-11-18"
          ],
          [
           "2019-11-19"
          ],
          [
           "2019-11-20"
          ],
          [
           "2019-11-21"
          ],
          [
           "2019-11-22"
          ],
          [
           "2019-11-25"
          ],
          [
           "2019-11-26"
          ],
          [
           "2019-11-27"
          ],
          [
           "2019-11-29"
          ],
          [
           "2019-12-02"
          ],
          [
           "2019-12-03"
          ],
          [
           "2019-12-04"
          ],
          [
           "2019-12-05"
          ],
          [
           "2019-12-06"
          ],
          [
           "2019-12-09"
          ],
          [
           "2019-12-10"
          ],
          [
           "2019-12-11"
          ],
          [
           "2019-12-12"
          ],
          [
           "2019-12-13"
          ],
          [
           "2019-12-16"
          ],
          [
           "2019-12-17"
          ],
          [
           "2019-12-18"
          ],
          [
           "2019-12-19"
          ],
          [
           "2019-12-20"
          ],
          [
           "2019-12-23"
          ],
          [
           "2019-12-24"
          ],
          [
           "2019-12-26"
          ],
          [
           "2019-12-27"
          ],
          [
           "2019-12-30"
          ],
          [
           "2019-12-31"
          ]
         ],
         "hovertemplate": "Year=2019<br>variable=Close_Price<br>value=%{y}<br>Date=%{customdata[0]|%B %d, %Y}<extra></extra>",
         "legendgroup": "2019",
         "line": {
          "color": "#ab63fa",
          "dash": "solid"
         },
         "marker": {
          "symbol": "circle"
         },
         "mode": "markers+lines",
         "name": "2019",
         "showlegend": true,
         "type": "scattergl",
         "x": [
          2,
          3,
          4,
          7,
          8,
          9,
          10,
          11,
          14,
          15,
          16,
          17,
          18,
          22,
          23,
          24,
          25,
          28,
          29,
          30,
          31,
          32,
          35,
          36,
          37,
          38,
          39,
          42,
          43,
          44,
          45,
          46,
          50,
          51,
          52,
          53,
          56,
          57,
          58,
          59,
          60,
          63,
          64,
          65,
          66,
          67,
          70,
          71,
          72,
          73,
          74,
          77,
          78,
          79,
          80,
          81,
          84,
          85,
          86,
          87,
          88,
          91,
          92,
          93,
          94,
          95,
          98,
          99,
          100,
          101,
          102,
          105,
          106,
          107,
          108,
          112,
          113,
          114,
          115,
          116,
          119,
          120,
          121,
          122,
          123,
          126,
          127,
          128,
          129,
          130,
          133,
          134,
          135,
          136,
          137,
          140,
          141,
          142,
          143,
          144,
          148,
          149,
          150,
          151,
          154,
          155,
          156,
          157,
          158,
          161,
          162,
          163,
          164,
          165,
          168,
          169,
          170,
          171,
          172,
          175,
          176,
          177,
          178,
          179,
          182,
          183,
          184,
          186,
          189,
          190,
          191,
          192,
          193,
          196,
          197,
          198,
          199,
          200,
          203,
          204,
          205,
          206,
          207,
          210,
          211,
          212,
          213,
          214,
          217,
          218,
          219,
          220,
          221,
          224,
          225,
          226,
          227,
          228,
          231,
          232,
          233,
          234,
          235,
          238,
          239,
          240,
          241,
          242,
          246,
          247,
          248,
          249,
          252,
          253,
          254,
          255,
          256,
          259,
          260,
          261,
          262,
          263,
          266,
          267,
          268,
          269,
          270,
          273,
          274,
          275,
          276,
          277,
          280,
          281,
          282,
          283,
          284,
          287,
          288,
          289,
          290,
          291,
          294,
          295,
          296,
          297,
          298,
          301,
          302,
          303,
          304,
          305,
          308,
          309,
          310,
          311,
          312,
          315,
          316,
          317,
          318,
          319,
          322,
          323,
          324,
          325,
          326,
          329,
          330,
          331,
          333,
          336,
          337,
          338,
          339,
          340,
          343,
          344,
          345,
          346,
          347,
          350,
          351,
          352,
          353,
          354,
          357,
          358,
          360,
          361,
          364,
          365
         ],
         "xaxis": "x",
         "y": [
          52.29249954223633,
          50.803001403808594,
          53.535499572753906,
          53.419498443603516,
          53.81399917602539,
          53.733001708984375,
          53.51649856567383,
          52.859500885009766,
          52.234500885009766,
          53.85749816894531,
          54.048500061035156,
          54.494998931884766,
          54.91299819946289,
          53.5260009765625,
          53.778499603271484,
          53.69499969482422,
          54.54949951171875,
          53.50400161743164,
          53.03099822998047,
          54.452999114990234,
          55.81850051879883,
          55.537498474121094,
          56.63999938964844,
          57.29949951171875,
          55.76150131225586,
          54.93550109863281,
          54.75299835205078,
          54.7504997253418,
          56.06850051879883,
          56.007999420166016,
          56.083499908447266,
          55.682498931884766,
          55.928001403808594,
          55.689998626708984,
          54.8484992980957,
          55.51850128173828,
          55.470001220703125,
          55.756500244140625,
          55.8025016784668,
          55.99599838256836,
          57.04949951171875,
          57.38999938964844,
          58.10150146484375,
          57.893001556396484,
          57.165000915527344,
          57.11600112915039,
          58.78799819946289,
          59.65999984741211,
          59.66600036621094,
          59.27750015258789,
          59.222999572753906,
          59.2130012512207,
          59.942501068115234,
          61.19850158691406,
          61.57699966430664,
          60.275001525878906,
          59.650001525878906,
          59.23099899291992,
          58.6510009765625,
          58.42449951171875,
          58.66550064086914,
          59.721500396728516,
          60.02450180053711,
          60.29600143432617,
          60.75,
          60.35749816894531,
          60.19200134277344,
          59.86249923706055,
          60.108001708984375,
          60.23099899291992,
          60.89350128173828,
          61.05500030517578,
          61.35649871826172,
          61.81700134277344,
          61.81850051879883,
          62.44200134277344,
          63.227500915527344,
          62.79999923706055,
          63.17250061035156,
          63.60900115966797,
          64.37899780273438,
          59.42399978637695,
          58.40399932861328,
          58.13050079345703,
          59.27000045776367,
          59.46950149536133,
          58.70500183105469,
          58.313499450683594,
          58.11899948120117,
          58.2135009765625,
          56.60150146484375,
          56.02199935913086,
          58.21049880981445,
          58.94900131225586,
          58.1150016784668,
          56.942501068115234,
          57.48149871826172,
          57.57099914550781,
          57.03850173950195,
          56.673500061035156,
          56.70750045776367,
          55.823001861572266,
          55.897499084472656,
          55.18149948120117,
          51.811500549316406,
          52.65250015258789,
          52.111000061035156,
          52.21699905395508,
          53.301998138427734,
          54.01900100708008,
          53.93600082397461,
          53.85150146484375,
          54.438499450683594,
          54.26750183105469,
          54.625,
          55.18000030517578,
          55.11650085449219,
          55.57099914550781,
          56.09400177001953,
          55.7760009765625,
          54.317501068115234,
          53.9900016784668,
          53.800498962402344,
          54.045501708984375,
          54.897499084472656,
          55.5625,
          56.07899856567383,
          56.579498291015625,
          55.817501068115234,
          56.24150085449219,
          57.02399826049805,
          57.21049880981445,
          57.244998931884766,
          57.516998291015625,
          57.67900085449219,
          57.317501068115234,
          57.31650161743164,
          56.505001068115234,
          56.903499603271484,
          57.31050109863281,
          56.890499114990234,
          56.60599899291992,
          62.52050018310547,
          61.97050094604492,
          61.25699996948242,
          60.83399963378906,
          60.45050048828125,
          59.699501037597656,
          57.61600112915039,
          58.497501373291016,
          58.699501037597656,
          60.2400016784668,
          59.4005012512207,
          58.73550033569336,
          59.86349868774414,
          58.214500427246094,
          58.362998962402344,
          58.880001068115234,
          59.92250061035156,
          59.134498596191406,
          59.5625,
          59.47650146484375,
          57.56449890136719,
          58.44449996948242,
          58.391998291015625,
          58.55099868774414,
          59.64250183105469,
          59.404998779296875,
          58.419498443603516,
          59.070499420166016,
          60.569000244140625,
          60.246498107910156,
          60.22050094604492,
          60.29999923706055,
          61.00849914550781,
          61.712501525878906,
          61.97800064086914,
          61.564998626708984,
          61.45750045776367,
          61.62049865722656,
          61.93550109863281,
          61.496498107910156,
          61.701499938964844,
          60.9379997253418,
          62.32600021362305,
          62.06949996948242,
          61.25450134277344,
          60.95000076293945,
          60.255001068115234,
          58.83150100708008,
          59.39149856567383,
          60.45000076293945,
          60.38399887084961,
          59.45650100708008,
          60.115501403808594,
          60.43349838256836,
          60.772499084472656,
          60.856998443603516,
          62.1505012512207,
          62.18199920654297,
          62.653499603271484,
          62.27450180053711,
          62.307498931884766,
          62.13999938964844,
          62.95650100708008,
          63.04949951171875,
          63.256500244140625,
          64.5,
          63.13100051879883,
          63.06449890136719,
          63.00550079345703,
          63.6870002746582,
          64.56849670410156,
          64.60150146484375,
          64.58999633789062,
          65.44300079345703,
          65.56849670410156,
          64.95950317382812,
          64.94000244140625,
          64.9000015258789,
          65.572998046875,
          66.74349975585938,
          66.03500366210938,
          65.77300262451172,
          65.15249633789062,
          65.06749725341797,
          64.76699829101562,
          65.33450317382812,
          65.67749786376953,
          65.64949798583984,
          65.24800109863281,
          64.49600219726562,
          64.76399993896484,
          66.0270004272461,
          66.40650177001953,
          67.03099822998047,
          67.1780014038086,
          67.23300170898438,
          67.2509994506836,
          67.51349639892578,
          67.3915023803711,
          68.05850219726562,
          67.75599670410156,
          67.63099670410156,
          67.802001953125,
          67.47949981689453,
          67.44200134277344,
          67.1780014038086,
          68.0199966430664,
          67.59449768066406,
          66.80699920654297,
          66.85099792480469
         ],
         "yaxis": "y"
        },
        {
         "connectgaps": true,
         "customdata": [
          [
           "2020-01-02"
          ],
          [
           "2020-01-03"
          ],
          [
           "2020-01-06"
          ],
          [
           "2020-01-07"
          ],
          [
           "2020-01-08"
          ],
          [
           "2020-01-09"
          ],
          [
           "2020-01-10"
          ],
          [
           "2020-01-13"
          ],
          [
           "2020-01-14"
          ],
          [
           "2020-01-15"
          ],
          [
           "2020-01-16"
          ],
          [
           "2020-01-17"
          ],
          [
           "2020-01-21"
          ],
          [
           "2020-01-22"
          ],
          [
           "2020-01-23"
          ],
          [
           "2020-01-24"
          ],
          [
           "2020-01-27"
          ],
          [
           "2020-01-28"
          ],
          [
           "2020-01-29"
          ],
          [
           "2020-01-30"
          ],
          [
           "2020-01-31"
          ],
          [
           "2020-02-03"
          ],
          [
           "2020-02-04"
          ],
          [
           "2020-02-05"
          ],
          [
           "2020-02-06"
          ],
          [
           "2020-02-07"
          ],
          [
           "2020-02-10"
          ],
          [
           "2020-02-11"
          ],
          [
           "2020-02-12"
          ],
          [
           "2020-02-13"
          ],
          [
           "2020-02-14"
          ],
          [
           "2020-02-18"
          ],
          [
           "2020-02-19"
          ],
          [
           "2020-02-20"
          ],
          [
           "2020-02-21"
          ],
          [
           "2020-02-24"
          ],
          [
           "2020-02-25"
          ],
          [
           "2020-02-26"
          ],
          [
           "2020-02-27"
          ],
          [
           "2020-02-28"
          ],
          [
           "2020-03-02"
          ],
          [
           "2020-03-03"
          ],
          [
           "2020-03-04"
          ],
          [
           "2020-03-05"
          ],
          [
           "2020-03-06"
          ],
          [
           "2020-03-09"
          ],
          [
           "2020-03-10"
          ],
          [
           "2020-03-11"
          ],
          [
           "2020-03-12"
          ],
          [
           "2020-03-13"
          ],
          [
           "2020-03-16"
          ],
          [
           "2020-03-17"
          ],
          [
           "2020-03-18"
          ],
          [
           "2020-03-19"
          ],
          [
           "2020-03-20"
          ],
          [
           "2020-03-23"
          ],
          [
           "2020-03-24"
          ],
          [
           "2020-03-25"
          ],
          [
           "2020-03-26"
          ],
          [
           "2020-03-27"
          ],
          [
           "2020-03-30"
          ],
          [
           "2020-03-31"
          ],
          [
           "2020-04-01"
          ],
          [
           "2020-04-02"
          ],
          [
           "2020-04-03"
          ],
          [
           "2020-04-06"
          ],
          [
           "2020-04-07"
          ],
          [
           "2020-04-08"
          ],
          [
           "2020-04-09"
          ],
          [
           "2020-04-13"
          ],
          [
           "2020-04-14"
          ],
          [
           "2020-04-15"
          ],
          [
           "2020-04-16"
          ],
          [
           "2020-04-17"
          ],
          [
           "2020-04-20"
          ],
          [
           "2020-04-21"
          ],
          [
           "2020-04-22"
          ],
          [
           "2020-04-23"
          ],
          [
           "2020-04-24"
          ],
          [
           "2020-04-27"
          ],
          [
           "2020-04-28"
          ],
          [
           "2020-04-29"
          ],
          [
           "2020-04-30"
          ],
          [
           "2020-05-01"
          ],
          [
           "2020-05-04"
          ],
          [
           "2020-05-05"
          ],
          [
           "2020-05-06"
          ],
          [
           "2020-05-07"
          ],
          [
           "2020-05-08"
          ],
          [
           "2020-05-11"
          ],
          [
           "2020-05-12"
          ],
          [
           "2020-05-13"
          ],
          [
           "2020-05-14"
          ],
          [
           "2020-05-15"
          ],
          [
           "2020-05-18"
          ],
          [
           "2020-05-19"
          ],
          [
           "2020-05-20"
          ],
          [
           "2020-05-21"
          ],
          [
           "2020-05-22"
          ],
          [
           "2020-05-26"
          ],
          [
           "2020-05-27"
          ],
          [
           "2020-05-28"
          ],
          [
           "2020-05-29"
          ],
          [
           "2020-06-01"
          ],
          [
           "2020-06-02"
          ],
          [
           "2020-06-03"
          ],
          [
           "2020-06-04"
          ],
          [
           "2020-06-05"
          ],
          [
           "2020-06-08"
          ],
          [
           "2020-06-09"
          ],
          [
           "2020-06-10"
          ],
          [
           "2020-06-11"
          ],
          [
           "2020-06-12"
          ],
          [
           "2020-06-15"
          ],
          [
           "2020-06-16"
          ],
          [
           "2020-06-17"
          ],
          [
           "2020-06-18"
          ],
          [
           "2020-06-19"
          ],
          [
           "2020-06-22"
          ],
          [
           "2020-06-23"
          ],
          [
           "2020-06-24"
          ],
          [
           "2020-06-25"
          ],
          [
           "2020-06-26"
          ],
          [
           "2020-06-29"
          ],
          [
           "2020-06-30"
          ],
          [
           "2020-07-01"
          ],
          [
           "2020-07-02"
          ],
          [
           "2020-07-06"
          ],
          [
           "2020-07-07"
          ],
          [
           "2020-07-08"
          ],
          [
           "2020-07-09"
          ],
          [
           "2020-07-10"
          ],
          [
           "2020-07-13"
          ],
          [
           "2020-07-14"
          ],
          [
           "2020-07-15"
          ],
          [
           "2020-07-16"
          ],
          [
           "2020-07-17"
          ],
          [
           "2020-07-20"
          ],
          [
           "2020-07-21"
          ],
          [
           "2020-07-22"
          ],
          [
           "2020-07-23"
          ],
          [
           "2020-07-24"
          ],
          [
           "2020-07-27"
          ],
          [
           "2020-07-28"
          ],
          [
           "2020-07-29"
          ],
          [
           "2020-07-30"
          ],
          [
           "2020-07-31"
          ],
          [
           "2020-08-03"
          ],
          [
           "2020-08-04"
          ],
          [
           "2020-08-05"
          ],
          [
           "2020-08-06"
          ],
          [
           "2020-08-07"
          ],
          [
           "2020-08-10"
          ],
          [
           "2020-08-11"
          ],
          [
           "2020-08-12"
          ],
          [
           "2020-08-13"
          ],
          [
           "2020-08-14"
          ],
          [
           "2020-08-17"
          ],
          [
           "2020-08-18"
          ],
          [
           "2020-08-19"
          ],
          [
           "2020-08-20"
          ],
          [
           "2020-08-21"
          ],
          [
           "2020-08-24"
          ],
          [
           "2020-08-25"
          ],
          [
           "2020-08-26"
          ],
          [
           "2020-08-27"
          ],
          [
           "2020-08-28"
          ],
          [
           "2020-08-31"
          ],
          [
           "2020-09-01"
          ],
          [
           "2020-09-02"
          ],
          [
           "2020-09-03"
          ],
          [
           "2020-09-04"
          ],
          [
           "2020-09-08"
          ],
          [
           "2020-09-09"
          ],
          [
           "2020-09-10"
          ],
          [
           "2020-09-11"
          ],
          [
           "2020-09-14"
          ],
          [
           "2020-09-15"
          ],
          [
           "2020-09-16"
          ],
          [
           "2020-09-17"
          ],
          [
           "2020-09-18"
          ],
          [
           "2020-09-21"
          ],
          [
           "2020-09-22"
          ],
          [
           "2020-09-23"
          ],
          [
           "2020-09-24"
          ],
          [
           "2020-09-25"
          ],
          [
           "2020-09-28"
          ],
          [
           "2020-09-29"
          ],
          [
           "2020-09-30"
          ],
          [
           "2020-10-01"
          ],
          [
           "2020-10-02"
          ],
          [
           "2020-10-05"
          ],
          [
           "2020-10-06"
          ],
          [
           "2020-10-07"
          ],
          [
           "2020-10-08"
          ],
          [
           "2020-10-09"
          ],
          [
           "2020-10-12"
          ],
          [
           "2020-10-13"
          ],
          [
           "2020-10-14"
          ],
          [
           "2020-10-15"
          ],
          [
           "2020-10-16"
          ],
          [
           "2020-10-19"
          ],
          [
           "2020-10-20"
          ],
          [
           "2020-10-21"
          ],
          [
           "2020-10-22"
          ],
          [
           "2020-10-23"
          ],
          [
           "2020-10-26"
          ],
          [
           "2020-10-27"
          ],
          [
           "2020-10-28"
          ],
          [
           "2020-10-29"
          ],
          [
           "2020-10-30"
          ],
          [
           "2020-11-02"
          ],
          [
           "2020-11-03"
          ],
          [
           "2020-11-04"
          ],
          [
           "2020-11-05"
          ],
          [
           "2020-11-06"
          ],
          [
           "2020-11-09"
          ],
          [
           "2020-11-10"
          ],
          [
           "2020-11-11"
          ],
          [
           "2020-11-12"
          ],
          [
           "2020-11-13"
          ],
          [
           "2020-11-16"
          ],
          [
           "2020-11-17"
          ],
          [
           "2020-11-18"
          ],
          [
           "2020-11-19"
          ],
          [
           "2020-11-20"
          ],
          [
           "2020-11-23"
          ],
          [
           "2020-11-24"
          ],
          [
           "2020-11-25"
          ],
          [
           "2020-11-27"
          ],
          [
           "2020-11-30"
          ],
          [
           "2020-12-01"
          ],
          [
           "2020-12-02"
          ],
          [
           "2020-12-03"
          ],
          [
           "2020-12-04"
          ],
          [
           "2020-12-07"
          ],
          [
           "2020-12-08"
          ],
          [
           "2020-12-09"
          ],
          [
           "2020-12-10"
          ],
          [
           "2020-12-11"
          ],
          [
           "2020-12-14"
          ],
          [
           "2020-12-15"
          ],
          [
           "2020-12-16"
          ],
          [
           "2020-12-17"
          ],
          [
           "2020-12-18"
          ],
          [
           "2020-12-21"
          ],
          [
           "2020-12-22"
          ],
          [
           "2020-12-23"
          ],
          [
           "2020-12-24"
          ],
          [
           "2020-12-28"
          ],
          [
           "2020-12-29"
          ],
          [
           "2020-12-30"
          ],
          [
           "2020-12-31"
          ]
         ],
         "hovertemplate": "Year=2020<br>variable=Close_Price<br>value=%{y}<br>Date=%{customdata[0]|%B %d, %Y}<extra></extra>",
         "legendgroup": "2020",
         "line": {
          "color": "#FFA15A",
          "dash": "solid"
         },
         "marker": {
          "symbol": "circle"
         },
         "mode": "markers+lines",
         "name": "2020",
         "showlegend": true,
         "type": "scattergl",
         "x": [
          2,
          3,
          6,
          7,
          8,
          9,
          10,
          13,
          14,
          15,
          16,
          17,
          21,
          22,
          23,
          24,
          27,
          28,
          29,
          30,
          31,
          34,
          35,
          36,
          37,
          38,
          41,
          42,
          43,
          44,
          45,
          49,
          50,
          51,
          52,
          55,
          56,
          57,
          58,
          59,
          62,
          63,
          64,
          65,
          66,
          69,
          70,
          71,
          72,
          73,
          76,
          77,
          78,
          79,
          80,
          83,
          84,
          85,
          86,
          87,
          90,
          91,
          92,
          93,
          94,
          97,
          98,
          99,
          100,
          104,
          105,
          106,
          107,
          108,
          111,
          112,
          113,
          114,
          115,
          118,
          119,
          120,
          121,
          122,
          125,
          126,
          127,
          128,
          129,
          132,
          133,
          134,
          135,
          136,
          139,
          140,
          141,
          142,
          143,
          147,
          148,
          149,
          150,
          153,
          154,
          155,
          156,
          157,
          160,
          161,
          162,
          163,
          164,
          167,
          168,
          169,
          170,
          171,
          174,
          175,
          176,
          177,
          178,
          181,
          182,
          183,
          184,
          188,
          189,
          190,
          191,
          192,
          195,
          196,
          197,
          198,
          199,
          202,
          203,
          204,
          205,
          206,
          209,
          210,
          211,
          212,
          213,
          216,
          217,
          218,
          219,
          220,
          223,
          224,
          225,
          226,
          227,
          230,
          231,
          232,
          233,
          234,
          237,
          238,
          239,
          240,
          241,
          244,
          245,
          246,
          247,
          248,
          252,
          253,
          254,
          255,
          258,
          259,
          260,
          261,
          262,
          265,
          266,
          267,
          268,
          269,
          272,
          273,
          274,
          275,
          276,
          279,
          280,
          281,
          282,
          283,
          286,
          287,
          288,
          289,
          290,
          293,
          294,
          295,
          296,
          297,
          300,
          301,
          302,
          303,
          304,
          307,
          308,
          309,
          310,
          311,
          314,
          315,
          316,
          317,
          318,
          321,
          322,
          323,
          324,
          325,
          328,
          329,
          330,
          332,
          335,
          336,
          337,
          338,
          339,
          342,
          343,
          344,
          345,
          346,
          349,
          350,
          351,
          352,
          353,
          356,
          357,
          358,
          359,
          363,
          364,
          365,
          366
         ],
         "xaxis": "x",
         "y": [
          68.36849975585938,
          68.03299713134766,
          69.71050262451172,
          69.66699981689453,
          70.21600341796875,
          70.99150085449219,
          71.48650360107422,
          71.96150207519531,
          71.54399871826172,
          71.95999908447266,
          72.58499908447266,
          74.01950073242188,
          74.22000122070312,
          74.29750061035156,
          74.3324966430664,
          73.33550262451172,
          71.69499969482422,
          72.62799835205078,
          72.93150329589844,
          72.79199981689453,
          71.71150207519531,
          74.2969970703125,
          72.35350036621094,
          72.4114990234375,
          73.8115005493164,
          73.96150207519531,
          75.43399810791016,
          75.43949890136719,
          75.91349792480469,
          75.73300170898438,
          76.03700256347656,
          75.9834976196289,
          76.33450317382812,
          75.90750122070312,
          74.25550079345703,
          71.07949829101562,
          69.42250061035156,
          69.65899658203125,
          65.90450286865234,
          66.96649932861328,
          69.45549774169922,
          67.06950378417969,
          69.32599639892578,
          65.9520034790039,
          64.92050170898438,
          60.77799987792969,
          64.01950073242188,
          60.77050018310547,
          55.74549865722656,
          60.98649978637695,
          54.21649932861328,
          55.9900016784668,
          54.84000015258789,
          55.76449966430664,
          53.61600112915039,
          52.83100128173828,
          56.722999572753906,
          55.1245002746582,
          58.087501525878906,
          55.535499572753906,
          57.340999603271484,
          58.140499114990234,
          55.28099822998047,
          56.04199981689453,
          54.89400100708008,
          59.34600067138672,
          59.32550048828125,
          60.513999938964844,
          60.5724983215332,
          60.87799835205078,
          63.46149826049805,
          63.12350082397461,
          63.173500061035156,
          64.1624984741211,
          63.330501556396484,
          60.81700134277344,
          63.160499572753906,
          63.81549835205078,
          63.96549987792969,
          63.79399871826172,
          61.68349838256836,
          67.0739974975586,
          67.43299865722656,
          66.03050231933594,
          66.33999633789062,
          67.55549621582031,
          67.36499786376953,
          68.62799835205078,
          69.41850280761719,
          70.16300201416016,
          68.78700256347656,
          67.46649932861328,
          67.80650329589844,
          68.65950012207031,
          69.1969985961914,
          68.67424774169922,
          70.33599853515625,
          70.13999938964844,
          70.52100372314453,
          70.85099792480469,
          70.89199829101562,
          70.83650207519531,
          71.44599914550781,
          71.59100341796875,
          71.96099853515625,
          71.81900024414062,
          70.60900115966797,
          71.91950225830078,
          72.33049774169922,
          72.80799865722656,
          73.2925033569336,
          70.19200134277344,
          70.65899658203125,
          70.99250030517578,
          72.13600158691406,
          72.55599975585938,
          71.7979965209961,
          71.58599853515625,
          72.59300231933594,
          73.22049713134766,
          71.59850311279297,
          72.06649780273438,
          67.99500274658203,
          69.74849700927734,
          70.68049621582031,
          71.9020004272461,
          73.23500061035156,
          74.78500366210938,
          74.25900268554688,
          74.80000305175781,
          75.54949951171875,
          77.08699798583984,
          75.56700134277344,
          76.02899932861328,
          75.68199920654297,
          75.9000015258789,
          75.77749633789062,
          78.28600311279297,
          77.9209976196289,
          78.42449951171875,
          75.78399658203125,
          75.59349822998047,
          76.51000213623047,
          75.01699829101562,
          76.10099792480469,
          76.57250213623047,
          74.14800262451172,
          73.72250366210938,
          73.24849700927734,
          73.68049621582031,
          75.00499725341797,
          74.72450256347656,
          74.80500030517578,
          74.01599884033203,
          75.33100128173828,
          75.92250061035156,
          75.3864974975586,
          75.89900207519531,
          77.93000030517578,
          77.37650299072266,
          79.0875015258789,
          79.02100372314453,
          79.41000366210938,
          80.41100311279297,
          82.61900329589844,
          81.71649932861328,
          82.22049713134766,
          81.70899963378906,
          83.0354995727539,
          86.41400146484375,
          82.09200286865234,
          79.552001953125,
          76.61949920654297,
          77.8479995727539,
          76.60099792480469,
          76.03600311279297,
          75.96399688720703,
          77.0719985961914,
          76.04499816894531,
          74.77649688720703,
          72.99949645996094,
          71.55799865722656,
          73.27300262451172,
          70.760498046875,
          71.41449737548828,
          72.24800109863281,
          73.22599792480469,
          73.46649932861328,
          73.4800033569336,
          74.50450134277344,
          72.9209976196289,
          74.3010025024414,
          72.6719970703125,
          73.0145034790039,
          74.29650115966797,
          75.76100158691406,
          78.4574966430664,
          78.58399963378906,
          78.40399932861328,
          77.95649719238281,
          78.65049743652344,
          76.73049926757812,
          77.79650115966797,
          79.66549682617188,
          80.7665023803711,
          82.05000305175781,
          79.52249908447266,
          80.21299743652344,
          75.83100128173828,
          78.36199951171875,
          81.05049896240234,
          81.30149841308594,
          82.510498046875,
          87.45649719238281,
          88.16850280761719,
          88.0875015258789,
          88.1500015258789,
          87.01950073242188,
          87.635498046875,
          87.49199676513672,
          88.85099792480469,
          89.06900024414062,
          88.50749969482422,
          87.33899688720703,
          88.19599914550781,
          87.1094970703125,
          86.74299621582031,
          88.44400024414062,
          88.57150268554688,
          89.65950012207031,
          88.03700256347656,
          89.90499877929688,
          91.39749908447266,
          91.3385009765625,
          91.39949798583984,
          90.9739990234375,
          90.92749786376953,
          89.20649719238281,
          88.7665023803711,
          89.0885009765625,
          88.00299835205078,
          88.38849639892578,
          88.1500015258789,
          87.3949966430664,
          86.55049896240234,
          86.96849822998047,
          86.17500305175781,
          86.61900329589844,
          86.94249725341797,
          88.80449676513672,
          87.93599700927734,
          86.97599792480469,
          87.59400177001953
         ],
         "yaxis": "y"
        },
        {
         "connectgaps": true,
         "customdata": [
          [
           "2021-01-04"
          ],
          [
           "2021-01-05"
          ],
          [
           "2021-01-06"
          ],
          [
           "2021-01-07"
          ],
          [
           "2021-01-08"
          ],
          [
           "2021-01-11"
          ],
          [
           "2021-01-12"
          ],
          [
           "2021-01-13"
          ],
          [
           "2021-01-14"
          ],
          [
           "2021-01-15"
          ],
          [
           "2021-01-19"
          ],
          [
           "2021-01-20"
          ],
          [
           "2021-01-21"
          ],
          [
           "2021-01-22"
          ],
          [
           "2021-01-25"
          ],
          [
           "2021-01-26"
          ],
          [
           "2021-01-27"
          ],
          [
           "2021-01-28"
          ],
          [
           "2021-01-29"
          ],
          [
           "2021-02-01"
          ],
          [
           "2021-02-02"
          ],
          [
           "2021-02-03"
          ],
          [
           "2021-02-04"
          ],
          [
           "2021-02-05"
          ],
          [
           "2021-02-08"
          ],
          [
           "2021-02-09"
          ],
          [
           "2021-02-10"
          ],
          [
           "2021-02-11"
          ],
          [
           "2021-02-12"
          ],
          [
           "2021-02-16"
          ],
          [
           "2021-02-17"
          ],
          [
           "2021-02-18"
          ],
          [
           "2021-02-19"
          ],
          [
           "2021-02-22"
          ],
          [
           "2021-02-23"
          ],
          [
           "2021-02-24"
          ],
          [
           "2021-02-25"
          ],
          [
           "2021-02-26"
          ],
          [
           "2021-03-01"
          ],
          [
           "2021-03-02"
          ],
          [
           "2021-03-03"
          ],
          [
           "2021-03-04"
          ],
          [
           "2021-03-05"
          ],
          [
           "2021-03-08"
          ],
          [
           "2021-03-09"
          ],
          [
           "2021-03-10"
          ],
          [
           "2021-03-11"
          ],
          [
           "2021-03-12"
          ],
          [
           "2021-03-15"
          ],
          [
           "2021-03-16"
          ],
          [
           "2021-03-17"
          ],
          [
           "2021-03-18"
          ],
          [
           "2021-03-19"
          ],
          [
           "2021-03-22"
          ],
          [
           "2021-03-23"
          ],
          [
           "2021-03-24"
          ],
          [
           "2021-03-25"
          ],
          [
           "2021-03-26"
          ],
          [
           "2021-03-29"
          ],
          [
           "2021-03-30"
          ],
          [
           "2021-03-31"
          ],
          [
           "2021-04-01"
          ],
          [
           "2021-04-05"
          ],
          [
           "2021-04-06"
          ],
          [
           "2021-04-07"
          ],
          [
           "2021-04-08"
          ],
          [
           "2021-04-09"
          ],
          [
           "2021-04-12"
          ],
          [
           "2021-04-13"
          ],
          [
           "2021-04-14"
          ],
          [
           "2021-04-15"
          ],
          [
           "2021-04-16"
          ],
          [
           "2021-04-19"
          ],
          [
           "2021-04-20"
          ],
          [
           "2021-04-21"
          ],
          [
           "2021-04-22"
          ],
          [
           "2021-04-23"
          ],
          [
           "2021-04-26"
          ],
          [
           "2021-04-27"
          ],
          [
           "2021-04-28"
          ],
          [
           "2021-04-29"
          ],
          [
           "2021-04-30"
          ],
          [
           "2021-05-03"
          ],
          [
           "2021-05-04"
          ],
          [
           "2021-05-05"
          ],
          [
           "2021-05-06"
          ],
          [
           "2021-05-07"
          ],
          [
           "2021-05-10"
          ],
          [
           "2021-05-11"
          ],
          [
           "2021-05-12"
          ],
          [
           "2021-05-13"
          ],
          [
           "2021-05-14"
          ],
          [
           "2021-05-17"
          ],
          [
           "2021-05-18"
          ],
          [
           "2021-05-19"
          ],
          [
           "2021-05-20"
          ],
          [
           "2021-05-21"
          ],
          [
           "2021-05-24"
          ],
          [
           "2021-05-25"
          ],
          [
           "2021-05-26"
          ],
          [
           "2021-05-27"
          ],
          [
           "2021-05-28"
          ],
          [
           "2021-06-01"
          ],
          [
           "2021-06-02"
          ],
          [
           "2021-06-03"
          ],
          [
           "2021-06-04"
          ],
          [
           "2021-06-07"
          ],
          [
           "2021-06-08"
          ],
          [
           "2021-06-09"
          ],
          [
           "2021-06-10"
          ],
          [
           "2021-06-11"
          ],
          [
           "2021-06-14"
          ],
          [
           "2021-06-15"
          ],
          [
           "2021-06-16"
          ],
          [
           "2021-06-17"
          ],
          [
           "2021-06-18"
          ],
          [
           "2021-06-21"
          ],
          [
           "2021-06-22"
          ],
          [
           "2021-06-23"
          ],
          [
           "2021-06-24"
          ],
          [
           "2021-06-25"
          ],
          [
           "2021-06-28"
          ],
          [
           "2021-06-29"
          ],
          [
           "2021-06-30"
          ],
          [
           "2021-07-01"
          ],
          [
           "2021-07-02"
          ],
          [
           "2021-07-06"
          ],
          [
           "2021-07-07"
          ],
          [
           "2021-07-08"
          ],
          [
           "2021-07-09"
          ],
          [
           "2021-07-12"
          ],
          [
           "2021-07-13"
          ],
          [
           "2021-07-14"
          ],
          [
           "2021-07-15"
          ],
          [
           "2021-07-16"
          ],
          [
           "2021-07-19"
          ],
          [
           "2021-07-20"
          ],
          [
           "2021-07-21"
          ],
          [
           "2021-07-22"
          ],
          [
           "2021-07-23"
          ],
          [
           "2021-07-26"
          ],
          [
           "2021-07-27"
          ],
          [
           "2021-07-28"
          ],
          [
           "2021-07-29"
          ],
          [
           "2021-07-30"
          ],
          [
           "2021-08-02"
          ],
          [
           "2021-08-03"
          ],
          [
           "2021-08-04"
          ],
          [
           "2021-08-05"
          ],
          [
           "2021-08-06"
          ],
          [
           "2021-08-09"
          ],
          [
           "2021-08-10"
          ],
          [
           "2021-08-11"
          ],
          [
           "2021-08-12"
          ],
          [
           "2021-08-13"
          ],
          [
           "2021-08-16"
          ],
          [
           "2021-08-17"
          ],
          [
           "2021-08-18"
          ],
          [
           "2021-08-19"
          ],
          [
           "2021-08-20"
          ],
          [
           "2021-08-23"
          ],
          [
           "2021-08-24"
          ],
          [
           "2021-08-25"
          ],
          [
           "2021-08-26"
          ],
          [
           "2021-08-27"
          ],
          [
           "2021-08-30"
          ],
          [
           "2021-08-31"
          ],
          [
           "2021-09-01"
          ],
          [
           "2021-09-02"
          ],
          [
           "2021-09-03"
          ],
          [
           "2021-09-07"
          ],
          [
           "2021-09-08"
          ],
          [
           "2021-09-09"
          ],
          [
           "2021-09-10"
          ],
          [
           "2021-09-13"
          ],
          [
           "2021-09-14"
          ],
          [
           "2021-09-15"
          ],
          [
           "2021-09-16"
          ],
          [
           "2021-09-17"
          ],
          [
           "2021-09-20"
          ],
          [
           "2021-09-21"
          ],
          [
           "2021-09-22"
          ],
          [
           "2021-09-23"
          ],
          [
           "2021-09-24"
          ],
          [
           "2021-09-27"
          ],
          [
           "2021-09-28"
          ],
          [
           "2021-09-29"
          ],
          [
           "2021-09-30"
          ],
          [
           "2021-10-01"
          ],
          [
           "2021-10-04"
          ],
          [
           "2021-10-05"
          ],
          [
           "2021-10-06"
          ],
          [
           "2021-10-07"
          ],
          [
           "2021-10-08"
          ],
          [
           "2021-10-11"
          ],
          [
           "2021-10-12"
          ],
          [
           "2021-10-13"
          ],
          [
           "2021-10-14"
          ],
          [
           "2021-10-15"
          ],
          [
           "2021-10-18"
          ],
          [
           "2021-10-19"
          ],
          [
           "2021-10-20"
          ],
          [
           "2021-10-21"
          ],
          [
           "2021-10-22"
          ],
          [
           "2021-10-25"
          ],
          [
           "2021-10-26"
          ],
          [
           "2021-10-27"
          ],
          [
           "2021-10-28"
          ],
          [
           "2021-10-29"
          ],
          [
           "2021-11-01"
          ],
          [
           "2021-11-02"
          ],
          [
           "2021-11-03"
          ],
          [
           "2021-11-04"
          ],
          [
           "2021-11-05"
          ],
          [
           "2021-11-08"
          ],
          [
           "2021-11-09"
          ],
          [
           "2021-11-10"
          ],
          [
           "2021-11-11"
          ],
          [
           "2021-11-12"
          ],
          [
           "2021-11-15"
          ],
          [
           "2021-11-16"
          ],
          [
           "2021-11-17"
          ],
          [
           "2021-11-18"
          ],
          [
           "2021-11-19"
          ],
          [
           "2021-11-22"
          ],
          [
           "2021-11-23"
          ],
          [
           "2021-11-24"
          ],
          [
           "2021-11-26"
          ],
          [
           "2021-11-29"
          ],
          [
           "2021-11-30"
          ],
          [
           "2021-12-01"
          ],
          [
           "2021-12-02"
          ],
          [
           "2021-12-03"
          ],
          [
           "2021-12-06"
          ],
          [
           "2021-12-07"
          ],
          [
           "2021-12-08"
          ],
          [
           "2021-12-09"
          ],
          [
           "2021-12-10"
          ],
          [
           "2021-12-13"
          ],
          [
           "2021-12-14"
          ],
          [
           "2021-12-15"
          ],
          [
           "2021-12-16"
          ],
          [
           "2021-12-17"
          ],
          [
           "2021-12-20"
          ],
          [
           "2021-12-21"
          ],
          [
           "2021-12-22"
          ],
          [
           "2021-12-23"
          ],
          [
           "2021-12-27"
          ],
          [
           "2021-12-28"
          ],
          [
           "2021-12-29"
          ],
          [
           "2021-12-30"
          ],
          [
           "2021-12-31"
          ]
         ],
         "hovertemplate": "Year=2021<br>variable=Close_Price<br>value=%{y}<br>Date=%{customdata[0]|%B %d, %Y}<extra></extra>",
         "legendgroup": "2021",
         "line": {
          "color": "#19d3f3",
          "dash": "solid"
         },
         "marker": {
          "symbol": "circle"
         },
         "mode": "markers+lines",
         "name": "2021",
         "showlegend": true,
         "type": "scattergl",
         "x": [
          4,
          5,
          6,
          7,
          8,
          11,
          12,
          13,
          14,
          15,
          19,
          20,
          21,
          22,
          25,
          26,
          27,
          28,
          29,
          32,
          33,
          34,
          35,
          36,
          39,
          40,
          41,
          42,
          43,
          47,
          48,
          49,
          50,
          53,
          54,
          55,
          56,
          57,
          60,
          61,
          62,
          63,
          64,
          67,
          68,
          69,
          70,
          71,
          74,
          75,
          76,
          77,
          78,
          81,
          82,
          83,
          84,
          85,
          88,
          89,
          90,
          91,
          95,
          96,
          97,
          98,
          99,
          102,
          103,
          104,
          105,
          106,
          109,
          110,
          111,
          112,
          113,
          116,
          117,
          118,
          119,
          120,
          123,
          124,
          125,
          126,
          127,
          130,
          131,
          132,
          133,
          134,
          137,
          138,
          139,
          140,
          141,
          144,
          145,
          146,
          147,
          148,
          152,
          153,
          154,
          155,
          158,
          159,
          160,
          161,
          162,
          165,
          166,
          167,
          168,
          169,
          172,
          173,
          174,
          175,
          176,
          179,
          180,
          181,
          182,
          183,
          187,
          188,
          189,
          190,
          193,
          194,
          195,
          196,
          197,
          200,
          201,
          202,
          203,
          204,
          207,
          208,
          209,
          210,
          211,
          214,
          215,
          216,
          217,
          218,
          221,
          222,
          223,
          224,
          225,
          228,
          229,
          230,
          231,
          232,
          235,
          236,
          237,
          238,
          239,
          242,
          243,
          244,
          245,
          246,
          250,
          251,
          252,
          253,
          256,
          257,
          258,
          259,
          260,
          263,
          264,
          265,
          266,
          267,
          270,
          271,
          272,
          273,
          274,
          277,
          278,
          279,
          280,
          281,
          284,
          285,
          286,
          287,
          288,
          291,
          292,
          293,
          294,
          295,
          298,
          299,
          300,
          301,
          302,
          305,
          306,
          307,
          308,
          309,
          312,
          313,
          314,
          315,
          316,
          319,
          320,
          321,
          322,
          323,
          326,
          327,
          328,
          330,
          333,
          334,
          335,
          336,
          337,
          340,
          341,
          342,
          343,
          344,
          347,
          348,
          349,
          350,
          351,
          354,
          355,
          356,
          357,
          361,
          362,
          363,
          364,
          365
         ],
         "xaxis": "x",
         "y": [
          86.41200256347656,
          87.0459976196289,
          86.7645034790039,
          89.36250305175781,
          90.3604965209961,
          88.33599853515625,
          87.32749938964844,
          87.72000122070312,
          87.00900268554688,
          86.80950164794922,
          89.54299926757812,
          94.34500122070312,
          94.5625,
          95.05249786376953,
          94.97000122070312,
          95.86199951171875,
          91.53949737548828,
          93.15550231933594,
          91.78700256347656,
          95.06749725341797,
          96.37550354003906,
          103.50350189208984,
          103.11849975585938,
          104.9000015258789,
          104.64550018310547,
          104.17549896240234,
          104.76899719238281,
          104.79450225830078,
          105.20549774169922,
          106.09500122070312,
          106.41549682617188,
          105.86000061035156,
          105.05699920654297,
          103.24400329589844,
          103.54299926757812,
          104.75849914550781,
          101.56800079345703,
          101.84300231933594,
          104.07550048828125,
          103.79199981689453,
          101.33550262451172,
          102.45449829101562,
          105.427001953125,
          101.20850372314453,
          102.63500213623047,
          102.75150299072266,
          105.7385025024414,
          103.09600067138672,
          103.32450103759766,
          104.6259994506836,
          104.55400085449219,
          101.81099700927734,
          102.16000366210938,
          101.92949676513672,
          102.64800262451172,
          102.25299835205078,
          102.21800231933594,
          101.77749633789062,
          102.79750061035156,
          102.7770004272461,
          103.43150329589844,
          106.88749694824219,
          111.27749633789062,
          111.23750305175781,
          112.48400115966797,
          113.27200317382812,
          114.29399871826172,
          112.739501953125,
          113.3635025024414,
          112.74199676513672,
          114.83300018310547,
          114.88800048828125,
          115.12000274658203,
          114.68150329589844,
          114.66449737548828,
          113.39600372314453,
          115.76499938964844,
          116.33699798583984,
          115.35600280761719,
          118.99549865722656,
          121.49449920654297,
          120.50599670410156,
          119.75849914550781,
          117.7125015258789,
          117.83699798583984,
          119.06749725341797,
          119.93450164794922,
          117.08300018310547,
          115.43800354003906,
          111.9540023803711,
          113.09850311279297,
          115.80799865722656,
          116.07050323486328,
          115.17150115966797,
          115.43550109863281,
          117.80449676513672,
          117.25499725341797,
          120.33350372314453,
          120.45349884033203,
          121.67649841308594,
          120.12550354003906,
          120.5780029296875,
          121.4905014038086,
          121.06400299072266,
          120.23049926757812,
          122.58799743652344,
          123.30449676513672,
          124.14250183105469,
          124.56999969482422,
          126.08000183105469,
          125.69650268554688,
          126.35199737548828,
          126.03299713134766,
          125.69650268554688,
          126.37100219726562,
          125.56749725341797,
          126.45500183105469,
          126.99949645996094,
          126.46150207519531,
          127.28199768066406,
          126.99500274658203,
          126.81950378417969,
          126.01850128173828,
          125.31600189208984,
          126.36849975585938,
          128.718994140625,
          129.77099609375,
          130.07749938964844,
          129.177001953125,
          129.57449340820312,
          130.56399536132812,
          130.9945068359375,
          132.08250427246094,
          131.26649475097656,
          131.8455047607422,
          129.25399780273438,
          131.10150146484375,
          132.60049438476562,
          133.32850646972656,
          137.8159942626953,
          139.64450073242188,
          136.79649353027344,
          136.38150024414062,
          136.54049682617188,
          135.2209930419922,
          135.989501953125,
          136.27999877929688,
          136.02850341796875,
          136.94000244140625,
          137.03599548339844,
          138.0019989013672,
          138.09649658203125,
          137.6894989013672,
          138.38949584960938,
          138.406005859375,
          138.91600036621094,
          137.30050659179688,
          136.57000732421875,
          136.9134979248047,
          138.43699645996094,
          141.09950256347656,
          142.39849853515625,
          142.9499969482422,
          142.1230010986328,
          144.55050659179688,
          145.46949768066406,
          145.46200561523438,
          145.8419952392578,
          144.218994140625,
          144.77499389648438,
          145.5189971923828,
          144.8834991455078,
          144.9134979248047,
          141.92100524902344,
          143.46499633789062,
          143.406005859375,
          145.20599365234375,
          144.37350463867188,
          141.4635009765625,
          139.01699829101562,
          139.64649963378906,
          140.93850708007812,
          141.82650756835938,
          142.63299560546875,
          141.50100708007812,
          136.1840057373047,
          134.52099609375,
          133.2655029296875,
          136.46249389648438,
          133.76499938964844,
          136.177001953125,
          137.35400390625,
          139.1855010986328,
          140.05599975585938,
          138.84750366210938,
          136.71299743652344,
          137.89999389648438,
          141.41200256347656,
          141.6750030517578,
          142.9604949951172,
          143.82200622558594,
          142.4149932861328,
          142.78050231933594,
          138.625,
          138.7729949951172,
          139.6719970703125,
          146.42750549316406,
          146.12899780273438,
          148.27049255371094,
          143.7740020751953,
          145.86300659179688,
          146.7899932861328,
          148.68299865722656,
          149.24099731445312,
          149.35150146484375,
          149.24850463867188,
          146.62600708007812,
          146.7480010986328,
          149.64549255371094,
          149.38800048828125,
          149.0760040283203,
          149.06199645996094,
          150.70899963378906,
          149.95249938964844,
          147.07850646972656,
          146.7570037841797,
          146.71749877929688,
          142.80599975585938,
          146.11399841308594,
          142.45199584960938,
          141.6179962158203,
          143.77650451660156,
          142.52049255371094,
          143.79649353027344,
          148.0364990234375,
          148.7205047607422,
          148.1060028076172,
          148.6750030517578,
          146.70449829101562,
          144.9705047607422,
          147.36849975585938,
          144.8385009765625,
          142.80299377441406,
          142.40150451660156,
          144.2205047607422,
          146.94900512695312,
          147.1425018310547,
          148.06399536132812,
          146.447998046875,
          146.50450134277344,
          146.00250244140625,
          144.67950439453125
         ],
         "yaxis": "y"
        },
        {
         "connectgaps": true,
         "customdata": [
          [
           "2022-01-03"
          ],
          [
           "2022-01-04"
          ],
          [
           "2022-01-05"
          ],
          [
           "2022-01-06"
          ],
          [
           "2022-01-07"
          ],
          [
           "2022-01-10"
          ],
          [
           "2022-01-11"
          ],
          [
           "2022-01-12"
          ],
          [
           "2022-01-13"
          ],
          [
           "2022-01-14"
          ],
          [
           "2022-01-18"
          ],
          [
           "2022-01-19"
          ],
          [
           "2022-01-20"
          ],
          [
           "2022-01-21"
          ],
          [
           "2022-01-24"
          ],
          [
           "2022-01-25"
          ],
          [
           "2022-01-26"
          ],
          [
           "2022-01-27"
          ],
          [
           "2022-01-28"
          ],
          [
           "2022-01-31"
          ],
          [
           "2022-02-01"
          ],
          [
           "2022-02-02"
          ],
          [
           "2022-02-03"
          ],
          [
           "2022-02-04"
          ],
          [
           "2022-02-07"
          ],
          [
           "2022-02-08"
          ],
          [
           "2022-02-09"
          ],
          [
           "2022-02-10"
          ],
          [
           "2022-02-11"
          ],
          [
           "2022-02-14"
          ],
          [
           "2022-02-15"
          ],
          [
           "2022-02-16"
          ],
          [
           "2022-02-17"
          ],
          [
           "2022-02-18"
          ],
          [
           "2022-02-22"
          ],
          [
           "2022-02-23"
          ],
          [
           "2022-02-24"
          ],
          [
           "2022-02-25"
          ],
          [
           "2022-02-28"
          ],
          [
           "2022-03-01"
          ],
          [
           "2022-03-02"
          ],
          [
           "2022-03-03"
          ],
          [
           "2022-03-04"
          ],
          [
           "2022-03-07"
          ],
          [
           "2022-03-08"
          ],
          [
           "2022-03-09"
          ],
          [
           "2022-03-10"
          ],
          [
           "2022-03-11"
          ],
          [
           "2022-03-14"
          ],
          [
           "2022-03-15"
          ],
          [
           "2022-03-16"
          ],
          [
           "2022-03-17"
          ],
          [
           "2022-03-18"
          ],
          [
           "2022-03-21"
          ],
          [
           "2022-03-22"
          ],
          [
           "2022-03-23"
          ],
          [
           "2022-03-24"
          ],
          [
           "2022-03-25"
          ],
          [
           "2022-03-28"
          ],
          [
           "2022-03-29"
          ],
          [
           "2022-03-30"
          ],
          [
           "2022-03-31"
          ],
          [
           "2022-04-01"
          ],
          [
           "2022-04-04"
          ],
          [
           "2022-04-05"
          ],
          [
           "2022-04-06"
          ],
          [
           "2022-04-07"
          ],
          [
           "2022-04-08"
          ],
          [
           "2022-04-11"
          ],
          [
           "2022-04-12"
          ],
          [
           "2022-04-13"
          ],
          [
           "2022-04-14"
          ],
          [
           "2022-04-18"
          ],
          [
           "2022-04-19"
          ],
          [
           "2022-04-20"
          ],
          [
           "2022-04-21"
          ],
          [
           "2022-04-22"
          ],
          [
           "2022-04-25"
          ],
          [
           "2022-04-26"
          ],
          [
           "2022-04-27"
          ],
          [
           "2022-04-28"
          ],
          [
           "2022-04-29"
          ],
          [
           "2022-05-02"
          ],
          [
           "2022-05-03"
          ],
          [
           "2022-05-04"
          ],
          [
           "2022-05-05"
          ],
          [
           "2022-05-06"
          ],
          [
           "2022-05-09"
          ],
          [
           "2022-05-10"
          ]
         ],
         "hovertemplate": "Year=2022<br>variable=Close_Price<br>value=%{y}<br>Date=%{customdata[0]|%B %d, %Y}<extra></extra>",
         "legendgroup": "2022",
         "line": {
          "color": "#FF6692",
          "dash": "solid"
         },
         "marker": {
          "symbol": "circle"
         },
         "mode": "markers+lines",
         "name": "2022",
         "showlegend": true,
         "type": "scattergl",
         "x": [
          3,
          4,
          5,
          6,
          7,
          10,
          11,
          12,
          13,
          14,
          18,
          19,
          20,
          21,
          24,
          25,
          26,
          27,
          28,
          31,
          32,
          33,
          34,
          35,
          38,
          39,
          40,
          41,
          42,
          45,
          46,
          47,
          48,
          49,
          53,
          54,
          55,
          56,
          59,
          60,
          61,
          62,
          63,
          66,
          67,
          68,
          69,
          70,
          73,
          74,
          75,
          76,
          77,
          80,
          81,
          82,
          83,
          84,
          87,
          88,
          89,
          90,
          91,
          94,
          95,
          96,
          97,
          98,
          101,
          102,
          103,
          104,
          108,
          109,
          110,
          111,
          112,
          115,
          116,
          117,
          118,
          119,
          122,
          123,
          124,
          125,
          126,
          129,
          130
         ],
         "xaxis": "x",
         "y": [
          145.07449340820312,
          144.41650390625,
          137.65350341796875,
          137.55099487304688,
          137.00450134277344,
          138.57400512695312,
          140.0175018310547,
          141.6479949951172,
          139.13099670410156,
          139.7864990234375,
          136.29049682617188,
          135.65199279785156,
          133.50650024414062,
          130.0919952392578,
          130.3719940185547,
          126.7354965209961,
          129.24000549316406,
          129.12100219726562,
          133.2895050048828,
          135.69850158691406,
          137.8784942626953,
          148.0364990234375,
          142.65049743652344,
          143.01600646972656,
          138.93800354003906,
          139.21299743652344,
          141.4530029296875,
          138.6024932861328,
          134.1300048828125,
          135.3000030517578,
          136.42550659179688,
          137.4875030517578,
          132.30850219726562,
          130.46749877929688,
          129.40249633789062,
          127.58499908447266,
          132.67349243164062,
          134.51950073242188,
          134.89100646972656,
          134.16799926757812,
          134.75149536132812,
          134.30799865722656,
          132.1219940185547,
          126.4645004272461,
          127.27850341796875,
          133.86599731445312,
          132.6820068359375,
          130.47549438476562,
          126.74099731445312,
          129.66050720214844,
          133.6905059814453,
          134.60049438476562,
          136.80149841308594,
          136.47850036621094,
          140.27749633789062,
          138.5034942626953,
          141.31199645996094,
          141.52149963378906,
          141.9499969482422,
          143.25,
          142.64450073242188,
          139.64950561523438,
          140.6999969482422,
          143.6425018310547,
          141.06300354003906,
          137.17599487304688,
          136.46499633789062,
          134.010498046875,
          129.79649353027344,
          128.37449645996094,
          130.28599548339844,
          127.25299835205078,
          127.96099853515625,
          130.531005859375,
          128.24549865722656,
          124.9375,
          119.61399841308594,
          123.25,
          119.50599670410156,
          115.02050018310547,
          119.4114990234375,
          114.96649932861328,
          117.15699768066406,
          118.12950134277344,
          122.57499694824219,
          116.74649810791016,
          115.66000366210938,
          113.08399963378906,
          114.58450317382812
         ],
         "yaxis": "y"
        },
        {
         "mode": "markers+lines",
         "name": "Predicted",
         "type": "scatter",
         "x": [
          101,
          102,
          103,
          104,
          108,
          109,
          110,
          111,
          112,
          115,
          116,
          117,
          118,
          119,
          122,
          123,
          124,
          125,
          126,
          129,
          130
         ],
         "y": [
          130.51145419126487,
          125.4065780735491,
          120.74462711081514,
          116.05826336859468,
          112.3508399339928,
          112.15409227803752,
          109.46482367942826,
          111.33280109782982,
          111.55833217755003,
          112.39130332139678,
          109.22089085752611,
          104.88025061843678,
          103.43576600056758,
          103.6983788970108,
          104.11148840950136,
          101.17434013049069,
          101.07988713824261,
          99.6824320242456,
          100.47286066966234,
          100.82545401973458,
          101.5176483375543
         ]
        },
        {
         "marker": {
          "color": "rgba(68, 68, 68, 0.2)",
          "line": {
           "width": 0
          }
         },
         "mode": "lines",
         "name": "Upper Bound: 68%",
         "showlegend": true,
         "type": "scatter",
         "x": [
          101,
          102,
          103,
          104,
          108,
          109,
          110,
          111,
          112,
          115,
          116,
          117,
          118,
          119,
          122,
          123,
          124,
          125,
          126,
          129,
          130
         ],
         "y": [
          144.10596577213,
          139.00108965441422,
          134.33913869168026,
          129.6527749494598,
          125.94535151485792,
          125.74860385890264,
          123.05933526029338,
          124.92731267869493,
          125.15284375841514,
          125.9858149022619,
          122.81540243839123,
          118.47476219930189,
          117.0302775814327,
          117.29289047787591,
          117.70599999036648,
          114.76885171135581,
          114.67439871910773,
          113.27694360511072,
          114.06737225052746,
          114.4199656005997,
          115.11215991841942
         ]
        },
        {
         "fill": "tonexty",
         "fillcolor": "rgba(68, 68, 68, 0.2)",
         "marker": {
          "color": "rgba(68, 68, 68, 0.2)",
          "line": {
           "width": 0
          }
         },
         "mode": "lines",
         "name": "Lower Bound: 68%",
         "showlegend": true,
         "type": "scatter",
         "x": [
          101,
          102,
          103,
          104,
          108,
          109,
          110,
          111,
          112,
          115,
          116,
          117,
          118,
          119,
          122,
          123,
          124,
          125,
          126,
          129,
          130
         ],
         "y": [
          116.91694261039976,
          111.81206649268398,
          107.15011552995003,
          102.46375178772956,
          98.75632835312769,
          98.55958069717241,
          95.87031209856315,
          97.7382895169647,
          97.96382059668491,
          98.79679174053166,
          95.626379276661,
          91.28573903757166,
          89.84125441970247,
          90.10386731614568,
          90.51697682863625,
          87.57982854962557,
          87.4853755573775,
          86.08792044338048,
          86.87834908879722,
          87.23094243886946,
          87.92313675668919
         ]
        },
        {
         "marker": {
          "color": "rgba(68, 68, 68, 0.1)",
          "line": {
           "width": 0
          }
         },
         "mode": "lines",
         "name": "Upper Bound: 90%",
         "showlegend": true,
         "type": "scatter",
         "x": [
          101,
          102,
          103,
          104,
          108,
          109,
          110,
          111,
          112,
          115,
          116,
          117,
          118,
          119,
          122,
          123,
          124,
          125,
          126,
          129,
          130
         ],
         "y": [
          152.87442574178797,
          147.7695496240722,
          143.10759866133824,
          138.42123491911778,
          134.7138114845159,
          134.51706382856062,
          131.82779522995136,
          133.69577264835291,
          133.92130372807313,
          134.75427487191988,
          131.5838624080492,
          127.24322216895989,
          125.7987375510907,
          126.06135044753391,
          126.47445996002448,
          123.5373116810138,
          123.44285868876572,
          122.04540357476871,
          122.83583222018545,
          123.18842557025769,
          123.88061988807742
         ]
        },
        {
         "fill": "tonexty",
         "fillcolor": "rgba(68, 68, 68, 0.1)",
         "marker": {
          "color": "rgba(68, 68, 68, 0.1)",
          "line": {
           "width": 0
          }
         },
         "mode": "lines",
         "name": "Lower Bound: 90%",
         "showlegend": true,
         "type": "scatter",
         "x": [
          101,
          102,
          103,
          104,
          108,
          109,
          110,
          111,
          112,
          115,
          116,
          117,
          118,
          119,
          122,
          123,
          124,
          125,
          126,
          129,
          130
         ],
         "y": [
          108.14848264074176,
          103.04360652302599,
          98.38165556029203,
          93.69529181807157,
          89.98786838346969,
          89.79112072751441,
          87.10185212890515,
          88.9698295473067,
          89.19536062702691,
          90.02833177087366,
          86.857919307003,
          82.51727906791366,
          81.07279445004447,
          81.33540734648768,
          81.74851685897825,
          78.81136857996758,
          78.7169155877195,
          77.31946047372249,
          78.10988911913923,
          78.46248246921147,
          79.15467678703119
         ]
        }
       ],
       "layout": {
        "hovermode": "x",
        "legend": {
         "title": {
          "text": "Year"
         },
         "tracegroupgap": 0
        },
        "margin": {
         "t": 60
        },
        "paper_bgcolor": "rgba(0,0,0,0)",
        "plot_bgcolor": "rgba(0,0,0,0)",
        "template": {
         "data": {
          "bar": [
           {
            "error_x": {
             "color": "#2a3f5f"
            },
            "error_y": {
             "color": "#2a3f5f"
            },
            "marker": {
             "line": {
              "color": "#E5ECF6",
              "width": 0.5
             },
             "pattern": {
              "fillmode": "overlay",
              "size": 10,
              "solidity": 0.2
             }
            },
            "type": "bar"
           }
          ],
          "barpolar": [
           {
            "marker": {
             "line": {
              "color": "#E5ECF6",
              "width": 0.5
             },
             "pattern": {
              "fillmode": "overlay",
              "size": 10,
              "solidity": 0.2
             }
            },
            "type": "barpolar"
           }
          ],
          "carpet": [
           {
            "aaxis": {
             "endlinecolor": "#2a3f5f",
             "gridcolor": "white",
             "linecolor": "white",
             "minorgridcolor": "white",
             "startlinecolor": "#2a3f5f"
            },
            "baxis": {
             "endlinecolor": "#2a3f5f",
             "gridcolor": "white",
             "linecolor": "white",
             "minorgridcolor": "white",
             "startlinecolor": "#2a3f5f"
            },
            "type": "carpet"
           }
          ],
          "choropleth": [
           {
            "colorbar": {
             "outlinewidth": 0,
             "ticks": ""
            },
            "type": "choropleth"
           }
          ],
          "contour": [
           {
            "colorbar": {
             "outlinewidth": 0,
             "ticks": ""
            },
            "colorscale": [
             [
              0,
              "#0d0887"
             ],
             [
              0.1111111111111111,
              "#46039f"
             ],
             [
              0.2222222222222222,
              "#7201a8"
             ],
             [
              0.3333333333333333,
              "#9c179e"
             ],
             [
              0.4444444444444444,
              "#bd3786"
             ],
             [
              0.5555555555555556,
              "#d8576b"
             ],
             [
              0.6666666666666666,
              "#ed7953"
             ],
             [
              0.7777777777777778,
              "#fb9f3a"
             ],
             [
              0.8888888888888888,
              "#fdca26"
             ],
             [
              1,
              "#f0f921"
             ]
            ],
            "type": "contour"
           }
          ],
          "contourcarpet": [
           {
            "colorbar": {
             "outlinewidth": 0,
             "ticks": ""
            },
            "type": "contourcarpet"
           }
          ],
          "heatmap": [
           {
            "colorbar": {
             "outlinewidth": 0,
             "ticks": ""
            },
            "colorscale": [
             [
              0,
              "#0d0887"
             ],
             [
              0.1111111111111111,
              "#46039f"
             ],
             [
              0.2222222222222222,
              "#7201a8"
             ],
             [
              0.3333333333333333,
              "#9c179e"
             ],
             [
              0.4444444444444444,
              "#bd3786"
             ],
             [
              0.5555555555555556,
              "#d8576b"
             ],
             [
              0.6666666666666666,
              "#ed7953"
             ],
             [
              0.7777777777777778,
              "#fb9f3a"
             ],
             [
              0.8888888888888888,
              "#fdca26"
             ],
             [
              1,
              "#f0f921"
             ]
            ],
            "type": "heatmap"
           }
          ],
          "heatmapgl": [
           {
            "colorbar": {
             "outlinewidth": 0,
             "ticks": ""
            },
            "colorscale": [
             [
              0,
              "#0d0887"
             ],
             [
              0.1111111111111111,
              "#46039f"
             ],
             [
              0.2222222222222222,
              "#7201a8"
             ],
             [
              0.3333333333333333,
              "#9c179e"
             ],
             [
              0.4444444444444444,
              "#bd3786"
             ],
             [
              0.5555555555555556,
              "#d8576b"
             ],
             [
              0.6666666666666666,
              "#ed7953"
             ],
             [
              0.7777777777777778,
              "#fb9f3a"
             ],
             [
              0.8888888888888888,
              "#fdca26"
             ],
             [
              1,
              "#f0f921"
             ]
            ],
            "type": "heatmapgl"
           }
          ],
          "histogram": [
           {
            "marker": {
             "pattern": {
              "fillmode": "overlay",
              "size": 10,
              "solidity": 0.2
             }
            },
            "type": "histogram"
           }
          ],
          "histogram2d": [
           {
            "colorbar": {
             "outlinewidth": 0,
             "ticks": ""
            },
            "colorscale": [
             [
              0,
              "#0d0887"
             ],
             [
              0.1111111111111111,
              "#46039f"
             ],
             [
              0.2222222222222222,
              "#7201a8"
             ],
             [
              0.3333333333333333,
              "#9c179e"
             ],
             [
              0.4444444444444444,
              "#bd3786"
             ],
             [
              0.5555555555555556,
              "#d8576b"
             ],
             [
              0.6666666666666666,
              "#ed7953"
             ],
             [
              0.7777777777777778,
              "#fb9f3a"
             ],
             [
              0.8888888888888888,
              "#fdca26"
             ],
             [
              1,
              "#f0f921"
             ]
            ],
            "type": "histogram2d"
           }
          ],
          "histogram2dcontour": [
           {
            "colorbar": {
             "outlinewidth": 0,
             "ticks": ""
            },
            "colorscale": [
             [
              0,
              "#0d0887"
             ],
             [
              0.1111111111111111,
              "#46039f"
             ],
             [
              0.2222222222222222,
              "#7201a8"
             ],
             [
              0.3333333333333333,
              "#9c179e"
             ],
             [
              0.4444444444444444,
              "#bd3786"
             ],
             [
              0.5555555555555556,
              "#d8576b"
             ],
             [
              0.6666666666666666,
              "#ed7953"
             ],
             [
              0.7777777777777778,
              "#fb9f3a"
             ],
             [
              0.8888888888888888,
              "#fdca26"
             ],
             [
              1,
              "#f0f921"
             ]
            ],
            "type": "histogram2dcontour"
           }
          ],
          "mesh3d": [
           {
            "colorbar": {
             "outlinewidth": 0,
             "ticks": ""
            },
            "type": "mesh3d"
           }
          ],
          "parcoords": [
           {
            "line": {
             "colorbar": {
              "outlinewidth": 0,
              "ticks": ""
             }
            },
            "type": "parcoords"
           }
          ],
          "pie": [
           {
            "automargin": true,
            "type": "pie"
           }
          ],
          "scatter": [
           {
            "fillpattern": {
             "fillmode": "overlay",
             "size": 10,
             "solidity": 0.2
            },
            "type": "scatter"
           }
          ],
          "scatter3d": [
           {
            "line": {
             "colorbar": {
              "outlinewidth": 0,
              "ticks": ""
             }
            },
            "marker": {
             "colorbar": {
              "outlinewidth": 0,
              "ticks": ""
             }
            },
            "type": "scatter3d"
           }
          ],
          "scattercarpet": [
           {
            "marker": {
             "colorbar": {
              "outlinewidth": 0,
              "ticks": ""
             }
            },
            "type": "scattercarpet"
           }
          ],
          "scattergeo": [
           {
            "marker": {
             "colorbar": {
              "outlinewidth": 0,
              "ticks": ""
             }
            },
            "type": "scattergeo"
           }
          ],
          "scattergl": [
           {
            "marker": {
             "colorbar": {
              "outlinewidth": 0,
              "ticks": ""
             }
            },
            "type": "scattergl"
           }
          ],
          "scattermapbox": [
           {
            "marker": {
             "colorbar": {
              "outlinewidth": 0,
              "ticks": ""
             }
            },
            "type": "scattermapbox"
           }
          ],
          "scatterpolar": [
           {
            "marker": {
             "colorbar": {
              "outlinewidth": 0,
              "ticks": ""
             }
            },
            "type": "scatterpolar"
           }
          ],
          "scatterpolargl": [
           {
            "marker": {
             "colorbar": {
              "outlinewidth": 0,
              "ticks": ""
             }
            },
            "type": "scatterpolargl"
           }
          ],
          "scatterternary": [
           {
            "marker": {
             "colorbar": {
              "outlinewidth": 0,
              "ticks": ""
             }
            },
            "type": "scatterternary"
           }
          ],
          "surface": [
           {
            "colorbar": {
             "outlinewidth": 0,
             "ticks": ""
            },
            "colorscale": [
             [
              0,
              "#0d0887"
             ],
             [
              0.1111111111111111,
              "#46039f"
             ],
             [
              0.2222222222222222,
              "#7201a8"
             ],
             [
              0.3333333333333333,
              "#9c179e"
             ],
             [
              0.4444444444444444,
              "#bd3786"
             ],
             [
              0.5555555555555556,
              "#d8576b"
             ],
             [
              0.6666666666666666,
              "#ed7953"
             ],
             [
              0.7777777777777778,
              "#fb9f3a"
             ],
             [
              0.8888888888888888,
              "#fdca26"
             ],
             [
              1,
              "#f0f921"
             ]
            ],
            "type": "surface"
           }
          ],
          "table": [
           {
            "cells": {
             "fill": {
              "color": "#EBF0F8"
             },
             "line": {
              "color": "white"
             }
            },
            "header": {
             "fill": {
              "color": "#C8D4E3"
             },
             "line": {
              "color": "white"
             }
            },
            "type": "table"
           }
          ]
         },
         "layout": {
          "annotationdefaults": {
           "arrowcolor": "#2a3f5f",
           "arrowhead": 0,
           "arrowwidth": 1
          },
          "autotypenumbers": "strict",
          "coloraxis": {
           "colorbar": {
            "outlinewidth": 0,
            "ticks": ""
           }
          },
          "colorscale": {
           "diverging": [
            [
             0,
             "#8e0152"
            ],
            [
             0.1,
             "#c51b7d"
            ],
            [
             0.2,
             "#de77ae"
            ],
            [
             0.3,
             "#f1b6da"
            ],
            [
             0.4,
             "#fde0ef"
            ],
            [
             0.5,
             "#f7f7f7"
            ],
            [
             0.6,
             "#e6f5d0"
            ],
            [
             0.7,
             "#b8e186"
            ],
            [
             0.8,
             "#7fbc41"
            ],
            [
             0.9,
             "#4d9221"
            ],
            [
             1,
             "#276419"
            ]
           ],
           "sequential": [
            [
             0,
             "#0d0887"
            ],
            [
             0.1111111111111111,
             "#46039f"
            ],
            [
             0.2222222222222222,
             "#7201a8"
            ],
            [
             0.3333333333333333,
             "#9c179e"
            ],
            [
             0.4444444444444444,
             "#bd3786"
            ],
            [
             0.5555555555555556,
             "#d8576b"
            ],
            [
             0.6666666666666666,
             "#ed7953"
            ],
            [
             0.7777777777777778,
             "#fb9f3a"
            ],
            [
             0.8888888888888888,
             "#fdca26"
            ],
            [
             1,
             "#f0f921"
            ]
           ],
           "sequentialminus": [
            [
             0,
             "#0d0887"
            ],
            [
             0.1111111111111111,
             "#46039f"
            ],
            [
             0.2222222222222222,
             "#7201a8"
            ],
            [
             0.3333333333333333,
             "#9c179e"
            ],
            [
             0.4444444444444444,
             "#bd3786"
            ],
            [
             0.5555555555555556,
             "#d8576b"
            ],
            [
             0.6666666666666666,
             "#ed7953"
            ],
            [
             0.7777777777777778,
             "#fb9f3a"
            ],
            [
             0.8888888888888888,
             "#fdca26"
            ],
            [
             1,
             "#f0f921"
            ]
           ]
          },
          "colorway": [
           "#636efa",
           "#EF553B",
           "#00cc96",
           "#ab63fa",
           "#FFA15A",
           "#19d3f3",
           "#FF6692",
           "#B6E880",
           "#FF97FF",
           "#FECB52"
          ],
          "font": {
           "color": "#2a3f5f"
          },
          "geo": {
           "bgcolor": "white",
           "lakecolor": "white",
           "landcolor": "#E5ECF6",
           "showlakes": true,
           "showland": true,
           "subunitcolor": "white"
          },
          "hoverlabel": {
           "align": "left"
          },
          "hovermode": "closest",
          "mapbox": {
           "style": "light"
          },
          "paper_bgcolor": "white",
          "plot_bgcolor": "#E5ECF6",
          "polar": {
           "angularaxis": {
            "gridcolor": "white",
            "linecolor": "white",
            "ticks": ""
           },
           "bgcolor": "#E5ECF6",
           "radialaxis": {
            "gridcolor": "white",
            "linecolor": "white",
            "ticks": ""
           }
          },
          "scene": {
           "xaxis": {
            "backgroundcolor": "#E5ECF6",
            "gridcolor": "white",
            "gridwidth": 2,
            "linecolor": "white",
            "showbackground": true,
            "ticks": "",
            "zerolinecolor": "white"
           },
           "yaxis": {
            "backgroundcolor": "#E5ECF6",
            "gridcolor": "white",
            "gridwidth": 2,
            "linecolor": "white",
            "showbackground": true,
            "ticks": "",
            "zerolinecolor": "white"
           },
           "zaxis": {
            "backgroundcolor": "#E5ECF6",
            "gridcolor": "white",
            "gridwidth": 2,
            "linecolor": "white",
            "showbackground": true,
            "ticks": "",
            "zerolinecolor": "white"
           }
          },
          "shapedefaults": {
           "line": {
            "color": "#2a3f5f"
           }
          },
          "ternary": {
           "aaxis": {
            "gridcolor": "white",
            "linecolor": "white",
            "ticks": ""
           },
           "baxis": {
            "gridcolor": "white",
            "linecolor": "white",
            "ticks": ""
           },
           "bgcolor": "#E5ECF6",
           "caxis": {
            "gridcolor": "white",
            "linecolor": "white",
            "ticks": ""
           }
          },
          "title": {
           "x": 0.05
          },
          "xaxis": {
           "automargin": true,
           "gridcolor": "white",
           "linecolor": "white",
           "ticks": "",
           "title": {
            "standoff": 15
           },
           "zerolinecolor": "white",
           "zerolinewidth": 2
          },
          "yaxis": {
           "automargin": true,
           "gridcolor": "white",
           "linecolor": "white",
           "ticks": "",
           "title": {
            "standoff": 15
           },
           "zerolinecolor": "white",
           "zerolinewidth": 2
          }
         }
        },
        "title": {
         "text": "GOOG Stock Prices Until 2022-04-08"
        },
        "xaxis": {
         "anchor": "y",
         "domain": [
          0,
          1
         ],
         "linecolor": "black",
         "ticktext": [
          "Jan",
          "Feb",
          "March",
          "April",
          "May",
          "June",
          "July",
          "Aug",
          "Sep",
          "Oct",
          "Nov",
          "Dec"
         ],
         "tickvals": [
          1,
          32,
          60,
          91,
          121,
          152,
          182,
          213,
          244,
          274,
          305,
          335
         ],
         "title": {
          "text": "Month"
         }
        },
        "yaxis": {
         "anchor": "x",
         "domain": [
          0,
          1
         ],
         "linecolor": "black",
         "rangemode": "tozero",
         "title": {
          "text": "Close Prices ($)"
         }
        }
       }
      },
      "text/html": [
       "<div>                            <div id=\"8a7d0b24-ce25-4fb9-929c-5c2689531931\" class=\"plotly-graph-div\" style=\"height:525px; width:100%;\"></div>            <script type=\"text/javascript\">                require([\"plotly\"], function(Plotly) {                    window.PLOTLYENV=window.PLOTLYENV || {};                                    if (document.getElementById(\"8a7d0b24-ce25-4fb9-929c-5c2689531931\")) {                    Plotly.newPlot(                        \"8a7d0b24-ce25-4fb9-929c-5c2689531931\",                        [{\"customdata\":[[\"2016-10-17\"],[\"2016-10-18\"],[\"2016-10-19\"],[\"2016-10-20\"],[\"2016-10-21\"],[\"2016-10-24\"],[\"2016-10-25\"],[\"2016-10-26\"],[\"2016-10-27\"],[\"2016-10-28\"],[\"2016-10-31\"],[\"2016-11-01\"],[\"2016-11-02\"],[\"2016-11-03\"],[\"2016-11-04\"],[\"2016-11-07\"],[\"2016-11-08\"],[\"2016-11-09\"],[\"2016-11-10\"],[\"2016-11-11\"],[\"2016-11-14\"],[\"2016-11-15\"],[\"2016-11-16\"],[\"2016-11-17\"],[\"2016-11-18\"],[\"2016-11-21\"],[\"2016-11-22\"],[\"2016-11-23\"],[\"2016-11-25\"],[\"2016-11-28\"],[\"2016-11-29\"],[\"2016-11-30\"],[\"2016-12-01\"],[\"2016-12-02\"],[\"2016-12-05\"],[\"2016-12-06\"],[\"2016-12-07\"],[\"2016-12-08\"],[\"2016-12-09\"],[\"2016-12-12\"],[\"2016-12-13\"],[\"2016-12-14\"],[\"2016-12-15\"],[\"2016-12-16\"],[\"2016-12-19\"],[\"2016-12-20\"],[\"2016-12-21\"],[\"2016-12-22\"],[\"2016-12-23\"],[\"2016-12-27\"],[\"2016-12-28\"],[\"2016-12-29\"],[\"2016-12-30\"]],\"hovertemplate\":\"Year=2016<br>variable=Close_Price<br>value=%{y}<br>Date=%{customdata[0]|%B %d, %Y}<extra></extra>\",\"legendgroup\":\"2016\",\"line\":{\"color\":\"#636efa\",\"dash\":\"solid\"},\"marker\":{\"symbol\":\"circle\"},\"mode\":\"markers+lines\",\"name\":\"2016\",\"showlegend\":true,\"x\":[291,292,293,294,295,298,299,300,301,302,305,306,307,308,309,312,313,314,315,316,319,320,321,322,323,326,327,328,330,333,334,335,336,337,340,341,342,343,344,347,348,349,350,351,354,355,356,357,358,362,363,364,365],\"xaxis\":\"x\",\"y\":[38.99800109863281,39.76300048828125,40.07500076293945,39.8484992980957,39.96849822998047,40.65549850463867,40.38349914550781,39.95349884033203,39.76750183105469,39.76850128173828,39.22700119018555,39.18050003051758,38.435001373291016,38.10649871826172,38.10100173950195,39.125999450683594,39.5255012512207,39.265499114990234,38.12799835205078,37.70100021362305,36.80400085449219,37.92449951171875,38.2239990234375,38.561500549316406,38.027000427246094,38.459999084472656,38.41350173950195,38.04949951171875,38.08399963378906,38.4119987487793,38.54199981689453,37.902000427246094,37.395999908447266,37.525001525878906,38.125999450683594,37.955501556396484,38.55950164794922,38.82099914550781,39.464500427246094,39.4635009765625,39.80500030517578,39.85350036621094,39.89250183105469,39.540000915527344,39.709999084472656,39.82099914550781,39.72800064086914,39.5629997253418,39.49549865722656,39.57749938964844,39.252498626708984,39.13949966430664,38.590999603271484],\"yaxis\":\"y\",\"type\":\"scattergl\",\"connectgaps\":true},{\"customdata\":[[\"2017-01-03\"],[\"2017-01-04\"],[\"2017-01-05\"],[\"2017-01-06\"],[\"2017-01-09\"],[\"2017-01-10\"],[\"2017-01-11\"],[\"2017-01-12\"],[\"2017-01-13\"],[\"2017-01-17\"],[\"2017-01-18\"],[\"2017-01-19\"],[\"2017-01-20\"],[\"2017-01-23\"],[\"2017-01-24\"],[\"2017-01-25\"],[\"2017-01-26\"],[\"2017-01-27\"],[\"2017-01-30\"],[\"2017-01-31\"],[\"2017-02-01\"],[\"2017-02-02\"],[\"2017-02-03\"],[\"2017-02-06\"],[\"2017-02-07\"],[\"2017-02-08\"],[\"2017-02-09\"],[\"2017-02-10\"],[\"2017-02-13\"],[\"2017-02-14\"],[\"2017-02-15\"],[\"2017-02-16\"],[\"2017-02-17\"],[\"2017-02-21\"],[\"2017-02-22\"],[\"2017-02-23\"],[\"2017-02-24\"],[\"2017-02-27\"],[\"2017-02-28\"],[\"2017-03-01\"],[\"2017-03-02\"],[\"2017-03-03\"],[\"2017-03-06\"],[\"2017-03-07\"],[\"2017-03-08\"],[\"2017-03-09\"],[\"2017-03-10\"],[\"2017-03-13\"],[\"2017-03-14\"],[\"2017-03-15\"],[\"2017-03-16\"],[\"2017-03-17\"],[\"2017-03-20\"],[\"2017-03-21\"],[\"2017-03-22\"],[\"2017-03-23\"],[\"2017-03-24\"],[\"2017-03-27\"],[\"2017-03-28\"],[\"2017-03-29\"],[\"2017-03-30\"],[\"2017-03-31\"],[\"2017-04-03\"],[\"2017-04-04\"],[\"2017-04-05\"],[\"2017-04-06\"],[\"2017-04-07\"],[\"2017-04-10\"],[\"2017-04-11\"],[\"2017-04-12\"],[\"2017-04-13\"],[\"2017-04-17\"],[\"2017-04-18\"],[\"2017-04-19\"],[\"2017-04-20\"],[\"2017-04-21\"],[\"2017-04-24\"],[\"2017-04-25\"],[\"2017-04-26\"],[\"2017-04-27\"],[\"2017-04-28\"],[\"2017-05-01\"],[\"2017-05-02\"],[\"2017-05-03\"],[\"2017-05-04\"],[\"2017-05-05\"],[\"2017-05-08\"],[\"2017-05-09\"],[\"2017-05-10\"],[\"2017-05-11\"],[\"2017-05-12\"],[\"2017-05-15\"],[\"2017-05-16\"],[\"2017-05-17\"],[\"2017-05-18\"],[\"2017-05-19\"],[\"2017-05-22\"],[\"2017-05-23\"],[\"2017-05-24\"],[\"2017-05-25\"],[\"2017-05-26\"],[\"2017-05-30\"],[\"2017-05-31\"],[\"2017-06-01\"],[\"2017-06-02\"],[\"2017-06-05\"],[\"2017-06-06\"],[\"2017-06-07\"],[\"2017-06-08\"],[\"2017-06-09\"],[\"2017-06-12\"],[\"2017-06-13\"],[\"2017-06-14\"],[\"2017-06-15\"],[\"2017-06-16\"],[\"2017-06-19\"],[\"2017-06-20\"],[\"2017-06-21\"],[\"2017-06-22\"],[\"2017-06-23\"],[\"2017-06-26\"],[\"2017-06-27\"],[\"2017-06-28\"],[\"2017-06-29\"],[\"2017-06-30\"],[\"2017-07-03\"],[\"2017-07-05\"],[\"2017-07-06\"],[\"2017-07-07\"],[\"2017-07-10\"],[\"2017-07-11\"],[\"2017-07-12\"],[\"2017-07-13\"],[\"2017-07-14\"],[\"2017-07-17\"],[\"2017-07-18\"],[\"2017-07-19\"],[\"2017-07-20\"],[\"2017-07-21\"],[\"2017-07-24\"],[\"2017-07-25\"],[\"2017-07-26\"],[\"2017-07-27\"],[\"2017-07-28\"],[\"2017-07-31\"],[\"2017-08-01\"],[\"2017-08-02\"],[\"2017-08-03\"],[\"2017-08-04\"],[\"2017-08-07\"],[\"2017-08-08\"],[\"2017-08-09\"],[\"2017-08-10\"],[\"2017-08-11\"],[\"2017-08-14\"],[\"2017-08-15\"],[\"2017-08-16\"],[\"2017-08-17\"],[\"2017-08-18\"],[\"2017-08-21\"],[\"2017-08-22\"],[\"2017-08-23\"],[\"2017-08-24\"],[\"2017-08-25\"],[\"2017-08-28\"],[\"2017-08-29\"],[\"2017-08-30\"],[\"2017-08-31\"],[\"2017-09-01\"],[\"2017-09-05\"],[\"2017-09-06\"],[\"2017-09-07\"],[\"2017-09-08\"],[\"2017-09-11\"],[\"2017-09-12\"],[\"2017-09-13\"],[\"2017-09-14\"],[\"2017-09-15\"],[\"2017-09-18\"],[\"2017-09-19\"],[\"2017-09-20\"],[\"2017-09-21\"],[\"2017-09-22\"],[\"2017-09-25\"],[\"2017-09-26\"],[\"2017-09-27\"],[\"2017-09-28\"],[\"2017-09-29\"],[\"2017-10-02\"],[\"2017-10-03\"],[\"2017-10-04\"],[\"2017-10-05\"],[\"2017-10-06\"],[\"2017-10-09\"],[\"2017-10-10\"],[\"2017-10-11\"],[\"2017-10-12\"],[\"2017-10-13\"],[\"2017-10-16\"],[\"2017-10-17\"],[\"2017-10-18\"],[\"2017-10-19\"],[\"2017-10-20\"],[\"2017-10-23\"],[\"2017-10-24\"],[\"2017-10-25\"],[\"2017-10-26\"],[\"2017-10-27\"],[\"2017-10-30\"],[\"2017-10-31\"],[\"2017-11-01\"],[\"2017-11-02\"],[\"2017-11-03\"],[\"2017-11-06\"],[\"2017-11-07\"],[\"2017-11-08\"],[\"2017-11-09\"],[\"2017-11-10\"],[\"2017-11-13\"],[\"2017-11-14\"],[\"2017-11-15\"],[\"2017-11-16\"],[\"2017-11-17\"],[\"2017-11-20\"],[\"2017-11-21\"],[\"2017-11-22\"],[\"2017-11-24\"],[\"2017-11-27\"],[\"2017-11-28\"],[\"2017-11-29\"],[\"2017-11-30\"],[\"2017-12-01\"],[\"2017-12-04\"],[\"2017-12-05\"],[\"2017-12-06\"],[\"2017-12-07\"],[\"2017-12-08\"],[\"2017-12-11\"],[\"2017-12-12\"],[\"2017-12-13\"],[\"2017-12-14\"],[\"2017-12-15\"],[\"2017-12-18\"],[\"2017-12-19\"],[\"2017-12-20\"],[\"2017-12-21\"],[\"2017-12-22\"],[\"2017-12-26\"],[\"2017-12-27\"],[\"2017-12-28\"],[\"2017-12-29\"]],\"hovertemplate\":\"Year=2017<br>variable=Close_Price<br>value=%{y}<br>Date=%{customdata[0]|%B %d, %Y}<extra></extra>\",\"legendgroup\":\"2017\",\"line\":{\"color\":\"#EF553B\",\"dash\":\"solid\"},\"marker\":{\"symbol\":\"circle\"},\"mode\":\"markers+lines\",\"name\":\"2017\",\"showlegend\":true,\"x\":[3,4,5,6,9,10,11,12,13,17,18,19,20,23,24,25,26,27,30,31,32,33,34,37,38,39,40,41,44,45,46,47,48,52,53,54,55,58,59,60,61,62,65,66,67,68,69,72,73,74,75,76,79,80,81,82,83,86,87,88,89,90,93,94,95,96,97,100,101,102,103,107,108,109,110,111,114,115,116,117,118,121,122,123,124,125,128,129,130,131,132,135,136,137,138,139,142,143,144,145,146,150,151,152,153,156,157,158,159,160,163,164,165,166,167,170,171,172,173,174,177,178,179,180,181,184,186,187,188,191,192,193,194,195,198,199,200,201,202,205,206,207,208,209,212,213,214,215,216,219,220,221,222,223,226,227,228,229,230,233,234,235,236,237,240,241,242,243,244,248,249,250,251,254,255,256,257,258,261,262,263,264,265,268,269,270,271,272,275,276,277,278,279,282,283,284,285,286,289,290,291,292,293,296,297,298,299,300,303,304,305,306,307,310,311,312,313,314,317,318,319,320,321,324,325,326,328,331,332,333,334,335,338,339,340,341,342,345,346,347,348,349,352,353,354,355,356,360,361,362,363],\"xaxis\":\"x\",\"y\":[39.30699920654297,39.345001220703125,39.70100021362305,40.307498931884766,40.33250045776367,40.239498138427734,40.39550018310547,40.31800079345703,40.39400100708008,40.230499267578125,40.30350112915039,40.10874938964844,40.250999450683594,40.96549987792969,41.19350051879883,41.78350067138672,41.60749816894531,41.16550064086914,40.11600112915039,39.839500427246094,39.784751892089844,39.92649841308594,40.074501037597656,40.06700134277344,40.3484992980957,40.41899871826172,40.47800064086914,40.68349838256836,40.96200180053711,41.022499084472656,40.94900131225586,41.20800018310547,41.403499603271484,41.58300018310547,41.53799819946289,41.56650161743164,41.43199920654297,41.4640007019043,41.160499572753906,41.762001037597656,41.53150177001953,41.45399856567383,41.388999938964844,41.59550094604492,41.76850128173828,41.933998107910156,42.162498474121094,42.277000427246094,42.28099822998047,42.36000061035156,42.43899917602539,42.60599899291992,42.41999816894531,41.52299880981445,41.47949981689453,40.87900161743164,40.721500396728516,40.97549819946289,41.04600143432617,41.570499420166016,41.57500076293945,41.47800064086914,41.9275016784668,41.72850036621094,41.570499420166016,41.39400100708008,41.23350143432617,41.23649978637695,41.16749954223633,41.215999603271484,41.178001403808594,41.85850143432617,41.840999603271484,41.910499572753906,42.08250045776367,42.15950012207031,43.13800048828125,43.6150016784668,43.58649826049805,43.712501525878906,45.29800033569336,45.628501892089844,45.821998596191406,46.35200119018555,46.58300018310547,46.35649871826172,46.71500015258789,46.60850143432617,46.43899917602539,46.529998779296875,46.611000061035156,46.854000091552734,47.150001525878906,45.98099899291992,46.512001037597656,46.70050048828125,47.09299850463867,47.441001892089844,47.74800109863281,48.47700119018555,48.57350158691406,48.79399871826172,48.24300003051758,48.34749984741211,48.779998779296875,49.183998107910156,48.82849884033203,49.047000885009766,49.170501708984375,47.49150085449219,47.14500045776367,47.66999816894531,47.53799819946289,47.115501403808594,46.98899841308594,47.868499755859375,47.53150177001953,47.97249984741211,47.85449981689453,48.27949905395508,47.61349868774414,46.36650085449219,47.02450180053711,45.88949966430664,45.436500549316406,44.935001373291016,45.58549880981445,45.33449935913086,45.929500579833984,46.439998626708984,46.50450134277344,47.19150161743164,47.358001708984375,47.79949951171875,47.67100143432617,48.27000045776367,48.544498443603516,48.407501220703125,48.645999908447266,49.016998291015625,47.53499984741211,47.38999938964844,46.704498291015625,47.076499938964844,46.525001525878906,46.541500091552734,46.519500732421875,46.182498931884766,46.39799880981445,46.46799850463867,46.339500427246094,46.14500045776367,45.36199951171875,45.71950149536133,46.13349914550781,46.111000061035156,46.347999572753906,45.54899978637695,45.53350067138672,45.33300018310547,46.234500885009766,46.349998474121094,46.06399917602539,45.794498443603516,45.69049835205078,46.06449890136719,46.47850036621094,46.96649932861328,46.867000579833984,46.42250061035156,46.390499114990234,46.79750061035156,46.32500076293945,46.45399856567383,46.60350036621094,46.75450134277344,46.25550079345703,46.01449966430664,45.75,46.09049987792969,46.57899856567383,46.622501373291016,46.42649841308594,46.048500061035156,46.24300003051758,47.2244987487793,47.474998474121094,47.955501556396484,47.66350173950195,47.88949966430664,47.58399963378906,48.49800109863281,48.94449996948242,48.849998474121094,48.630001068115234,49.462501525878906,49.39149856567383,49.48400115966797,49.599998474121094,49.60900115966797,49.640499114990234,49.22249984741211,49.40999984741211,48.42250061035156,48.527000427246094,48.666500091552734,48.62799835205078,50.9635009765625,50.855499267578125,50.832000732421875,51.275001525878906,51.27899932861328,51.624000549316406,51.29499816894531,51.666500091552734,51.99250030517578,51.5629997253418,51.403499603271484,51.287498474121094,51.29999923706055,51.045501708984375,51.625,50.954498291015625,50.91899871826172,51.7244987487793,51.79800033569336,52.03049850463867,52.71049880981445,52.37049865722656,51.08300018310547,51.070499420166016,50.50849914550781,49.933998107910156,50.25749969482422,50.91899871826172,51.54650115966797,51.852500915527344,52.05500030517578,52.02399826049805,52.03049850463867,52.45750045776367,53.20949935913086,53.856998443603516,53.534000396728516,53.247501373291016,53.18149948120117,53.00600051879883,52.83700180053711,52.46849822998047,52.40700149536133,52.31999969482422],\"yaxis\":\"y\",\"type\":\"scattergl\",\"connectgaps\":true},{\"customdata\":[[\"2018-01-02\"],[\"2018-01-03\"],[\"2018-01-04\"],[\"2018-01-05\"],[\"2018-01-08\"],[\"2018-01-09\"],[\"2018-01-10\"],[\"2018-01-11\"],[\"2018-01-12\"],[\"2018-01-16\"],[\"2018-01-17\"],[\"2018-01-18\"],[\"2018-01-19\"],[\"2018-01-22\"],[\"2018-01-23\"],[\"2018-01-24\"],[\"2018-01-25\"],[\"2018-01-26\"],[\"2018-01-29\"],[\"2018-01-30\"],[\"2018-01-31\"],[\"2018-02-01\"],[\"2018-02-02\"],[\"2018-02-05\"],[\"2018-02-06\"],[\"2018-02-07\"],[\"2018-02-08\"],[\"2018-02-09\"],[\"2018-02-12\"],[\"2018-02-13\"],[\"2018-02-14\"],[\"2018-02-15\"],[\"2018-02-16\"],[\"2018-02-20\"],[\"2018-02-21\"],[\"2018-02-22\"],[\"2018-02-23\"],[\"2018-02-26\"],[\"2018-02-27\"],[\"2018-02-28\"],[\"2018-03-01\"],[\"2018-03-02\"],[\"2018-03-05\"],[\"2018-03-06\"],[\"2018-03-07\"],[\"2018-03-08\"],[\"2018-03-09\"],[\"2018-03-12\"],[\"2018-03-13\"],[\"2018-03-14\"],[\"2018-03-15\"],[\"2018-03-16\"],[\"2018-03-19\"],[\"2018-03-20\"],[\"2018-03-21\"],[\"2018-03-22\"],[\"2018-03-23\"],[\"2018-03-26\"],[\"2018-03-27\"],[\"2018-03-28\"],[\"2018-03-29\"],[\"2018-04-02\"],[\"2018-04-03\"],[\"2018-04-04\"],[\"2018-04-05\"],[\"2018-04-06\"],[\"2018-04-09\"],[\"2018-04-10\"],[\"2018-04-11\"],[\"2018-04-12\"],[\"2018-04-13\"],[\"2018-04-16\"],[\"2018-04-17\"],[\"2018-04-18\"],[\"2018-04-19\"],[\"2018-04-20\"],[\"2018-04-23\"],[\"2018-04-24\"],[\"2018-04-25\"],[\"2018-04-26\"],[\"2018-04-27\"],[\"2018-04-30\"],[\"2018-05-01\"],[\"2018-05-02\"],[\"2018-05-03\"],[\"2018-05-04\"],[\"2018-05-07\"],[\"2018-05-08\"],[\"2018-05-09\"],[\"2018-05-10\"],[\"2018-05-11\"],[\"2018-05-14\"],[\"2018-05-15\"],[\"2018-05-16\"],[\"2018-05-17\"],[\"2018-05-18\"],[\"2018-05-21\"],[\"2018-05-22\"],[\"2018-05-23\"],[\"2018-05-24\"],[\"2018-05-25\"],[\"2018-05-29\"],[\"2018-05-30\"],[\"2018-05-31\"],[\"2018-06-01\"],[\"2018-06-04\"],[\"2018-06-05\"],[\"2018-06-06\"],[\"2018-06-07\"],[\"2018-06-08\"],[\"2018-06-11\"],[\"2018-06-12\"],[\"2018-06-13\"],[\"2018-06-14\"],[\"2018-06-15\"],[\"2018-06-18\"],[\"2018-06-19\"],[\"2018-06-20\"],[\"2018-06-21\"],[\"2018-06-22\"],[\"2018-06-25\"],[\"2018-06-26\"],[\"2018-06-27\"],[\"2018-06-28\"],[\"2018-06-29\"],[\"2018-07-02\"],[\"2018-07-03\"],[\"2018-07-05\"],[\"2018-07-06\"],[\"2018-07-09\"],[\"2018-07-10\"],[\"2018-07-11\"],[\"2018-07-12\"],[\"2018-07-13\"],[\"2018-07-16\"],[\"2018-07-17\"],[\"2018-07-18\"],[\"2018-07-19\"],[\"2018-07-20\"],[\"2018-07-23\"],[\"2018-07-24\"],[\"2018-07-25\"],[\"2018-07-26\"],[\"2018-07-27\"],[\"2018-07-30\"],[\"2018-07-31\"],[\"2018-08-01\"],[\"2018-08-02\"],[\"2018-08-03\"],[\"2018-08-06\"],[\"2018-08-07\"],[\"2018-08-08\"],[\"2018-08-09\"],[\"2018-08-10\"],[\"2018-08-13\"],[\"2018-08-14\"],[\"2018-08-15\"],[\"2018-08-16\"],[\"2018-08-17\"],[\"2018-08-20\"],[\"2018-08-21\"],[\"2018-08-22\"],[\"2018-08-23\"],[\"2018-08-24\"],[\"2018-08-27\"],[\"2018-08-28\"],[\"2018-08-29\"],[\"2018-08-30\"],[\"2018-08-31\"],[\"2018-09-04\"],[\"2018-09-05\"],[\"2018-09-06\"],[\"2018-09-07\"],[\"2018-09-10\"],[\"2018-09-11\"],[\"2018-09-12\"],[\"2018-09-13\"],[\"2018-09-14\"],[\"2018-09-17\"],[\"2018-09-18\"],[\"2018-09-19\"],[\"2018-09-20\"],[\"2018-09-21\"],[\"2018-09-24\"],[\"2018-09-25\"],[\"2018-09-26\"],[\"2018-09-27\"],[\"2018-09-28\"],[\"2018-10-01\"],[\"2018-10-02\"],[\"2018-10-03\"],[\"2018-10-04\"],[\"2018-10-05\"],[\"2018-10-08\"],[\"2018-10-09\"],[\"2018-10-10\"],[\"2018-10-11\"],[\"2018-10-12\"],[\"2018-10-15\"],[\"2018-10-16\"],[\"2018-10-17\"],[\"2018-10-18\"],[\"2018-10-19\"],[\"2018-10-22\"],[\"2018-10-23\"],[\"2018-10-24\"],[\"2018-10-25\"],[\"2018-10-26\"],[\"2018-10-29\"],[\"2018-10-30\"],[\"2018-10-31\"],[\"2018-11-01\"],[\"2018-11-02\"],[\"2018-11-05\"],[\"2018-11-06\"],[\"2018-11-07\"],[\"2018-11-08\"],[\"2018-11-09\"],[\"2018-11-12\"],[\"2018-11-13\"],[\"2018-11-14\"],[\"2018-11-15\"],[\"2018-11-16\"],[\"2018-11-19\"],[\"2018-11-20\"],[\"2018-11-21\"],[\"2018-11-23\"],[\"2018-11-26\"],[\"2018-11-27\"],[\"2018-11-28\"],[\"2018-11-29\"],[\"2018-11-30\"],[\"2018-12-03\"],[\"2018-12-04\"],[\"2018-12-06\"],[\"2018-12-07\"],[\"2018-12-10\"],[\"2018-12-11\"],[\"2018-12-12\"],[\"2018-12-13\"],[\"2018-12-14\"],[\"2018-12-17\"],[\"2018-12-18\"],[\"2018-12-19\"],[\"2018-12-20\"],[\"2018-12-21\"],[\"2018-12-24\"],[\"2018-12-26\"],[\"2018-12-27\"],[\"2018-12-28\"],[\"2018-12-31\"]],\"hovertemplate\":\"Year=2018<br>variable=Close_Price<br>value=%{y}<br>Date=%{customdata[0]|%B %d, %Y}<extra></extra>\",\"legendgroup\":\"2018\",\"line\":{\"color\":\"#00cc96\",\"dash\":\"solid\"},\"marker\":{\"symbol\":\"circle\"},\"mode\":\"markers+lines\",\"name\":\"2018\",\"showlegend\":true,\"x\":[2,3,4,5,8,9,10,11,12,16,17,18,19,22,23,24,25,26,29,30,31,32,33,36,37,38,39,40,43,44,45,46,47,51,52,53,54,57,58,59,60,61,64,65,66,67,68,71,72,73,74,75,78,79,80,81,82,85,86,87,88,92,93,94,95,96,99,100,101,102,103,106,107,108,109,110,113,114,115,116,117,120,121,122,123,124,127,128,129,130,131,134,135,136,137,138,141,142,143,144,145,149,150,151,152,155,156,157,158,159,162,163,164,165,166,169,170,171,172,173,176,177,178,179,180,183,184,186,187,190,191,192,193,194,197,198,199,200,201,204,205,206,207,208,211,212,213,214,215,218,219,220,221,222,225,226,227,228,229,232,233,234,235,236,239,240,241,242,243,247,248,249,250,253,254,255,256,257,260,261,262,263,264,267,268,269,270,271,274,275,276,277,278,281,282,283,284,285,288,289,290,291,292,295,296,297,298,299,302,303,304,305,306,309,310,311,312,313,316,317,318,319,320,323,324,325,327,330,331,332,333,334,337,338,340,341,344,345,346,347,348,351,352,353,354,355,358,360,361,362,365],\"xaxis\":\"x\",\"y\":[53.25,54.124000549316406,54.31999969482422,55.11149978637695,55.34700012207031,55.3129997253418,55.13050079345703,55.2760009765625,56.112998962402344,56.0880012512207,56.5989990234375,56.489498138427734,56.8754997253418,57.79050064086914,58.49850082397461,58.21200180053711,58.51850128173828,58.79199981689453,58.77899932861328,58.18450164794922,58.49700164794922,58.3849983215332,55.595001220703125,52.790000915527344,54.029998779296875,52.42900085449219,50.07600021362305,51.888999938964844,52.59700012207031,52.60499954223633,53.48500061035156,54.47600173950195,54.7400016784668,55.12300109863281,55.56700134277344,55.33150100708008,56.339500427246094,57.1875,55.91450119018555,55.23649978637695,53.47600173950195,53.94599914550781,54.54650115966797,54.75299835205078,55.481998443603516,56.29999923706055,58.00199890136719,58.224998474121094,56.90850067138672,57.4744987487793,57.479000091552734,56.7864990234375,54.99100112915039,54.885501861572266,54.54399871826172,52.45399856567383,51.07849884033203,52.660499572753906,50.255001068115234,50.22800064086914,51.589500427246094,50.32350158691406,50.670501708984375,51.25699996948242,51.390499114990234,50.35200119018555,50.772499084472656,51.582000732421875,50.99850082397461,51.6254997253418,51.4635009765625,51.89899826049805,53.70800018310547,53.604000091552734,54.3849983215332,53.64799880981445,53.372501373291016,50.999000549316406,51.058998107910156,52.00199890136719,51.502498626708984,50.86650085449219,51.865501403808594,51.21900177001953,51.18600082397461,52.410499572753906,52.739498138427734,52.695499420166016,54.13800048828125,54.878501892089844,54.91299819946289,55.0099983215332,53.96149826049805,54.0885009765625,53.929500579833984,53.31800079345703,53.979000091552734,53.48649978637695,53.984500885009766,53.96200180053711,53.78300094604492,53.01599884033203,53.38999938964844,54.2495002746582,55.974998474121094,56.964500427246094,56.983001708984375,56.84400177001953,56.19300079345703,56.04349899291992,56.4995002746582,56.965999603271484,56.739498138427734,57.60599899291992,57.612998962402344,58.67300033569336,58.40299987792969,58.492000579833984,57.882999420166016,57.77399826049805,56.240501403808594,55.92300033569336,55.19900131225586,55.71099853515625,55.782501220703125,56.37300109863281,55.144500732421875,56.2135009765625,57.00849914550781,57.70249938964844,57.641998291015625,57.69499969482422,59.17399978637695,59.441001892089844,59.19300079345703,59.939998626708984,59.79399871826172,59.347999572753906,59.24549865722656,60.275001525878906,62.40399932861328,63.185001373291016,63.416500091552734,61.92499923706055,60.98699951171875,60.862998962402344,61.0004997253418,61.307498931884766,61.18550109863281,61.23849868774414,62.111000061035156,62.28049850463867,62.45500183105469,61.88050079345703,61.7504997253418,62.10499954223633,60.71900177001953,60.324501037597656,60.04800033569336,60.38850021362305,60.08100128173828,60.36650085449219,60.26900100708008,61.032501220703125,62.090999603271484,61.557498931884766,62.46500015258789,61.95600128173828,60.90950012207031,59.849998474121094,59.32400131225586,58.571998596191406,58.24150085449219,58.231998443603516,58.86800003051758,58.14099884033203,58.76649856567383,58.62649917602539,57.8025016784668,58.06100082397461,58.554500579833984,59.34349822998047,58.304500579833984,58.66849899291992,59.23249816894531,59.02450180053711,59.731998443603516,59.673500061035156,59.765499114990234,60.00550079345703,60.147499084472656,58.40950012207031,57.86750030517578,57.44850158691406,56.941001892089844,54.06100082397461,53.965999603271484,55.50400161743164,54.61249923706055,56.06399917602539,55.78450012207031,54.39849853515625,54.823001861572266,55.05799865722656,55.18450164794922,52.535499572753906,54.778499603271484,53.57350158691406,51.00400161743164,51.81050109863281,53.8385009765625,53.5,52.88949966430664,52.00450134277344,52.79050064086914,54.669498443603516,54.119998931884766,53.307498931884766,51.93149948120117,51.8025016784668,52.18299865722656,53.23550033569336,53.074501037597656,51.0,51.28799819946289,51.88050079345703,51.194000244140625,52.430999755859375,52.22050094604492,54.311500549316406,54.415000915527344,54.721500396728516,55.32149887084961,52.54100036621094,53.436500549316406,51.82899856567383,51.977500915527344,52.587501525878906,53.183998107910156,53.095001220703125,52.10499954223633,50.826499938964844,51.43550109863281,51.1505012512207,50.47050094604492,48.97700119018555,48.81100082397461,51.972999572753906,52.194000244140625,51.854000091552734,51.78049850463867],\"yaxis\":\"y\",\"type\":\"scattergl\",\"connectgaps\":true},{\"customdata\":[[\"2019-01-02\"],[\"2019-01-03\"],[\"2019-01-04\"],[\"2019-01-07\"],[\"2019-01-08\"],[\"2019-01-09\"],[\"2019-01-10\"],[\"2019-01-11\"],[\"2019-01-14\"],[\"2019-01-15\"],[\"2019-01-16\"],[\"2019-01-17\"],[\"2019-01-18\"],[\"2019-01-22\"],[\"2019-01-23\"],[\"2019-01-24\"],[\"2019-01-25\"],[\"2019-01-28\"],[\"2019-01-29\"],[\"2019-01-30\"],[\"2019-01-31\"],[\"2019-02-01\"],[\"2019-02-04\"],[\"2019-02-05\"],[\"2019-02-06\"],[\"2019-02-07\"],[\"2019-02-08\"],[\"2019-02-11\"],[\"2019-02-12\"],[\"2019-02-13\"],[\"2019-02-14\"],[\"2019-02-15\"],[\"2019-02-19\"],[\"2019-02-20\"],[\"2019-02-21\"],[\"2019-02-22\"],[\"2019-02-25\"],[\"2019-02-26\"],[\"2019-02-27\"],[\"2019-02-28\"],[\"2019-03-01\"],[\"2019-03-04\"],[\"2019-03-05\"],[\"2019-03-06\"],[\"2019-03-07\"],[\"2019-03-08\"],[\"2019-03-11\"],[\"2019-03-12\"],[\"2019-03-13\"],[\"2019-03-14\"],[\"2019-03-15\"],[\"2019-03-18\"],[\"2019-03-19\"],[\"2019-03-20\"],[\"2019-03-21\"],[\"2019-03-22\"],[\"2019-03-25\"],[\"2019-03-26\"],[\"2019-03-27\"],[\"2019-03-28\"],[\"2019-03-29\"],[\"2019-04-01\"],[\"2019-04-02\"],[\"2019-04-03\"],[\"2019-04-04\"],[\"2019-04-05\"],[\"2019-04-08\"],[\"2019-04-09\"],[\"2019-04-10\"],[\"2019-04-11\"],[\"2019-04-12\"],[\"2019-04-15\"],[\"2019-04-16\"],[\"2019-04-17\"],[\"2019-04-18\"],[\"2019-04-22\"],[\"2019-04-23\"],[\"2019-04-24\"],[\"2019-04-25\"],[\"2019-04-26\"],[\"2019-04-29\"],[\"2019-04-30\"],[\"2019-05-01\"],[\"2019-05-02\"],[\"2019-05-03\"],[\"2019-05-06\"],[\"2019-05-07\"],[\"2019-05-08\"],[\"2019-05-09\"],[\"2019-05-10\"],[\"2019-05-13\"],[\"2019-05-14\"],[\"2019-05-15\"],[\"2019-05-16\"],[\"2019-05-17\"],[\"2019-05-20\"],[\"2019-05-21\"],[\"2019-05-22\"],[\"2019-05-23\"],[\"2019-05-24\"],[\"2019-05-28\"],[\"2019-05-29\"],[\"2019-05-30\"],[\"2019-05-31\"],[\"2019-06-03\"],[\"2019-06-04\"],[\"2019-06-05\"],[\"2019-06-06\"],[\"2019-06-07\"],[\"2019-06-10\"],[\"2019-06-11\"],[\"2019-06-12\"],[\"2019-06-13\"],[\"2019-06-14\"],[\"2019-06-17\"],[\"2019-06-18\"],[\"2019-06-19\"],[\"2019-06-20\"],[\"2019-06-21\"],[\"2019-06-24\"],[\"2019-06-25\"],[\"2019-06-26\"],[\"2019-06-27\"],[\"2019-06-28\"],[\"2019-07-01\"],[\"2019-07-02\"],[\"2019-07-03\"],[\"2019-07-05\"],[\"2019-07-08\"],[\"2019-07-09\"],[\"2019-07-10\"],[\"2019-07-11\"],[\"2019-07-12\"],[\"2019-07-15\"],[\"2019-07-16\"],[\"2019-07-17\"],[\"2019-07-18\"],[\"2019-07-19\"],[\"2019-07-22\"],[\"2019-07-23\"],[\"2019-07-24\"],[\"2019-07-25\"],[\"2019-07-26\"],[\"2019-07-29\"],[\"2019-07-30\"],[\"2019-07-31\"],[\"2019-08-01\"],[\"2019-08-02\"],[\"2019-08-05\"],[\"2019-08-06\"],[\"2019-08-07\"],[\"2019-08-08\"],[\"2019-08-09\"],[\"2019-08-12\"],[\"2019-08-13\"],[\"2019-08-14\"],[\"2019-08-15\"],[\"2019-08-16\"],[\"2019-08-19\"],[\"2019-08-20\"],[\"2019-08-21\"],[\"2019-08-22\"],[\"2019-08-23\"],[\"2019-08-26\"],[\"2019-08-27\"],[\"2019-08-28\"],[\"2019-08-29\"],[\"2019-08-30\"],[\"2019-09-03\"],[\"2019-09-04\"],[\"2019-09-05\"],[\"2019-09-06\"],[\"2019-09-09\"],[\"2019-09-10\"],[\"2019-09-11\"],[\"2019-09-12\"],[\"2019-09-13\"],[\"2019-09-16\"],[\"2019-09-17\"],[\"2019-09-18\"],[\"2019-09-19\"],[\"2019-09-20\"],[\"2019-09-23\"],[\"2019-09-24\"],[\"2019-09-25\"],[\"2019-09-26\"],[\"2019-09-27\"],[\"2019-09-30\"],[\"2019-10-01\"],[\"2019-10-02\"],[\"2019-10-03\"],[\"2019-10-04\"],[\"2019-10-07\"],[\"2019-10-08\"],[\"2019-10-09\"],[\"2019-10-10\"],[\"2019-10-11\"],[\"2019-10-14\"],[\"2019-10-15\"],[\"2019-10-16\"],[\"2019-10-17\"],[\"2019-10-18\"],[\"2019-10-21\"],[\"2019-10-22\"],[\"2019-10-23\"],[\"2019-10-24\"],[\"2019-10-25\"],[\"2019-10-28\"],[\"2019-10-29\"],[\"2019-10-30\"],[\"2019-10-31\"],[\"2019-11-01\"],[\"2019-11-04\"],[\"2019-11-05\"],[\"2019-11-06\"],[\"2019-11-07\"],[\"2019-11-08\"],[\"2019-11-11\"],[\"2019-11-12\"],[\"2019-11-13\"],[\"2019-11-14\"],[\"2019-11-15\"],[\"2019-11-18\"],[\"2019-11-19\"],[\"2019-11-20\"],[\"2019-11-21\"],[\"2019-11-22\"],[\"2019-11-25\"],[\"2019-11-26\"],[\"2019-11-27\"],[\"2019-11-29\"],[\"2019-12-02\"],[\"2019-12-03\"],[\"2019-12-04\"],[\"2019-12-05\"],[\"2019-12-06\"],[\"2019-12-09\"],[\"2019-12-10\"],[\"2019-12-11\"],[\"2019-12-12\"],[\"2019-12-13\"],[\"2019-12-16\"],[\"2019-12-17\"],[\"2019-12-18\"],[\"2019-12-19\"],[\"2019-12-20\"],[\"2019-12-23\"],[\"2019-12-24\"],[\"2019-12-26\"],[\"2019-12-27\"],[\"2019-12-30\"],[\"2019-12-31\"]],\"hovertemplate\":\"Year=2019<br>variable=Close_Price<br>value=%{y}<br>Date=%{customdata[0]|%B %d, %Y}<extra></extra>\",\"legendgroup\":\"2019\",\"line\":{\"color\":\"#ab63fa\",\"dash\":\"solid\"},\"marker\":{\"symbol\":\"circle\"},\"mode\":\"markers+lines\",\"name\":\"2019\",\"showlegend\":true,\"x\":[2,3,4,7,8,9,10,11,14,15,16,17,18,22,23,24,25,28,29,30,31,32,35,36,37,38,39,42,43,44,45,46,50,51,52,53,56,57,58,59,60,63,64,65,66,67,70,71,72,73,74,77,78,79,80,81,84,85,86,87,88,91,92,93,94,95,98,99,100,101,102,105,106,107,108,112,113,114,115,116,119,120,121,122,123,126,127,128,129,130,133,134,135,136,137,140,141,142,143,144,148,149,150,151,154,155,156,157,158,161,162,163,164,165,168,169,170,171,172,175,176,177,178,179,182,183,184,186,189,190,191,192,193,196,197,198,199,200,203,204,205,206,207,210,211,212,213,214,217,218,219,220,221,224,225,226,227,228,231,232,233,234,235,238,239,240,241,242,246,247,248,249,252,253,254,255,256,259,260,261,262,263,266,267,268,269,270,273,274,275,276,277,280,281,282,283,284,287,288,289,290,291,294,295,296,297,298,301,302,303,304,305,308,309,310,311,312,315,316,317,318,319,322,323,324,325,326,329,330,331,333,336,337,338,339,340,343,344,345,346,347,350,351,352,353,354,357,358,360,361,364,365],\"xaxis\":\"x\",\"y\":[52.29249954223633,50.803001403808594,53.535499572753906,53.419498443603516,53.81399917602539,53.733001708984375,53.51649856567383,52.859500885009766,52.234500885009766,53.85749816894531,54.048500061035156,54.494998931884766,54.91299819946289,53.5260009765625,53.778499603271484,53.69499969482422,54.54949951171875,53.50400161743164,53.03099822998047,54.452999114990234,55.81850051879883,55.537498474121094,56.63999938964844,57.29949951171875,55.76150131225586,54.93550109863281,54.75299835205078,54.7504997253418,56.06850051879883,56.007999420166016,56.083499908447266,55.682498931884766,55.928001403808594,55.689998626708984,54.8484992980957,55.51850128173828,55.470001220703125,55.756500244140625,55.8025016784668,55.99599838256836,57.04949951171875,57.38999938964844,58.10150146484375,57.893001556396484,57.165000915527344,57.11600112915039,58.78799819946289,59.65999984741211,59.66600036621094,59.27750015258789,59.222999572753906,59.2130012512207,59.942501068115234,61.19850158691406,61.57699966430664,60.275001525878906,59.650001525878906,59.23099899291992,58.6510009765625,58.42449951171875,58.66550064086914,59.721500396728516,60.02450180053711,60.29600143432617,60.75,60.35749816894531,60.19200134277344,59.86249923706055,60.108001708984375,60.23099899291992,60.89350128173828,61.05500030517578,61.35649871826172,61.81700134277344,61.81850051879883,62.44200134277344,63.227500915527344,62.79999923706055,63.17250061035156,63.60900115966797,64.37899780273438,59.42399978637695,58.40399932861328,58.13050079345703,59.27000045776367,59.46950149536133,58.70500183105469,58.313499450683594,58.11899948120117,58.2135009765625,56.60150146484375,56.02199935913086,58.21049880981445,58.94900131225586,58.1150016784668,56.942501068115234,57.48149871826172,57.57099914550781,57.03850173950195,56.673500061035156,56.70750045776367,55.823001861572266,55.897499084472656,55.18149948120117,51.811500549316406,52.65250015258789,52.111000061035156,52.21699905395508,53.301998138427734,54.01900100708008,53.93600082397461,53.85150146484375,54.438499450683594,54.26750183105469,54.625,55.18000030517578,55.11650085449219,55.57099914550781,56.09400177001953,55.7760009765625,54.317501068115234,53.9900016784668,53.800498962402344,54.045501708984375,54.897499084472656,55.5625,56.07899856567383,56.579498291015625,55.817501068115234,56.24150085449219,57.02399826049805,57.21049880981445,57.244998931884766,57.516998291015625,57.67900085449219,57.317501068115234,57.31650161743164,56.505001068115234,56.903499603271484,57.31050109863281,56.890499114990234,56.60599899291992,62.52050018310547,61.97050094604492,61.25699996948242,60.83399963378906,60.45050048828125,59.699501037597656,57.61600112915039,58.497501373291016,58.699501037597656,60.2400016784668,59.4005012512207,58.73550033569336,59.86349868774414,58.214500427246094,58.362998962402344,58.880001068115234,59.92250061035156,59.134498596191406,59.5625,59.47650146484375,57.56449890136719,58.44449996948242,58.391998291015625,58.55099868774414,59.64250183105469,59.404998779296875,58.419498443603516,59.070499420166016,60.569000244140625,60.246498107910156,60.22050094604492,60.29999923706055,61.00849914550781,61.712501525878906,61.97800064086914,61.564998626708984,61.45750045776367,61.62049865722656,61.93550109863281,61.496498107910156,61.701499938964844,60.9379997253418,62.32600021362305,62.06949996948242,61.25450134277344,60.95000076293945,60.255001068115234,58.83150100708008,59.39149856567383,60.45000076293945,60.38399887084961,59.45650100708008,60.115501403808594,60.43349838256836,60.772499084472656,60.856998443603516,62.1505012512207,62.18199920654297,62.653499603271484,62.27450180053711,62.307498931884766,62.13999938964844,62.95650100708008,63.04949951171875,63.256500244140625,64.5,63.13100051879883,63.06449890136719,63.00550079345703,63.6870002746582,64.56849670410156,64.60150146484375,64.58999633789062,65.44300079345703,65.56849670410156,64.95950317382812,64.94000244140625,64.9000015258789,65.572998046875,66.74349975585938,66.03500366210938,65.77300262451172,65.15249633789062,65.06749725341797,64.76699829101562,65.33450317382812,65.67749786376953,65.64949798583984,65.24800109863281,64.49600219726562,64.76399993896484,66.0270004272461,66.40650177001953,67.03099822998047,67.1780014038086,67.23300170898438,67.2509994506836,67.51349639892578,67.3915023803711,68.05850219726562,67.75599670410156,67.63099670410156,67.802001953125,67.47949981689453,67.44200134277344,67.1780014038086,68.0199966430664,67.59449768066406,66.80699920654297,66.85099792480469],\"yaxis\":\"y\",\"type\":\"scattergl\",\"connectgaps\":true},{\"customdata\":[[\"2020-01-02\"],[\"2020-01-03\"],[\"2020-01-06\"],[\"2020-01-07\"],[\"2020-01-08\"],[\"2020-01-09\"],[\"2020-01-10\"],[\"2020-01-13\"],[\"2020-01-14\"],[\"2020-01-15\"],[\"2020-01-16\"],[\"2020-01-17\"],[\"2020-01-21\"],[\"2020-01-22\"],[\"2020-01-23\"],[\"2020-01-24\"],[\"2020-01-27\"],[\"2020-01-28\"],[\"2020-01-29\"],[\"2020-01-30\"],[\"2020-01-31\"],[\"2020-02-03\"],[\"2020-02-04\"],[\"2020-02-05\"],[\"2020-02-06\"],[\"2020-02-07\"],[\"2020-02-10\"],[\"2020-02-11\"],[\"2020-02-12\"],[\"2020-02-13\"],[\"2020-02-14\"],[\"2020-02-18\"],[\"2020-02-19\"],[\"2020-02-20\"],[\"2020-02-21\"],[\"2020-02-24\"],[\"2020-02-25\"],[\"2020-02-26\"],[\"2020-02-27\"],[\"2020-02-28\"],[\"2020-03-02\"],[\"2020-03-03\"],[\"2020-03-04\"],[\"2020-03-05\"],[\"2020-03-06\"],[\"2020-03-09\"],[\"2020-03-10\"],[\"2020-03-11\"],[\"2020-03-12\"],[\"2020-03-13\"],[\"2020-03-16\"],[\"2020-03-17\"],[\"2020-03-18\"],[\"2020-03-19\"],[\"2020-03-20\"],[\"2020-03-23\"],[\"2020-03-24\"],[\"2020-03-25\"],[\"2020-03-26\"],[\"2020-03-27\"],[\"2020-03-30\"],[\"2020-03-31\"],[\"2020-04-01\"],[\"2020-04-02\"],[\"2020-04-03\"],[\"2020-04-06\"],[\"2020-04-07\"],[\"2020-04-08\"],[\"2020-04-09\"],[\"2020-04-13\"],[\"2020-04-14\"],[\"2020-04-15\"],[\"2020-04-16\"],[\"2020-04-17\"],[\"2020-04-20\"],[\"2020-04-21\"],[\"2020-04-22\"],[\"2020-04-23\"],[\"2020-04-24\"],[\"2020-04-27\"],[\"2020-04-28\"],[\"2020-04-29\"],[\"2020-04-30\"],[\"2020-05-01\"],[\"2020-05-04\"],[\"2020-05-05\"],[\"2020-05-06\"],[\"2020-05-07\"],[\"2020-05-08\"],[\"2020-05-11\"],[\"2020-05-12\"],[\"2020-05-13\"],[\"2020-05-14\"],[\"2020-05-15\"],[\"2020-05-18\"],[\"2020-05-19\"],[\"2020-05-20\"],[\"2020-05-21\"],[\"2020-05-22\"],[\"2020-05-26\"],[\"2020-05-27\"],[\"2020-05-28\"],[\"2020-05-29\"],[\"2020-06-01\"],[\"2020-06-02\"],[\"2020-06-03\"],[\"2020-06-04\"],[\"2020-06-05\"],[\"2020-06-08\"],[\"2020-06-09\"],[\"2020-06-10\"],[\"2020-06-11\"],[\"2020-06-12\"],[\"2020-06-15\"],[\"2020-06-16\"],[\"2020-06-17\"],[\"2020-06-18\"],[\"2020-06-19\"],[\"2020-06-22\"],[\"2020-06-23\"],[\"2020-06-24\"],[\"2020-06-25\"],[\"2020-06-26\"],[\"2020-06-29\"],[\"2020-06-30\"],[\"2020-07-01\"],[\"2020-07-02\"],[\"2020-07-06\"],[\"2020-07-07\"],[\"2020-07-08\"],[\"2020-07-09\"],[\"2020-07-10\"],[\"2020-07-13\"],[\"2020-07-14\"],[\"2020-07-15\"],[\"2020-07-16\"],[\"2020-07-17\"],[\"2020-07-20\"],[\"2020-07-21\"],[\"2020-07-22\"],[\"2020-07-23\"],[\"2020-07-24\"],[\"2020-07-27\"],[\"2020-07-28\"],[\"2020-07-29\"],[\"2020-07-30\"],[\"2020-07-31\"],[\"2020-08-03\"],[\"2020-08-04\"],[\"2020-08-05\"],[\"2020-08-06\"],[\"2020-08-07\"],[\"2020-08-10\"],[\"2020-08-11\"],[\"2020-08-12\"],[\"2020-08-13\"],[\"2020-08-14\"],[\"2020-08-17\"],[\"2020-08-18\"],[\"2020-08-19\"],[\"2020-08-20\"],[\"2020-08-21\"],[\"2020-08-24\"],[\"2020-08-25\"],[\"2020-08-26\"],[\"2020-08-27\"],[\"2020-08-28\"],[\"2020-08-31\"],[\"2020-09-01\"],[\"2020-09-02\"],[\"2020-09-03\"],[\"2020-09-04\"],[\"2020-09-08\"],[\"2020-09-09\"],[\"2020-09-10\"],[\"2020-09-11\"],[\"2020-09-14\"],[\"2020-09-15\"],[\"2020-09-16\"],[\"2020-09-17\"],[\"2020-09-18\"],[\"2020-09-21\"],[\"2020-09-22\"],[\"2020-09-23\"],[\"2020-09-24\"],[\"2020-09-25\"],[\"2020-09-28\"],[\"2020-09-29\"],[\"2020-09-30\"],[\"2020-10-01\"],[\"2020-10-02\"],[\"2020-10-05\"],[\"2020-10-06\"],[\"2020-10-07\"],[\"2020-10-08\"],[\"2020-10-09\"],[\"2020-10-12\"],[\"2020-10-13\"],[\"2020-10-14\"],[\"2020-10-15\"],[\"2020-10-16\"],[\"2020-10-19\"],[\"2020-10-20\"],[\"2020-10-21\"],[\"2020-10-22\"],[\"2020-10-23\"],[\"2020-10-26\"],[\"2020-10-27\"],[\"2020-10-28\"],[\"2020-10-29\"],[\"2020-10-30\"],[\"2020-11-02\"],[\"2020-11-03\"],[\"2020-11-04\"],[\"2020-11-05\"],[\"2020-11-06\"],[\"2020-11-09\"],[\"2020-11-10\"],[\"2020-11-11\"],[\"2020-11-12\"],[\"2020-11-13\"],[\"2020-11-16\"],[\"2020-11-17\"],[\"2020-11-18\"],[\"2020-11-19\"],[\"2020-11-20\"],[\"2020-11-23\"],[\"2020-11-24\"],[\"2020-11-25\"],[\"2020-11-27\"],[\"2020-11-30\"],[\"2020-12-01\"],[\"2020-12-02\"],[\"2020-12-03\"],[\"2020-12-04\"],[\"2020-12-07\"],[\"2020-12-08\"],[\"2020-12-09\"],[\"2020-12-10\"],[\"2020-12-11\"],[\"2020-12-14\"],[\"2020-12-15\"],[\"2020-12-16\"],[\"2020-12-17\"],[\"2020-12-18\"],[\"2020-12-21\"],[\"2020-12-22\"],[\"2020-12-23\"],[\"2020-12-24\"],[\"2020-12-28\"],[\"2020-12-29\"],[\"2020-12-30\"],[\"2020-12-31\"]],\"hovertemplate\":\"Year=2020<br>variable=Close_Price<br>value=%{y}<br>Date=%{customdata[0]|%B %d, %Y}<extra></extra>\",\"legendgroup\":\"2020\",\"line\":{\"color\":\"#FFA15A\",\"dash\":\"solid\"},\"marker\":{\"symbol\":\"circle\"},\"mode\":\"markers+lines\",\"name\":\"2020\",\"showlegend\":true,\"x\":[2,3,6,7,8,9,10,13,14,15,16,17,21,22,23,24,27,28,29,30,31,34,35,36,37,38,41,42,43,44,45,49,50,51,52,55,56,57,58,59,62,63,64,65,66,69,70,71,72,73,76,77,78,79,80,83,84,85,86,87,90,91,92,93,94,97,98,99,100,104,105,106,107,108,111,112,113,114,115,118,119,120,121,122,125,126,127,128,129,132,133,134,135,136,139,140,141,142,143,147,148,149,150,153,154,155,156,157,160,161,162,163,164,167,168,169,170,171,174,175,176,177,178,181,182,183,184,188,189,190,191,192,195,196,197,198,199,202,203,204,205,206,209,210,211,212,213,216,217,218,219,220,223,224,225,226,227,230,231,232,233,234,237,238,239,240,241,244,245,246,247,248,252,253,254,255,258,259,260,261,262,265,266,267,268,269,272,273,274,275,276,279,280,281,282,283,286,287,288,289,290,293,294,295,296,297,300,301,302,303,304,307,308,309,310,311,314,315,316,317,318,321,322,323,324,325,328,329,330,332,335,336,337,338,339,342,343,344,345,346,349,350,351,352,353,356,357,358,359,363,364,365,366],\"xaxis\":\"x\",\"y\":[68.36849975585938,68.03299713134766,69.71050262451172,69.66699981689453,70.21600341796875,70.99150085449219,71.48650360107422,71.96150207519531,71.54399871826172,71.95999908447266,72.58499908447266,74.01950073242188,74.22000122070312,74.29750061035156,74.3324966430664,73.33550262451172,71.69499969482422,72.62799835205078,72.93150329589844,72.79199981689453,71.71150207519531,74.2969970703125,72.35350036621094,72.4114990234375,73.8115005493164,73.96150207519531,75.43399810791016,75.43949890136719,75.91349792480469,75.73300170898438,76.03700256347656,75.9834976196289,76.33450317382812,75.90750122070312,74.25550079345703,71.07949829101562,69.42250061035156,69.65899658203125,65.90450286865234,66.96649932861328,69.45549774169922,67.06950378417969,69.32599639892578,65.9520034790039,64.92050170898438,60.77799987792969,64.01950073242188,60.77050018310547,55.74549865722656,60.98649978637695,54.21649932861328,55.9900016784668,54.84000015258789,55.76449966430664,53.61600112915039,52.83100128173828,56.722999572753906,55.1245002746582,58.087501525878906,55.535499572753906,57.340999603271484,58.140499114990234,55.28099822998047,56.04199981689453,54.89400100708008,59.34600067138672,59.32550048828125,60.513999938964844,60.5724983215332,60.87799835205078,63.46149826049805,63.12350082397461,63.173500061035156,64.1624984741211,63.330501556396484,60.81700134277344,63.160499572753906,63.81549835205078,63.96549987792969,63.79399871826172,61.68349838256836,67.0739974975586,67.43299865722656,66.03050231933594,66.33999633789062,67.55549621582031,67.36499786376953,68.62799835205078,69.41850280761719,70.16300201416016,68.78700256347656,67.46649932861328,67.80650329589844,68.65950012207031,69.1969985961914,68.67424774169922,70.33599853515625,70.13999938964844,70.52100372314453,70.85099792480469,70.89199829101562,70.83650207519531,71.44599914550781,71.59100341796875,71.96099853515625,71.81900024414062,70.60900115966797,71.91950225830078,72.33049774169922,72.80799865722656,73.2925033569336,70.19200134277344,70.65899658203125,70.99250030517578,72.13600158691406,72.55599975585938,71.7979965209961,71.58599853515625,72.59300231933594,73.22049713134766,71.59850311279297,72.06649780273438,67.99500274658203,69.74849700927734,70.68049621582031,71.9020004272461,73.23500061035156,74.78500366210938,74.25900268554688,74.80000305175781,75.54949951171875,77.08699798583984,75.56700134277344,76.02899932861328,75.68199920654297,75.9000015258789,75.77749633789062,78.28600311279297,77.9209976196289,78.42449951171875,75.78399658203125,75.59349822998047,76.51000213623047,75.01699829101562,76.10099792480469,76.57250213623047,74.14800262451172,73.72250366210938,73.24849700927734,73.68049621582031,75.00499725341797,74.72450256347656,74.80500030517578,74.01599884033203,75.33100128173828,75.92250061035156,75.3864974975586,75.89900207519531,77.93000030517578,77.37650299072266,79.0875015258789,79.02100372314453,79.41000366210938,80.41100311279297,82.61900329589844,81.71649932861328,82.22049713134766,81.70899963378906,83.0354995727539,86.41400146484375,82.09200286865234,79.552001953125,76.61949920654297,77.8479995727539,76.60099792480469,76.03600311279297,75.96399688720703,77.0719985961914,76.04499816894531,74.77649688720703,72.99949645996094,71.55799865722656,73.27300262451172,70.760498046875,71.41449737548828,72.24800109863281,73.22599792480469,73.46649932861328,73.4800033569336,74.50450134277344,72.9209976196289,74.3010025024414,72.6719970703125,73.0145034790039,74.29650115966797,75.76100158691406,78.4574966430664,78.58399963378906,78.40399932861328,77.95649719238281,78.65049743652344,76.73049926757812,77.79650115966797,79.66549682617188,80.7665023803711,82.05000305175781,79.52249908447266,80.21299743652344,75.83100128173828,78.36199951171875,81.05049896240234,81.30149841308594,82.510498046875,87.45649719238281,88.16850280761719,88.0875015258789,88.1500015258789,87.01950073242188,87.635498046875,87.49199676513672,88.85099792480469,89.06900024414062,88.50749969482422,87.33899688720703,88.19599914550781,87.1094970703125,86.74299621582031,88.44400024414062,88.57150268554688,89.65950012207031,88.03700256347656,89.90499877929688,91.39749908447266,91.3385009765625,91.39949798583984,90.9739990234375,90.92749786376953,89.20649719238281,88.7665023803711,89.0885009765625,88.00299835205078,88.38849639892578,88.1500015258789,87.3949966430664,86.55049896240234,86.96849822998047,86.17500305175781,86.61900329589844,86.94249725341797,88.80449676513672,87.93599700927734,86.97599792480469,87.59400177001953],\"yaxis\":\"y\",\"type\":\"scattergl\",\"connectgaps\":true},{\"customdata\":[[\"2021-01-04\"],[\"2021-01-05\"],[\"2021-01-06\"],[\"2021-01-07\"],[\"2021-01-08\"],[\"2021-01-11\"],[\"2021-01-12\"],[\"2021-01-13\"],[\"2021-01-14\"],[\"2021-01-15\"],[\"2021-01-19\"],[\"2021-01-20\"],[\"2021-01-21\"],[\"2021-01-22\"],[\"2021-01-25\"],[\"2021-01-26\"],[\"2021-01-27\"],[\"2021-01-28\"],[\"2021-01-29\"],[\"2021-02-01\"],[\"2021-02-02\"],[\"2021-02-03\"],[\"2021-02-04\"],[\"2021-02-05\"],[\"2021-02-08\"],[\"2021-02-09\"],[\"2021-02-10\"],[\"2021-02-11\"],[\"2021-02-12\"],[\"2021-02-16\"],[\"2021-02-17\"],[\"2021-02-18\"],[\"2021-02-19\"],[\"2021-02-22\"],[\"2021-02-23\"],[\"2021-02-24\"],[\"2021-02-25\"],[\"2021-02-26\"],[\"2021-03-01\"],[\"2021-03-02\"],[\"2021-03-03\"],[\"2021-03-04\"],[\"2021-03-05\"],[\"2021-03-08\"],[\"2021-03-09\"],[\"2021-03-10\"],[\"2021-03-11\"],[\"2021-03-12\"],[\"2021-03-15\"],[\"2021-03-16\"],[\"2021-03-17\"],[\"2021-03-18\"],[\"2021-03-19\"],[\"2021-03-22\"],[\"2021-03-23\"],[\"2021-03-24\"],[\"2021-03-25\"],[\"2021-03-26\"],[\"2021-03-29\"],[\"2021-03-30\"],[\"2021-03-31\"],[\"2021-04-01\"],[\"2021-04-05\"],[\"2021-04-06\"],[\"2021-04-07\"],[\"2021-04-08\"],[\"2021-04-09\"],[\"2021-04-12\"],[\"2021-04-13\"],[\"2021-04-14\"],[\"2021-04-15\"],[\"2021-04-16\"],[\"2021-04-19\"],[\"2021-04-20\"],[\"2021-04-21\"],[\"2021-04-22\"],[\"2021-04-23\"],[\"2021-04-26\"],[\"2021-04-27\"],[\"2021-04-28\"],[\"2021-04-29\"],[\"2021-04-30\"],[\"2021-05-03\"],[\"2021-05-04\"],[\"2021-05-05\"],[\"2021-05-06\"],[\"2021-05-07\"],[\"2021-05-10\"],[\"2021-05-11\"],[\"2021-05-12\"],[\"2021-05-13\"],[\"2021-05-14\"],[\"2021-05-17\"],[\"2021-05-18\"],[\"2021-05-19\"],[\"2021-05-20\"],[\"2021-05-21\"],[\"2021-05-24\"],[\"2021-05-25\"],[\"2021-05-26\"],[\"2021-05-27\"],[\"2021-05-28\"],[\"2021-06-01\"],[\"2021-06-02\"],[\"2021-06-03\"],[\"2021-06-04\"],[\"2021-06-07\"],[\"2021-06-08\"],[\"2021-06-09\"],[\"2021-06-10\"],[\"2021-06-11\"],[\"2021-06-14\"],[\"2021-06-15\"],[\"2021-06-16\"],[\"2021-06-17\"],[\"2021-06-18\"],[\"2021-06-21\"],[\"2021-06-22\"],[\"2021-06-23\"],[\"2021-06-24\"],[\"2021-06-25\"],[\"2021-06-28\"],[\"2021-06-29\"],[\"2021-06-30\"],[\"2021-07-01\"],[\"2021-07-02\"],[\"2021-07-06\"],[\"2021-07-07\"],[\"2021-07-08\"],[\"2021-07-09\"],[\"2021-07-12\"],[\"2021-07-13\"],[\"2021-07-14\"],[\"2021-07-15\"],[\"2021-07-16\"],[\"2021-07-19\"],[\"2021-07-20\"],[\"2021-07-21\"],[\"2021-07-22\"],[\"2021-07-23\"],[\"2021-07-26\"],[\"2021-07-27\"],[\"2021-07-28\"],[\"2021-07-29\"],[\"2021-07-30\"],[\"2021-08-02\"],[\"2021-08-03\"],[\"2021-08-04\"],[\"2021-08-05\"],[\"2021-08-06\"],[\"2021-08-09\"],[\"2021-08-10\"],[\"2021-08-11\"],[\"2021-08-12\"],[\"2021-08-13\"],[\"2021-08-16\"],[\"2021-08-17\"],[\"2021-08-18\"],[\"2021-08-19\"],[\"2021-08-20\"],[\"2021-08-23\"],[\"2021-08-24\"],[\"2021-08-25\"],[\"2021-08-26\"],[\"2021-08-27\"],[\"2021-08-30\"],[\"2021-08-31\"],[\"2021-09-01\"],[\"2021-09-02\"],[\"2021-09-03\"],[\"2021-09-07\"],[\"2021-09-08\"],[\"2021-09-09\"],[\"2021-09-10\"],[\"2021-09-13\"],[\"2021-09-14\"],[\"2021-09-15\"],[\"2021-09-16\"],[\"2021-09-17\"],[\"2021-09-20\"],[\"2021-09-21\"],[\"2021-09-22\"],[\"2021-09-23\"],[\"2021-09-24\"],[\"2021-09-27\"],[\"2021-09-28\"],[\"2021-09-29\"],[\"2021-09-30\"],[\"2021-10-01\"],[\"2021-10-04\"],[\"2021-10-05\"],[\"2021-10-06\"],[\"2021-10-07\"],[\"2021-10-08\"],[\"2021-10-11\"],[\"2021-10-12\"],[\"2021-10-13\"],[\"2021-10-14\"],[\"2021-10-15\"],[\"2021-10-18\"],[\"2021-10-19\"],[\"2021-10-20\"],[\"2021-10-21\"],[\"2021-10-22\"],[\"2021-10-25\"],[\"2021-10-26\"],[\"2021-10-27\"],[\"2021-10-28\"],[\"2021-10-29\"],[\"2021-11-01\"],[\"2021-11-02\"],[\"2021-11-03\"],[\"2021-11-04\"],[\"2021-11-05\"],[\"2021-11-08\"],[\"2021-11-09\"],[\"2021-11-10\"],[\"2021-11-11\"],[\"2021-11-12\"],[\"2021-11-15\"],[\"2021-11-16\"],[\"2021-11-17\"],[\"2021-11-18\"],[\"2021-11-19\"],[\"2021-11-22\"],[\"2021-11-23\"],[\"2021-11-24\"],[\"2021-11-26\"],[\"2021-11-29\"],[\"2021-11-30\"],[\"2021-12-01\"],[\"2021-12-02\"],[\"2021-12-03\"],[\"2021-12-06\"],[\"2021-12-07\"],[\"2021-12-08\"],[\"2021-12-09\"],[\"2021-12-10\"],[\"2021-12-13\"],[\"2021-12-14\"],[\"2021-12-15\"],[\"2021-12-16\"],[\"2021-12-17\"],[\"2021-12-20\"],[\"2021-12-21\"],[\"2021-12-22\"],[\"2021-12-23\"],[\"2021-12-27\"],[\"2021-12-28\"],[\"2021-12-29\"],[\"2021-12-30\"],[\"2021-12-31\"]],\"hovertemplate\":\"Year=2021<br>variable=Close_Price<br>value=%{y}<br>Date=%{customdata[0]|%B %d, %Y}<extra></extra>\",\"legendgroup\":\"2021\",\"line\":{\"color\":\"#19d3f3\",\"dash\":\"solid\"},\"marker\":{\"symbol\":\"circle\"},\"mode\":\"markers+lines\",\"name\":\"2021\",\"showlegend\":true,\"x\":[4,5,6,7,8,11,12,13,14,15,19,20,21,22,25,26,27,28,29,32,33,34,35,36,39,40,41,42,43,47,48,49,50,53,54,55,56,57,60,61,62,63,64,67,68,69,70,71,74,75,76,77,78,81,82,83,84,85,88,89,90,91,95,96,97,98,99,102,103,104,105,106,109,110,111,112,113,116,117,118,119,120,123,124,125,126,127,130,131,132,133,134,137,138,139,140,141,144,145,146,147,148,152,153,154,155,158,159,160,161,162,165,166,167,168,169,172,173,174,175,176,179,180,181,182,183,187,188,189,190,193,194,195,196,197,200,201,202,203,204,207,208,209,210,211,214,215,216,217,218,221,222,223,224,225,228,229,230,231,232,235,236,237,238,239,242,243,244,245,246,250,251,252,253,256,257,258,259,260,263,264,265,266,267,270,271,272,273,274,277,278,279,280,281,284,285,286,287,288,291,292,293,294,295,298,299,300,301,302,305,306,307,308,309,312,313,314,315,316,319,320,321,322,323,326,327,328,330,333,334,335,336,337,340,341,342,343,344,347,348,349,350,351,354,355,356,357,361,362,363,364,365],\"xaxis\":\"x\",\"y\":[86.41200256347656,87.0459976196289,86.7645034790039,89.36250305175781,90.3604965209961,88.33599853515625,87.32749938964844,87.72000122070312,87.00900268554688,86.80950164794922,89.54299926757812,94.34500122070312,94.5625,95.05249786376953,94.97000122070312,95.86199951171875,91.53949737548828,93.15550231933594,91.78700256347656,95.06749725341797,96.37550354003906,103.50350189208984,103.11849975585938,104.9000015258789,104.64550018310547,104.17549896240234,104.76899719238281,104.79450225830078,105.20549774169922,106.09500122070312,106.41549682617188,105.86000061035156,105.05699920654297,103.24400329589844,103.54299926757812,104.75849914550781,101.56800079345703,101.84300231933594,104.07550048828125,103.79199981689453,101.33550262451172,102.45449829101562,105.427001953125,101.20850372314453,102.63500213623047,102.75150299072266,105.7385025024414,103.09600067138672,103.32450103759766,104.6259994506836,104.55400085449219,101.81099700927734,102.16000366210938,101.92949676513672,102.64800262451172,102.25299835205078,102.21800231933594,101.77749633789062,102.79750061035156,102.7770004272461,103.43150329589844,106.88749694824219,111.27749633789062,111.23750305175781,112.48400115966797,113.27200317382812,114.29399871826172,112.739501953125,113.3635025024414,112.74199676513672,114.83300018310547,114.88800048828125,115.12000274658203,114.68150329589844,114.66449737548828,113.39600372314453,115.76499938964844,116.33699798583984,115.35600280761719,118.99549865722656,121.49449920654297,120.50599670410156,119.75849914550781,117.7125015258789,117.83699798583984,119.06749725341797,119.93450164794922,117.08300018310547,115.43800354003906,111.9540023803711,113.09850311279297,115.80799865722656,116.07050323486328,115.17150115966797,115.43550109863281,117.80449676513672,117.25499725341797,120.33350372314453,120.45349884033203,121.67649841308594,120.12550354003906,120.5780029296875,121.4905014038086,121.06400299072266,120.23049926757812,122.58799743652344,123.30449676513672,124.14250183105469,124.56999969482422,126.08000183105469,125.69650268554688,126.35199737548828,126.03299713134766,125.69650268554688,126.37100219726562,125.56749725341797,126.45500183105469,126.99949645996094,126.46150207519531,127.28199768066406,126.99500274658203,126.81950378417969,126.01850128173828,125.31600189208984,126.36849975585938,128.718994140625,129.77099609375,130.07749938964844,129.177001953125,129.57449340820312,130.56399536132812,130.9945068359375,132.08250427246094,131.26649475097656,131.8455047607422,129.25399780273438,131.10150146484375,132.60049438476562,133.32850646972656,137.8159942626953,139.64450073242188,136.79649353027344,136.38150024414062,136.54049682617188,135.2209930419922,135.989501953125,136.27999877929688,136.02850341796875,136.94000244140625,137.03599548339844,138.0019989013672,138.09649658203125,137.6894989013672,138.38949584960938,138.406005859375,138.91600036621094,137.30050659179688,136.57000732421875,136.9134979248047,138.43699645996094,141.09950256347656,142.39849853515625,142.9499969482422,142.1230010986328,144.55050659179688,145.46949768066406,145.46200561523438,145.8419952392578,144.218994140625,144.77499389648438,145.5189971923828,144.8834991455078,144.9134979248047,141.92100524902344,143.46499633789062,143.406005859375,145.20599365234375,144.37350463867188,141.4635009765625,139.01699829101562,139.64649963378906,140.93850708007812,141.82650756835938,142.63299560546875,141.50100708007812,136.1840057373047,134.52099609375,133.2655029296875,136.46249389648438,133.76499938964844,136.177001953125,137.35400390625,139.1855010986328,140.05599975585938,138.84750366210938,136.71299743652344,137.89999389648438,141.41200256347656,141.6750030517578,142.9604949951172,143.82200622558594,142.4149932861328,142.78050231933594,138.625,138.7729949951172,139.6719970703125,146.42750549316406,146.12899780273438,148.27049255371094,143.7740020751953,145.86300659179688,146.7899932861328,148.68299865722656,149.24099731445312,149.35150146484375,149.24850463867188,146.62600708007812,146.7480010986328,149.64549255371094,149.38800048828125,149.0760040283203,149.06199645996094,150.70899963378906,149.95249938964844,147.07850646972656,146.7570037841797,146.71749877929688,142.80599975585938,146.11399841308594,142.45199584960938,141.6179962158203,143.77650451660156,142.52049255371094,143.79649353027344,148.0364990234375,148.7205047607422,148.1060028076172,148.6750030517578,146.70449829101562,144.9705047607422,147.36849975585938,144.8385009765625,142.80299377441406,142.40150451660156,144.2205047607422,146.94900512695312,147.1425018310547,148.06399536132812,146.447998046875,146.50450134277344,146.00250244140625,144.67950439453125],\"yaxis\":\"y\",\"type\":\"scattergl\",\"connectgaps\":true},{\"customdata\":[[\"2022-01-03\"],[\"2022-01-04\"],[\"2022-01-05\"],[\"2022-01-06\"],[\"2022-01-07\"],[\"2022-01-10\"],[\"2022-01-11\"],[\"2022-01-12\"],[\"2022-01-13\"],[\"2022-01-14\"],[\"2022-01-18\"],[\"2022-01-19\"],[\"2022-01-20\"],[\"2022-01-21\"],[\"2022-01-24\"],[\"2022-01-25\"],[\"2022-01-26\"],[\"2022-01-27\"],[\"2022-01-28\"],[\"2022-01-31\"],[\"2022-02-01\"],[\"2022-02-02\"],[\"2022-02-03\"],[\"2022-02-04\"],[\"2022-02-07\"],[\"2022-02-08\"],[\"2022-02-09\"],[\"2022-02-10\"],[\"2022-02-11\"],[\"2022-02-14\"],[\"2022-02-15\"],[\"2022-02-16\"],[\"2022-02-17\"],[\"2022-02-18\"],[\"2022-02-22\"],[\"2022-02-23\"],[\"2022-02-24\"],[\"2022-02-25\"],[\"2022-02-28\"],[\"2022-03-01\"],[\"2022-03-02\"],[\"2022-03-03\"],[\"2022-03-04\"],[\"2022-03-07\"],[\"2022-03-08\"],[\"2022-03-09\"],[\"2022-03-10\"],[\"2022-03-11\"],[\"2022-03-14\"],[\"2022-03-15\"],[\"2022-03-16\"],[\"2022-03-17\"],[\"2022-03-18\"],[\"2022-03-21\"],[\"2022-03-22\"],[\"2022-03-23\"],[\"2022-03-24\"],[\"2022-03-25\"],[\"2022-03-28\"],[\"2022-03-29\"],[\"2022-03-30\"],[\"2022-03-31\"],[\"2022-04-01\"],[\"2022-04-04\"],[\"2022-04-05\"],[\"2022-04-06\"],[\"2022-04-07\"],[\"2022-04-08\"],[\"2022-04-11\"],[\"2022-04-12\"],[\"2022-04-13\"],[\"2022-04-14\"],[\"2022-04-18\"],[\"2022-04-19\"],[\"2022-04-20\"],[\"2022-04-21\"],[\"2022-04-22\"],[\"2022-04-25\"],[\"2022-04-26\"],[\"2022-04-27\"],[\"2022-04-28\"],[\"2022-04-29\"],[\"2022-05-02\"],[\"2022-05-03\"],[\"2022-05-04\"],[\"2022-05-05\"],[\"2022-05-06\"],[\"2022-05-09\"],[\"2022-05-10\"]],\"hovertemplate\":\"Year=2022<br>variable=Close_Price<br>value=%{y}<br>Date=%{customdata[0]|%B %d, %Y}<extra></extra>\",\"legendgroup\":\"2022\",\"line\":{\"color\":\"#FF6692\",\"dash\":\"solid\"},\"marker\":{\"symbol\":\"circle\"},\"mode\":\"markers+lines\",\"name\":\"2022\",\"showlegend\":true,\"x\":[3,4,5,6,7,10,11,12,13,14,18,19,20,21,24,25,26,27,28,31,32,33,34,35,38,39,40,41,42,45,46,47,48,49,53,54,55,56,59,60,61,62,63,66,67,68,69,70,73,74,75,76,77,80,81,82,83,84,87,88,89,90,91,94,95,96,97,98,101,102,103,104,108,109,110,111,112,115,116,117,118,119,122,123,124,125,126,129,130],\"xaxis\":\"x\",\"y\":[145.07449340820312,144.41650390625,137.65350341796875,137.55099487304688,137.00450134277344,138.57400512695312,140.0175018310547,141.6479949951172,139.13099670410156,139.7864990234375,136.29049682617188,135.65199279785156,133.50650024414062,130.0919952392578,130.3719940185547,126.7354965209961,129.24000549316406,129.12100219726562,133.2895050048828,135.69850158691406,137.8784942626953,148.0364990234375,142.65049743652344,143.01600646972656,138.93800354003906,139.21299743652344,141.4530029296875,138.6024932861328,134.1300048828125,135.3000030517578,136.42550659179688,137.4875030517578,132.30850219726562,130.46749877929688,129.40249633789062,127.58499908447266,132.67349243164062,134.51950073242188,134.89100646972656,134.16799926757812,134.75149536132812,134.30799865722656,132.1219940185547,126.4645004272461,127.27850341796875,133.86599731445312,132.6820068359375,130.47549438476562,126.74099731445312,129.66050720214844,133.6905059814453,134.60049438476562,136.80149841308594,136.47850036621094,140.27749633789062,138.5034942626953,141.31199645996094,141.52149963378906,141.9499969482422,143.25,142.64450073242188,139.64950561523438,140.6999969482422,143.6425018310547,141.06300354003906,137.17599487304688,136.46499633789062,134.010498046875,129.79649353027344,128.37449645996094,130.28599548339844,127.25299835205078,127.96099853515625,130.531005859375,128.24549865722656,124.9375,119.61399841308594,123.25,119.50599670410156,115.02050018310547,119.4114990234375,114.96649932861328,117.15699768066406,118.12950134277344,122.57499694824219,116.74649810791016,115.66000366210938,113.08399963378906,114.58450317382812],\"yaxis\":\"y\",\"type\":\"scattergl\",\"connectgaps\":true},{\"name\":\"Predicted\",\"x\":[101,102,103,104,108,109,110,111,112,115,116,117,118,119,122,123,124,125,126,129,130],\"y\":[130.51145419126487,125.4065780735491,120.74462711081514,116.05826336859468,112.3508399339928,112.15409227803752,109.46482367942826,111.33280109782982,111.55833217755003,112.39130332139678,109.22089085752611,104.88025061843678,103.43576600056758,103.6983788970108,104.11148840950136,101.17434013049069,101.07988713824261,99.6824320242456,100.47286066966234,100.82545401973458,101.5176483375543],\"type\":\"scatter\",\"mode\":\"markers+lines\"},{\"marker\":{\"color\":\"rgba(68, 68, 68, 0.2)\",\"line\":{\"width\":0}},\"mode\":\"lines\",\"name\":\"Upper Bound: 68%\",\"showlegend\":true,\"x\":[101,102,103,104,108,109,110,111,112,115,116,117,118,119,122,123,124,125,126,129,130],\"y\":[144.10596577213,139.00108965441422,134.33913869168026,129.6527749494598,125.94535151485792,125.74860385890264,123.05933526029338,124.92731267869493,125.15284375841514,125.9858149022619,122.81540243839123,118.47476219930189,117.0302775814327,117.29289047787591,117.70599999036648,114.76885171135581,114.67439871910773,113.27694360511072,114.06737225052746,114.4199656005997,115.11215991841942],\"type\":\"scatter\"},{\"fill\":\"tonexty\",\"fillcolor\":\"rgba(68, 68, 68, 0.2)\",\"marker\":{\"color\":\"rgba(68, 68, 68, 0.2)\",\"line\":{\"width\":0}},\"mode\":\"lines\",\"name\":\"Lower Bound: 68%\",\"showlegend\":true,\"x\":[101,102,103,104,108,109,110,111,112,115,116,117,118,119,122,123,124,125,126,129,130],\"y\":[116.91694261039976,111.81206649268398,107.15011552995003,102.46375178772956,98.75632835312769,98.55958069717241,95.87031209856315,97.7382895169647,97.96382059668491,98.79679174053166,95.626379276661,91.28573903757166,89.84125441970247,90.10386731614568,90.51697682863625,87.57982854962557,87.4853755573775,86.08792044338048,86.87834908879722,87.23094243886946,87.92313675668919],\"type\":\"scatter\"},{\"marker\":{\"color\":\"rgba(68, 68, 68, 0.1)\",\"line\":{\"width\":0}},\"mode\":\"lines\",\"name\":\"Upper Bound: 90%\",\"showlegend\":true,\"x\":[101,102,103,104,108,109,110,111,112,115,116,117,118,119,122,123,124,125,126,129,130],\"y\":[152.87442574178797,147.7695496240722,143.10759866133824,138.42123491911778,134.7138114845159,134.51706382856062,131.82779522995136,133.69577264835291,133.92130372807313,134.75427487191988,131.5838624080492,127.24322216895989,125.7987375510907,126.06135044753391,126.47445996002448,123.5373116810138,123.44285868876572,122.04540357476871,122.83583222018545,123.18842557025769,123.88061988807742],\"type\":\"scatter\"},{\"fill\":\"tonexty\",\"fillcolor\":\"rgba(68, 68, 68, 0.1)\",\"marker\":{\"color\":\"rgba(68, 68, 68, 0.1)\",\"line\":{\"width\":0}},\"mode\":\"lines\",\"name\":\"Lower Bound: 90%\",\"showlegend\":true,\"x\":[101,102,103,104,108,109,110,111,112,115,116,117,118,119,122,123,124,125,126,129,130],\"y\":[108.14848264074176,103.04360652302599,98.38165556029203,93.69529181807157,89.98786838346969,89.79112072751441,87.10185212890515,88.9698295473067,89.19536062702691,90.02833177087366,86.857919307003,82.51727906791366,81.07279445004447,81.33540734648768,81.74851685897825,78.81136857996758,78.7169155877195,77.31946047372249,78.10988911913923,78.46248246921147,79.15467678703119],\"type\":\"scatter\"}],                        {\"template\":{\"data\":{\"histogram2dcontour\":[{\"type\":\"histogram2dcontour\",\"colorbar\":{\"outlinewidth\":0,\"ticks\":\"\"},\"colorscale\":[[0.0,\"#0d0887\"],[0.1111111111111111,\"#46039f\"],[0.2222222222222222,\"#7201a8\"],[0.3333333333333333,\"#9c179e\"],[0.4444444444444444,\"#bd3786\"],[0.5555555555555556,\"#d8576b\"],[0.6666666666666666,\"#ed7953\"],[0.7777777777777778,\"#fb9f3a\"],[0.8888888888888888,\"#fdca26\"],[1.0,\"#f0f921\"]]}],\"choropleth\":[{\"type\":\"choropleth\",\"colorbar\":{\"outlinewidth\":0,\"ticks\":\"\"}}],\"histogram2d\":[{\"type\":\"histogram2d\",\"colorbar\":{\"outlinewidth\":0,\"ticks\":\"\"},\"colorscale\":[[0.0,\"#0d0887\"],[0.1111111111111111,\"#46039f\"],[0.2222222222222222,\"#7201a8\"],[0.3333333333333333,\"#9c179e\"],[0.4444444444444444,\"#bd3786\"],[0.5555555555555556,\"#d8576b\"],[0.6666666666666666,\"#ed7953\"],[0.7777777777777778,\"#fb9f3a\"],[0.8888888888888888,\"#fdca26\"],[1.0,\"#f0f921\"]]}],\"heatmap\":[{\"type\":\"heatmap\",\"colorbar\":{\"outlinewidth\":0,\"ticks\":\"\"},\"colorscale\":[[0.0,\"#0d0887\"],[0.1111111111111111,\"#46039f\"],[0.2222222222222222,\"#7201a8\"],[0.3333333333333333,\"#9c179e\"],[0.4444444444444444,\"#bd3786\"],[0.5555555555555556,\"#d8576b\"],[0.6666666666666666,\"#ed7953\"],[0.7777777777777778,\"#fb9f3a\"],[0.8888888888888888,\"#fdca26\"],[1.0,\"#f0f921\"]]}],\"heatmapgl\":[{\"type\":\"heatmapgl\",\"colorbar\":{\"outlinewidth\":0,\"ticks\":\"\"},\"colorscale\":[[0.0,\"#0d0887\"],[0.1111111111111111,\"#46039f\"],[0.2222222222222222,\"#7201a8\"],[0.3333333333333333,\"#9c179e\"],[0.4444444444444444,\"#bd3786\"],[0.5555555555555556,\"#d8576b\"],[0.6666666666666666,\"#ed7953\"],[0.7777777777777778,\"#fb9f3a\"],[0.8888888888888888,\"#fdca26\"],[1.0,\"#f0f921\"]]}],\"contourcarpet\":[{\"type\":\"contourcarpet\",\"colorbar\":{\"outlinewidth\":0,\"ticks\":\"\"}}],\"contour\":[{\"type\":\"contour\",\"colorbar\":{\"outlinewidth\":0,\"ticks\":\"\"},\"colorscale\":[[0.0,\"#0d0887\"],[0.1111111111111111,\"#46039f\"],[0.2222222222222222,\"#7201a8\"],[0.3333333333333333,\"#9c179e\"],[0.4444444444444444,\"#bd3786\"],[0.5555555555555556,\"#d8576b\"],[0.6666666666666666,\"#ed7953\"],[0.7777777777777778,\"#fb9f3a\"],[0.8888888888888888,\"#fdca26\"],[1.0,\"#f0f921\"]]}],\"surface\":[{\"type\":\"surface\",\"colorbar\":{\"outlinewidth\":0,\"ticks\":\"\"},\"colorscale\":[[0.0,\"#0d0887\"],[0.1111111111111111,\"#46039f\"],[0.2222222222222222,\"#7201a8\"],[0.3333333333333333,\"#9c179e\"],[0.4444444444444444,\"#bd3786\"],[0.5555555555555556,\"#d8576b\"],[0.6666666666666666,\"#ed7953\"],[0.7777777777777778,\"#fb9f3a\"],[0.8888888888888888,\"#fdca26\"],[1.0,\"#f0f921\"]]}],\"mesh3d\":[{\"type\":\"mesh3d\",\"colorbar\":{\"outlinewidth\":0,\"ticks\":\"\"}}],\"scatter\":[{\"fillpattern\":{\"fillmode\":\"overlay\",\"size\":10,\"solidity\":0.2},\"type\":\"scatter\"}],\"parcoords\":[{\"type\":\"parcoords\",\"line\":{\"colorbar\":{\"outlinewidth\":0,\"ticks\":\"\"}}}],\"scatterpolargl\":[{\"type\":\"scatterpolargl\",\"marker\":{\"colorbar\":{\"outlinewidth\":0,\"ticks\":\"\"}}}],\"bar\":[{\"error_x\":{\"color\":\"#2a3f5f\"},\"error_y\":{\"color\":\"#2a3f5f\"},\"marker\":{\"line\":{\"color\":\"#E5ECF6\",\"width\":0.5},\"pattern\":{\"fillmode\":\"overlay\",\"size\":10,\"solidity\":0.2}},\"type\":\"bar\"}],\"scattergeo\":[{\"type\":\"scattergeo\",\"marker\":{\"colorbar\":{\"outlinewidth\":0,\"ticks\":\"\"}}}],\"scatterpolar\":[{\"type\":\"scatterpolar\",\"marker\":{\"colorbar\":{\"outlinewidth\":0,\"ticks\":\"\"}}}],\"histogram\":[{\"marker\":{\"pattern\":{\"fillmode\":\"overlay\",\"size\":10,\"solidity\":0.2}},\"type\":\"histogram\"}],\"scattergl\":[{\"type\":\"scattergl\",\"marker\":{\"colorbar\":{\"outlinewidth\":0,\"ticks\":\"\"}}}],\"scatter3d\":[{\"type\":\"scatter3d\",\"line\":{\"colorbar\":{\"outlinewidth\":0,\"ticks\":\"\"}},\"marker\":{\"colorbar\":{\"outlinewidth\":0,\"ticks\":\"\"}}}],\"scattermapbox\":[{\"type\":\"scattermapbox\",\"marker\":{\"colorbar\":{\"outlinewidth\":0,\"ticks\":\"\"}}}],\"scatterternary\":[{\"type\":\"scatterternary\",\"marker\":{\"colorbar\":{\"outlinewidth\":0,\"ticks\":\"\"}}}],\"scattercarpet\":[{\"type\":\"scattercarpet\",\"marker\":{\"colorbar\":{\"outlinewidth\":0,\"ticks\":\"\"}}}],\"carpet\":[{\"aaxis\":{\"endlinecolor\":\"#2a3f5f\",\"gridcolor\":\"white\",\"linecolor\":\"white\",\"minorgridcolor\":\"white\",\"startlinecolor\":\"#2a3f5f\"},\"baxis\":{\"endlinecolor\":\"#2a3f5f\",\"gridcolor\":\"white\",\"linecolor\":\"white\",\"minorgridcolor\":\"white\",\"startlinecolor\":\"#2a3f5f\"},\"type\":\"carpet\"}],\"table\":[{\"cells\":{\"fill\":{\"color\":\"#EBF0F8\"},\"line\":{\"color\":\"white\"}},\"header\":{\"fill\":{\"color\":\"#C8D4E3\"},\"line\":{\"color\":\"white\"}},\"type\":\"table\"}],\"barpolar\":[{\"marker\":{\"line\":{\"color\":\"#E5ECF6\",\"width\":0.5},\"pattern\":{\"fillmode\":\"overlay\",\"size\":10,\"solidity\":0.2}},\"type\":\"barpolar\"}],\"pie\":[{\"automargin\":true,\"type\":\"pie\"}]},\"layout\":{\"autotypenumbers\":\"strict\",\"colorway\":[\"#636efa\",\"#EF553B\",\"#00cc96\",\"#ab63fa\",\"#FFA15A\",\"#19d3f3\",\"#FF6692\",\"#B6E880\",\"#FF97FF\",\"#FECB52\"],\"font\":{\"color\":\"#2a3f5f\"},\"hovermode\":\"closest\",\"hoverlabel\":{\"align\":\"left\"},\"paper_bgcolor\":\"white\",\"plot_bgcolor\":\"#E5ECF6\",\"polar\":{\"bgcolor\":\"#E5ECF6\",\"angularaxis\":{\"gridcolor\":\"white\",\"linecolor\":\"white\",\"ticks\":\"\"},\"radialaxis\":{\"gridcolor\":\"white\",\"linecolor\":\"white\",\"ticks\":\"\"}},\"ternary\":{\"bgcolor\":\"#E5ECF6\",\"aaxis\":{\"gridcolor\":\"white\",\"linecolor\":\"white\",\"ticks\":\"\"},\"baxis\":{\"gridcolor\":\"white\",\"linecolor\":\"white\",\"ticks\":\"\"},\"caxis\":{\"gridcolor\":\"white\",\"linecolor\":\"white\",\"ticks\":\"\"}},\"coloraxis\":{\"colorbar\":{\"outlinewidth\":0,\"ticks\":\"\"}},\"colorscale\":{\"sequential\":[[0.0,\"#0d0887\"],[0.1111111111111111,\"#46039f\"],[0.2222222222222222,\"#7201a8\"],[0.3333333333333333,\"#9c179e\"],[0.4444444444444444,\"#bd3786\"],[0.5555555555555556,\"#d8576b\"],[0.6666666666666666,\"#ed7953\"],[0.7777777777777778,\"#fb9f3a\"],[0.8888888888888888,\"#fdca26\"],[1.0,\"#f0f921\"]],\"sequentialminus\":[[0.0,\"#0d0887\"],[0.1111111111111111,\"#46039f\"],[0.2222222222222222,\"#7201a8\"],[0.3333333333333333,\"#9c179e\"],[0.4444444444444444,\"#bd3786\"],[0.5555555555555556,\"#d8576b\"],[0.6666666666666666,\"#ed7953\"],[0.7777777777777778,\"#fb9f3a\"],[0.8888888888888888,\"#fdca26\"],[1.0,\"#f0f921\"]],\"diverging\":[[0,\"#8e0152\"],[0.1,\"#c51b7d\"],[0.2,\"#de77ae\"],[0.3,\"#f1b6da\"],[0.4,\"#fde0ef\"],[0.5,\"#f7f7f7\"],[0.6,\"#e6f5d0\"],[0.7,\"#b8e186\"],[0.8,\"#7fbc41\"],[0.9,\"#4d9221\"],[1,\"#276419\"]]},\"xaxis\":{\"gridcolor\":\"white\",\"linecolor\":\"white\",\"ticks\":\"\",\"title\":{\"standoff\":15},\"zerolinecolor\":\"white\",\"automargin\":true,\"zerolinewidth\":2},\"yaxis\":{\"gridcolor\":\"white\",\"linecolor\":\"white\",\"ticks\":\"\",\"title\":{\"standoff\":15},\"zerolinecolor\":\"white\",\"automargin\":true,\"zerolinewidth\":2},\"scene\":{\"xaxis\":{\"backgroundcolor\":\"#E5ECF6\",\"gridcolor\":\"white\",\"linecolor\":\"white\",\"showbackground\":true,\"ticks\":\"\",\"zerolinecolor\":\"white\",\"gridwidth\":2},\"yaxis\":{\"backgroundcolor\":\"#E5ECF6\",\"gridcolor\":\"white\",\"linecolor\":\"white\",\"showbackground\":true,\"ticks\":\"\",\"zerolinecolor\":\"white\",\"gridwidth\":2},\"zaxis\":{\"backgroundcolor\":\"#E5ECF6\",\"gridcolor\":\"white\",\"linecolor\":\"white\",\"showbackground\":true,\"ticks\":\"\",\"zerolinecolor\":\"white\",\"gridwidth\":2}},\"shapedefaults\":{\"line\":{\"color\":\"#2a3f5f\"}},\"annotationdefaults\":{\"arrowcolor\":\"#2a3f5f\",\"arrowhead\":0,\"arrowwidth\":1},\"geo\":{\"bgcolor\":\"white\",\"landcolor\":\"#E5ECF6\",\"subunitcolor\":\"white\",\"showland\":true,\"showlakes\":true,\"lakecolor\":\"white\"},\"title\":{\"x\":0.05},\"mapbox\":{\"style\":\"light\"}}},\"xaxis\":{\"anchor\":\"y\",\"domain\":[0.0,1.0],\"title\":{\"text\":\"Month\"},\"tickvals\":[1,32,60,91,121,152,182,213,244,274,305,335],\"ticktext\":[\"Jan\",\"Feb\",\"March\",\"April\",\"May\",\"June\",\"July\",\"Aug\",\"Sep\",\"Oct\",\"Nov\",\"Dec\"],\"linecolor\":\"black\"},\"yaxis\":{\"anchor\":\"x\",\"domain\":[0.0,1.0],\"title\":{\"text\":\"Close Prices ($)\"},\"rangemode\":\"tozero\",\"linecolor\":\"black\"},\"legend\":{\"title\":{\"text\":\"Year\"},\"tracegroupgap\":0},\"margin\":{\"t\":60},\"title\":{\"text\":\"GOOG Stock Prices Until 2022-04-08\"},\"hovermode\":\"x\",\"plot_bgcolor\":\"rgba(0,0,0,0)\",\"paper_bgcolor\":\"rgba(0,0,0,0)\"},                        {\"responsive\": true}                    ).then(function(){\n",
       "                            \n",
       "var gd = document.getElementById('8a7d0b24-ce25-4fb9-929c-5c2689531931');\n",
       "var x = new MutationObserver(function (mutations, observer) {{\n",
       "        var display = window.getComputedStyle(gd).display;\n",
       "        if (!display || display === 'none') {{\n",
       "            console.log([gd, 'removed!']);\n",
       "            Plotly.purge(gd);\n",
       "            observer.disconnect();\n",
       "        }}\n",
       "}});\n",
       "\n",
       "// Listen for the removal of the full notebook cells\n",
       "var notebookContainer = gd.closest('#notebook-container');\n",
       "if (notebookContainer) {{\n",
       "    x.observe(notebookContainer, {childList: true});\n",
       "}}\n",
       "\n",
       "// Listen for the clearing of the current output cell\n",
       "var outputEl = gd.closest('.output');\n",
       "if (outputEl) {{\n",
       "    x.observe(outputEl, {childList: true});\n",
       "}}\n",
       "\n",
       "                        })                };                });            </script>        </div>"
      ]
     },
     "metadata": {},
     "output_type": "display_data"
    }
   ],
   "source": [
    "fig = px.line(final_graph_df, x='DOY_Label', y=['Close_Price'], color = 'Year', hover_data = {\"Date\": \"|%B %d, %Y\", \"DOY_Label\":False}).update_traces(connectgaps = True)\n",
    "fig.add_scatter(name = \"Predicted\", x = final_pred_df.DOY_Label, y = final_pred_df.Close_Price)\n",
    "\n",
    "fig.update_traces(mode='markers+lines')\n",
    "fig.update_xaxes(\n",
    "    title_text = \"Month\",\n",
    "    tickvals = [1, 32, 60, 91, 121, 152, 182, 213, 244, 274, 305, 335],\n",
    "    ticktext = ['Jan', 'Feb', 'March', 'April', 'May', 'June', 'July', 'Aug', 'Sep', 'Oct', 'Nov', 'Dec']\n",
    ")\n",
    "\n",
    "\n",
    "pred_color1 = 'rgba(68, 68, 68, 0.2)'\n",
    "pred_color2 = 'rgba(68, 68, 68, 0.1)'\n",
    "\n",
    "fig.add_scatter(name = 'Upper Bound: 68%', x = ci_df.DOY_Label, y=ci_df.Upper1, mode = 'lines', showlegend = True, marker = dict(color=pred_color1, line=dict(width=0)))\n",
    "fig.add_scatter(name = 'Lower Bound: 68%', x = ci_df.DOY_Label, y=ci_df.Lower1, mode = 'lines', showlegend = True, fillcolor=pred_color1, fill='tonexty', marker = dict(color=pred_color1, line=dict(width=0)))\n",
    "\n",
    "fig.add_scatter(name = 'Upper Bound: 90%', x = ci_df.DOY_Label, y=ci_df.Upper2, mode = 'lines', showlegend = True, marker = dict(color=pred_color2, line=dict(width=0)))\n",
    "fig.add_scatter(name = 'Lower Bound: 90%', x = ci_df.DOY_Label, y=ci_df.Lower2, mode = 'lines', showlegend = True, fillcolor=pred_color2, fill='tonexty', marker = dict(color=pred_color2, line=dict(width=0)))\n",
    "\n",
    "\n",
    "fig.update_layout(\n",
    "    yaxis_title='Close Prices ($)',\n",
    "    title=stock_name + ' Stock Prices Until ' + str(latest_date),\n",
    "    hovermode=\"x\",\n",
    "    plot_bgcolor='rgba(0,0,0,0)',\n",
    "    paper_bgcolor='rgba(0,0,0,0)'\n",
    ")\n",
    "\n",
    "fig.update_xaxes(linecolor = 'black')\n",
    "fig.update_yaxes(rangemode=\"tozero\", linecolor = 'black')\n",
    "fig.show()\n"
   ]
  },
  {
   "cell_type": "markdown",
   "id": "bce8082d",
   "metadata": {},
   "source": [
    "# Conclusion\n",
    "\n",
    "This project explores the use of a polynomial linear regression model on time series data to forecast and predict future data points. Although the model did not accurately predict exact future data points, it was still able to provide a rough idea of the overall shape of the future data points. The project provided valuable learning experiences in polynomial linear regression, forecasting and predicting future data points using the model, and creating prediction intervals and visualizations of the data. Overall, the project contributed to a deeper understanding of the capabilities and limitations of polynomial linear regression modeling on time series data."
   ]
  }
 ],
 "metadata": {
  "kernelspec": {
   "display_name": "Python 3 (ipykernel)",
   "language": "python",
   "name": "python3"
  },
  "language_info": {
   "codemirror_mode": {
    "name": "ipython",
    "version": 3
   },
   "file_extension": ".py",
   "mimetype": "text/x-python",
   "name": "python",
   "nbconvert_exporter": "python",
   "pygments_lexer": "ipython3",
   "version": "3.9.7"
  }
 },
 "nbformat": 4,
 "nbformat_minor": 5
}
